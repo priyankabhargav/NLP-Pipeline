{
 "cells": [
  {
   "cell_type": "code",
   "execution_count": 73,
   "id": "9003237d",
   "metadata": {},
   "outputs": [],
   "source": [
    "from inspect import signature\n",
    "import time\n",
    "import pprint\n",
    "import pandas as pd\n",
    "import requests\n",
    "import sys\n",
    "import json\n",
    "import pymongo\n",
    "from crossref.restful import Works\n",
    "import datetime\n",
    "from wordcloud import WordCloud, STOPWORDS, ImageColorGenerator\n",
    "import matplotlib.pyplot as plt\n",
    "import re\n",
    "from gensim.models import Word2Vec\n",
    "from gensim.parsing.preprocessing import remove_stopwords\n",
    "%matplotlib inline"
   ]
  },
  {
   "cell_type": "code",
   "execution_count": 2,
   "id": "2cbe70ce",
   "metadata": {},
   "outputs": [],
   "source": [
    "# works = Works()"
   ]
  },
  {
   "cell_type": "code",
   "execution_count": 3,
   "id": "e0feb083",
   "metadata": {},
   "outputs": [],
   "source": [
    "# help(works.query)"
   ]
  },
  {
   "cell_type": "code",
   "execution_count": 4,
   "id": "1703ea32",
   "metadata": {},
   "outputs": [],
   "source": [
    "# for item in works.sample(1):\n",
    "#     print(item.keys())"
   ]
  },
  {
   "cell_type": "code",
   "execution_count": 5,
   "id": "25fd8e71",
   "metadata": {},
   "outputs": [],
   "source": [
    "#query to be used\n",
    "# \"automated literature review\"  OR  \n",
    "# \"automated literature search\"  OR  \n",
    "# \"automated literature discovery\"  AND  \n",
    "# \"NLP\"  AND  \n",
    "# \"Machine Learning\""
   ]
  },
  {
   "cell_type": "code",
   "execution_count": 6,
   "id": "1b223cb0",
   "metadata": {},
   "outputs": [],
   "source": [
    "# works.query('Automatic Systematic Reviews using machine learning or natural language processing').count()"
   ]
  },
  {
   "cell_type": "code",
   "execution_count": 7,
   "id": "d5251417",
   "metadata": {},
   "outputs": [],
   "source": [
    "# query_string = 'Automated literature and systematic Reviews'"
   ]
  },
  {
   "cell_type": "code",
   "execution_count": 8,
   "id": "64a7ce0b",
   "metadata": {},
   "outputs": [],
   "source": [
    "# w1 = works.query(bibliographic=query_string).select('DOI','title','is-referenced-by-count','score','subject')"
   ]
  },
  {
   "cell_type": "code",
   "execution_count": 9,
   "id": "a7abb1db",
   "metadata": {},
   "outputs": [],
   "source": [
    "# w1.count()"
   ]
  },
  {
   "cell_type": "code",
   "execution_count": 10,
   "id": "02ab1c40",
   "metadata": {},
   "outputs": [],
   "source": [
    "# li_all=[]\n",
    "# start = time.time()\n",
    "# for item in w1:\n",
    "#     li_all.append(item.values())\n",
    "# end = time.time()\n",
    "# print(end-start)"
   ]
  },
  {
   "cell_type": "code",
   "execution_count": 11,
   "id": "bb9797d5",
   "metadata": {},
   "outputs": [],
   "source": [
    "#(\"automated literature review\"  OR  \"automated literature search\"  OR  \"automated literature discovery\"  AND  \"NLP\"  AND  \"Machine Learning\")"
   ]
  },
  {
   "cell_type": "code",
   "execution_count": 12,
   "id": "5e92a0a2",
   "metadata": {},
   "outputs": [],
   "source": [
    "# w1 = works.query(bibliographic='Systematic Literature Review', author='johannes', publisher_name='Wiley-Blackwell')\n",
    "\n",
    "# for item in w1:\n",
    "#     print(item['title'])"
   ]
  },
  {
   "cell_type": "code",
   "execution_count": 13,
   "id": "4cb1af7c",
   "metadata": {},
   "outputs": [],
   "source": [
    "# download all the data related to query from crossref -- done\n",
    "# then store it somewhere probably in mongodb\n",
    "# remove duplicates\n",
    "# 1 paper 1 row\n",
    "# do clustering and find keywords for every cluster\n"
   ]
  },
  {
   "cell_type": "code",
   "execution_count": 14,
   "id": "45f9bcf9",
   "metadata": {},
   "outputs": [],
   "source": [
    "# https://api.crossref.org/works?query.affiliation=Kalyani+University&filter=from-pub-date:2020-01-01,until-pub-date:2020-12-31,type:journal-article&select=DOI,title,container-title&rows=2&offset=0"
   ]
  },
  {
   "cell_type": "code",
   "execution_count": 15,
   "id": "9043f695",
   "metadata": {},
   "outputs": [],
   "source": [
    "# https://api.crossref.org/works?query.affiliation=Automated+literature+and+systematic+Reviews&filter=type:journal-article&select=DOI,title,container-title"
   ]
  },
  {
   "cell_type": "code",
   "execution_count": 16,
   "id": "1c86786a",
   "metadata": {},
   "outputs": [],
   "source": [
    "# https://api.crossref.org/works?query.affiliation=Automated+literature+systematic+Reviews&filter=type:journal-article&select=DOI,publisher,title,is-referenced-by-count,score,subject,author,URL"
   ]
  },
  {
   "cell_type": "code",
   "execution_count": 17,
   "id": "0da76e64",
   "metadata": {},
   "outputs": [],
   "source": [
    "# sys.getsizeof(response) #0.4 mb"
   ]
  },
  {
   "cell_type": "code",
   "execution_count": 18,
   "id": "a2d6c986",
   "metadata": {},
   "outputs": [],
   "source": [
    "# response = requests.get('https://api.crossref.org/works?query.title=Automated+literature+and+systematic+Reviews&filter=type:journal-article&select=DOI,title,score&rows=1000&cursor=*"
   ]
  },
  {
   "cell_type": "code",
   "execution_count": 19,
   "id": "395e6701",
   "metadata": {},
   "outputs": [],
   "source": [
    "#starts from here........"
   ]
  },
  {
   "cell_type": "code",
   "execution_count": 20,
   "id": "844aefaa",
   "metadata": {},
   "outputs": [],
   "source": [
    "def get_latest_date():\n",
    "    \n",
    "    response = requests.get('https://api.crossref.org/works?query=Automated+literature+and+systematic+Reviews&filter=type:journal-article&select=DOI,title,score,created&sort=created&order=desc&rows=1&cursor=*').text\n",
    "    response_info = json.loads(response)\n",
    "    latest_date = response_info['message']['items'][0]['created']['date-parts'][0]\n",
    "    return latest_date\n",
    "    "
   ]
  },
  {
   "cell_type": "code",
   "execution_count": 21,
   "id": "4c8d744f",
   "metadata": {},
   "outputs": [],
   "source": [
    "def get_oldest_date():\n",
    "    \n",
    "    response = requests.get('https://api.crossref.org/works?query=Automated+literature+and+systematic+Reviews&filter=type:journal-article&select=DOI,title,score,created&sort=created&order=asc&rows=1&cursor=*').text\n",
    "    response_info = json.loads(response)\n",
    "    oldest_date = response_info['message']['items'][0]['created']['date-parts'][0]\n",
    "    return oldest_date\n",
    "\n"
   ]
  },
  {
   "cell_type": "code",
   "execution_count": 22,
   "id": "5b06d329",
   "metadata": {},
   "outputs": [
    {
     "data": {
      "text/plain": [
       "[2022, 11, 27]"
      ]
     },
     "execution_count": 22,
     "metadata": {},
     "output_type": "execute_result"
    }
   ],
   "source": [
    "latest_date = get_latest_date()\n",
    "latest_date"
   ]
  },
  {
   "cell_type": "code",
   "execution_count": 23,
   "id": "0a4127b0",
   "metadata": {},
   "outputs": [
    {
     "data": {
      "text/plain": [
       "[2002, 7, 25]"
      ]
     },
     "execution_count": 23,
     "metadata": {},
     "output_type": "execute_result"
    }
   ],
   "source": [
    "oldest_date = get_oldest_date()\n",
    "oldest_date"
   ]
  },
  {
   "cell_type": "code",
   "execution_count": 24,
   "id": "d662e726",
   "metadata": {},
   "outputs": [],
   "source": [
    "base_oldest = datetime.date(oldest_date[0],oldest_date[1],oldest_date[2])\n",
    "base_latest = datetime.date(latest_date[0],latest_date[1],latest_date[2])\n",
    "numweeks = 4\n",
    "upd_date = base_oldest\n",
    "date_list=[]\n",
    "while upd_date <= base_latest:\n",
    "    date_list.append(upd_date)\n",
    "    upd_date = upd_date + datetime.timedelta(weeks=numweeks)\n",
    "    \n",
    "    date_list.append(upd_date)"
   ]
  },
  {
   "cell_type": "code",
   "execution_count": 25,
   "id": "05a20205",
   "metadata": {},
   "outputs": [],
   "source": [
    "def init_url(date_list):\n",
    "    url = 'https://api.crossref.org/works?query=Automated+literature+and+systematic+Reviews&filter=type:journal-article,from-created-date:'\n",
    "    url = url+str(date_list[0])+',until-created-date:'+str(date_list[1])+'&select=DOI,title,score,created&rows=1000&cursor=*'\n",
    "    return url"
   ]
  },
  {
   "cell_type": "code",
   "execution_count": 26,
   "id": "93ed2d7b",
   "metadata": {},
   "outputs": [],
   "source": [
    "def cursor_url(date_list, cursor):\n",
    "    url = 'https://api.crossref.org/works?query=Automated+literature+and+systematic+Reviews&filter=type:journal-article,from-created-date:'\n",
    "    url = url+str(date_list[0])+',until-created-date:'+str(date_list[1])+'&select=DOI,title,score,created&rows=1000&cursor='\n",
    "    url = url + str(cursor)\n",
    "    return url\n",
    "    "
   ]
  },
  {
   "cell_type": "code",
   "execution_count": 27,
   "id": "d40e3c6c",
   "metadata": {},
   "outputs": [
    {
     "name": "stdout",
     "output_type": "stream",
     "text": [
      "thesis ← database exists\n"
     ]
    }
   ],
   "source": [
    "db_name = \"thesis\"\n",
    "test_client = pymongo.MongoClient('mongodb://localhost:27017/')\n",
    "test_db = test_client[db_name]\n",
    "\n",
    "\n",
    "def check_for_db(test_client,db_name):\n",
    "    dblist = test_client.list_database_names()\n",
    "    if db_name in dblist:\n",
    "        print(db_name + ' ← database exists')\n",
    "    else:\n",
    "        print(db_name + ' ← database does NOT exists')\n",
    "check_for_db(test_client,db_name) # check if database exists or not\n",
    "\n",
    "\n",
    "# make collection\n",
    "col_name='query_results'\n",
    "test_col = test_db[col_name]"
   ]
  },
  {
   "cell_type": "code",
   "execution_count": 28,
   "id": "2336f15c",
   "metadata": {},
   "outputs": [],
   "source": [
    "date_list = list(set(date_list))"
   ]
  },
  {
   "cell_type": "code",
   "execution_count": 29,
   "id": "fc2ff5fc",
   "metadata": {},
   "outputs": [],
   "source": [
    "date_list.sort()"
   ]
  },
  {
   "cell_type": "code",
   "execution_count": 33,
   "id": "b92bd79c",
   "metadata": {
    "scrolled": true
   },
   "outputs": [
    {
     "name": "stdout",
     "output_type": "stream",
     "text": [
      "https://api.crossref.org/works?query=Automated+literature+and+systematic+Reviews&filter=type:journal-article,from-created-date:2011-05-19,until-created-date:2011-06-16&select=DOI,title,score,created&rows=1000&cursor=DnF1ZXJ5VGhlbkZldGNoBgAAAAAAwSC2FjFGV1lXWE94VGU2bUMzaVRjNzc2aFEAAAAAFvMkDxZHblpDbkEzT1FvRy0tOGFOZ05EOHVnAAAAAADBILcWMUZXWVdYT3hUZTZtQzNpVGM3NzZoUQAAAAAR3hFNFjdhbGlIQ0JtVEVlMW9yN2RJbTBZV2cAAAAAEhxM0xZDNTBUdXhPeVM0bUg3UnZzcl9lR2N3AAAAABBuoHgWSTFVWlpBeGRTWi1nRllxOU9nQUYydw== \n",
      "\n",
      "*************\n",
      "All Extracted:moving on to next segment\n",
      "https://api.crossref.org/works?query=Automated+literature+and+systematic+Reviews&filter=type:journal-article,from-created-date:2011-06-16,until-created-date:2011-07-14&select=DOI,title,score,created&rows=1000&cursor=DnF1ZXJ5VGhlbkZldGNoBgAAAAAAwSFAFjFGV1lXWE94VGU2bUMzaVRjNzc2aFEAAAAAD3dXGRY0amo4YndCWVRadUx4QV9WQlVKWHdnAAAAAADBIUEWMUZXWVdYT3hUZTZtQzNpVGM3NzZoUQAAAAAR3hGLFjdhbGlIQ0JtVEVlMW9yN2RJbTBZV2cAAAAAEhxNPxZDNTBUdXhPeVM0bUg3UnZzcl9lR2N3AAAAABBuoM4WSTFVWlpBeGRTWi1nRllxOU9nQUYydw== \n",
      "\n",
      "*************\n",
      "All Extracted:moving on to next segment\n",
      "https://api.crossref.org/works?query=Automated+literature+and+systematic+Reviews&filter=type:journal-article,from-created-date:2011-07-14,until-created-date:2011-08-11&select=DOI,title,score,created&rows=1000&cursor=DnF1ZXJ5VGhlbkZldGNoBgAAAAASIjY4FkhUQjJYNFlSVFVPT1k5bVZmVDQzQXcAAAAAD3dXeBY0amo4YndCWVRadUx4QV9WQlVKWHdnAAAAABbzJUUWR25aQ25BM09Rb0ctLThhTmdORDh1ZwAAAAASnA-pFk5qWk1fWm1iUVV1V3Nwd3MxN3FqQ3cAAAAAEhxNqxZDNTBUdXhPeVM0bUg3UnZzcl9lR2N3AAAAABB3mlYWaDRJMjhrcXVUOGE3dDI1VDhnWHMyZw== \n",
      "\n",
      "*************\n",
      "All Extracted:moving on to next segment\n",
      "https://api.crossref.org/works?query=Automated+literature+and+systematic+Reviews&filter=type:journal-article,from-created-date:2011-08-11,until-created-date:2011-09-08&select=DOI,title,score,created&rows=1000&cursor=DnF1ZXJ5VGhlbkZldGNoBgAAAAASIjaMFkhUQjJYNFlSVFVPT1k5bVZmVDQzQXcAAAAAD3dXzBY0amo4YndCWVRadUx4QV9WQlVKWHdnAAAAABbzJc4WR25aQ25BM09Rb0ctLThhTmdORDh1ZwAAAAASnBAOFk5qWk1fWm1iUVV1V3Nwd3MxN3FqQ3cAAAAAEhxOCxZDNTBUdXhPeVM0bUg3UnZzcl9lR2N3AAAAABB3mqIWaDRJMjhrcXVUOGE3dDI1VDhnWHMyZw== \n",
      "\n",
      "*************\n",
      "All Extracted:moving on to next segment\n",
      "https://api.crossref.org/works?query=Automated+literature+and+systematic+Reviews&filter=type:journal-article,from-created-date:2011-09-08,until-created-date:2011-10-06&select=DOI,title,score,created&rows=1000&cursor=DnF1ZXJ5VGhlbkZldGNoBgAAAAASIjbeFkhUQjJYNFlSVFVPT1k5bVZmVDQzQXcAAAAAFvMmYRZHblpDbkEzT1FvRy0tOGFOZ05EOHVnAAAAABbzJmIWR25aQ25BM09Rb0ctLThhTmdORDh1ZwAAAAASnBBoFk5qWk1fWm1iUVV1V3Nwd3MxN3FqQ3cAAAAAD_FFHBZfNEZlTDBRZ1FuLWZ4NVhlZU9MYzN3AAAAABB3mukWaDRJMjhrcXVUOGE3dDI1VDhnWHMyZw== \n",
      "\n",
      "*************\n",
      "All Extracted:moving on to next segment\n",
      "https://api.crossref.org/works?query=Automated+literature+and+systematic+Reviews&filter=type:journal-article,from-created-date:2011-10-06,until-created-date:2011-11-03&select=DOI,title,score,created&rows=1000&cursor=DnF1ZXJ5VGhlbkZldGNoBgAAAAAAwSQRFjFGV1lXWE94VGU2bUMzaVRjNzc2aFEAAAAAD3dYtRY0amo4YndCWVRadUx4QV9WQlVKWHdnAAAAAADBJBIWMUZXWVdYT3hUZTZtQzNpVGM3NzZoUQAAAAAR3hLpFjdhbGlIQ0JtVEVlMW9yN2RJbTBZV2cAAAAAEhxPEhZDNTBUdXhPeVM0bUg3UnZzcl9lR2N3AAAAABBuongWSTFVWlpBeGRTWi1nRllxOU9nQUYydw== \n",
      "\n",
      "*************\n",
      "All Extracted:moving on to next segment\n",
      "https://api.crossref.org/works?query=Automated+literature+and+systematic+Reviews&filter=type:journal-article,from-created-date:2011-11-03,until-created-date:2011-12-01&select=DOI,title,score,created&rows=1000&cursor=DnF1ZXJ5VGhlbkZldGNoBgAAAAASIjfpFkhUQjJYNFlSVFVPT1k5bVZmVDQzQXcAAAAAD3dZJhY0amo4YndCWVRadUx4QV9WQlVKWHdnAAAAAADBJNIWMUZXWVdYT3hUZTZtQzNpVGM3NzZoUQAAAAASnBGfFk5qWk1fWm1iUVV1V3Nwd3MxN3FqQ3cAAAAAEhxPkhZDNTBUdXhPeVM0bUg3UnZzcl9lR2N3AAAAABBuovMWSTFVWlpBeGRTWi1nRllxOU9nQUYydw== \n",
      "\n",
      "*************\n",
      "All Extracted:moving on to next segment\n",
      "https://api.crossref.org/works?query=Automated+literature+and+systematic+Reviews&filter=type:journal-article,from-created-date:2011-12-01,until-created-date:2011-12-29&select=DOI,title,score,created&rows=1000&cursor=DnF1ZXJ5VGhlbkZldGNoBgAAAAASIjkeFkhUQjJYNFlSVFVPT1k5bVZmVDQzQXcAAAAAD3daWRY0amo4YndCWVRadUx4QV9WQlVKWHdnAAAAABbzKf0WR25aQ25BM09Rb0ctLThhTmdORDh1ZwAAAAASnBMAFk5qWk1fWm1iUVV1V3Nwd3MxN3FqQ3cAAAAAEhxQ8BZDNTBUdXhPeVM0bUg3UnZzcl9lR2N3AAAAABB3nNYWaDRJMjhrcXVUOGE3dDI1VDhnWHMyZw== \n",
      "\n",
      "*************\n",
      "All Extracted:moving on to next segment\n",
      "https://api.crossref.org/works?query=Automated+literature+and+systematic+Reviews&filter=type:journal-article,from-created-date:2011-12-29,until-created-date:2012-01-26&select=DOI,title,score,created&rows=1000&cursor=DnF1ZXJ5VGhlbkZldGNoBgAAAAASIjl8FkhUQjJYNFlSVFVPT1k5bVZmVDQzQXcAAAAAD3datBY0amo4YndCWVRadUx4QV9WQlVKWHdnAAAAAADBJzwWMUZXWVdYT3hUZTZtQzNpVGM3NzZoUQAAAAASnBNiFk5qWk1fWm1iUVV1V3Nwd3MxN3FqQ3cAAAAAEhxRUhZDNTBUdXhPeVM0bUg3UnZzcl9lR2N3AAAAABB3nSwWaDRJMjhrcXVUOGE3dDI1VDhnWHMyZw== \n",
      "\n",
      "*************\n",
      "All Extracted:moving on to next segment\n",
      "https://api.crossref.org/works?query=Automated+literature+and+systematic+Reviews&filter=type:journal-article,from-created-date:2012-01-26,until-created-date:2012-02-23&select=DOI,title,score,created&rows=1000&cursor=DnF1ZXJ5VGhlbkZldGNoBgAAAAASIjoYFkhUQjJYNFlSVFVPT1k5bVZmVDQzQXcAAAAAD3dbURY0amo4YndCWVRadUx4QV9WQlVKWHdnAAAAABbzK5YWR25aQ25BM09Rb0ctLThhTmdORDh1ZwAAAAASnBQzFk5qWk1fWm1iUVV1V3Nwd3MxN3FqQ3cAAAAAEhxSKxZDNTBUdXhPeVM0bUg3UnZzcl9lR2N3AAAAABB3nbIWaDRJMjhrcXVUOGE3dDI1VDhnWHMyZw== \n",
      "\n",
      "*************\n",
      "All Extracted:moving on to next segment\n",
      "https://api.crossref.org/works?query=Automated+literature+and+systematic+Reviews&filter=type:journal-article,from-created-date:2012-02-23,until-created-date:2012-03-22&select=DOI,title,score,created&rows=1000&cursor=DnF1ZXJ5VGhlbkZldGNoBgAAAAASIjrZFkhUQjJYNFlSVFVPT1k5bVZmVDQzQXcAAAAAD3dcKBY0amo4YndCWVRadUx4QV9WQlVKWHdnAAAAAADBKasWMUZXWVdYT3hUZTZtQzNpVGM3NzZoUQAAAAASnBVOFk5qWk1fWm1iUVV1V3Nwd3MxN3FqQ3cAAAAAEhxTSBZDNTBUdXhPeVM0bUg3UnZzcl9lR2N3AAAAABB3nlkWaDRJMjhrcXVUOGE3dDI1VDhnWHMyZw== \n",
      "\n",
      "*************\n",
      "All Extracted:moving on to next segment\n",
      "https://api.crossref.org/works?query=Automated+literature+and+systematic+Reviews&filter=type:journal-article,from-created-date:2012-03-22,until-created-date:2012-04-19&select=DOI,title,score,created&rows=1000&cursor=DnF1ZXJ5VGhlbkZldGNoBgAAAAASIjtAFkhUQjJYNFlSVFVPT1k5bVZmVDQzQXcAAAAAD3dcmBY0amo4YndCWVRadUx4QV9WQlVKWHdnAAAAAADBKosWMUZXWVdYT3hUZTZtQzNpVGM3NzZoUQAAAAASnBXXFk5qWk1fWm1iUVV1V3Nwd3MxN3FqQ3cAAAAAEhxT2BZDNTBUdXhPeVM0bUg3UnZzcl9lR2N3AAAAABBupqIWSTFVWlpBeGRTWi1nRllxOU9nQUYydw== \n",
      "\n",
      "*************\n",
      "All Extracted:moving on to next segment\n",
      "https://api.crossref.org/works?query=Automated+literature+and+systematic+Reviews&filter=type:journal-article,from-created-date:2012-04-19,until-created-date:2012-05-17&select=DOI,title,score,created&rows=1000&cursor=DnF1ZXJ5VGhlbkZldGNoBgAAAAAAwSv9FjFGV1lXWE94VGU2bUMzaVRjNzc2aFEAAAAAD3ddehY0amo4YndCWVRadUx4QV9WQlVKWHdnAAAAAADBK_4WMUZXWVdYT3hUZTZtQzNpVGM3NzZoUQAAAAAR3hayFjdhbGlIQ0JtVEVlMW9yN2RJbTBZV2cAAAAAD_FKbxZfNEZlTDBRZ1FuLWZ4NVhlZU9MYzN3AAAAABBup5QWSTFVWlpBeGRTWi1nRllxOU9nQUYydw== \n",
      "\n",
      "*************\n",
      "All Extracted:moving on to next segment\n",
      "https://api.crossref.org/works?query=Automated+literature+and+systematic+Reviews&filter=type:journal-article,from-created-date:2012-05-17,until-created-date:2012-06-14&select=DOI,title,score,created&rows=1000&cursor=DnF1ZXJ5VGhlbkZldGNoBgAAAAASIjz2FkhUQjJYNFlSVFVPT1k5bVZmVDQzQXcAAAAAD3deRhY0amo4YndCWVRadUx4QV9WQlVKWHdnAAAAABbzMHMWR25aQ25BM09Rb0ctLThhTmdORDh1ZwAAAAASnBgRFk5qWk1fWm1iUVV1V3Nwd3MxN3FqQ3cAAAAAEhxWChZDNTBUdXhPeVM0bUg3UnZzcl9lR2N3AAAAABBuqHQWSTFVWlpBeGRTWi1nRllxOU9nQUYydw== \n",
      "\n",
      "*************\n",
      "All Extracted:moving on to next segment\n",
      "https://api.crossref.org/works?query=Automated+literature+and+systematic+Reviews&filter=type:journal-article,from-created-date:2012-06-14,until-created-date:2012-07-12&select=DOI,title,score,created&rows=1000&cursor=DnF1ZXJ5VGhlbkZldGNoBgAAAAAAwS4rFjFGV1lXWE94VGU2bUMzaVRjNzc2aFEAAAAAD3de0RY0amo4YndCWVRadUx4QV9WQlVKWHdnAAAAAADBLioWMUZXWVdYT3hUZTZtQzNpVGM3NzZoUQAAAAAR3hetFjdhbGlIQ0JtVEVlMW9yN2RJbTBZV2cAAAAAD_FLvRZfNEZlTDBRZ1FuLWZ4NVhlZU9MYzN3AAAAABBuqRAWSTFVWlpBeGRTWi1nRllxOU9nQUYydw== \n",
      "\n",
      "*************\n",
      "All Extracted:moving on to next segment\n",
      "https://api.crossref.org/works?query=Automated+literature+and+systematic+Reviews&filter=type:journal-article,from-created-date:2012-07-12,until-created-date:2012-08-09&select=DOI,title,score,created&rows=1000&cursor=DnF1ZXJ5VGhlbkZldGNoBgAAAAASIj41FkhUQjJYNFlSVFVPT1k5bVZmVDQzQXcAAAAAD3dfgxY0amo4YndCWVRadUx4QV9WQlVKWHdnAAAAAADBL0EWMUZXWVdYT3hUZTZtQzNpVGM3NzZoUQAAAAASnBmuFk5qWk1fWm1iUVV1V3Nwd3MxN3FqQ3cAAAAAEhxXlBZDNTBUdXhPeVM0bUg3UnZzcl9lR2N3AAAAABBuqcsWSTFVWlpBeGRTWi1nRllxOU9nQUYydw== \n",
      "\n",
      "*************\n"
     ]
    },
    {
     "name": "stdout",
     "output_type": "stream",
     "text": [
      "All Extracted:moving on to next segment\n",
      "https://api.crossref.org/works?query=Automated+literature+and+systematic+Reviews&filter=type:journal-article,from-created-date:2012-08-09,until-created-date:2012-09-06&select=DOI,title,score,created&rows=1000&cursor=DnF1ZXJ5VGhlbkZldGNoBgAAAAAAwTA-FjFGV1lXWE94VGU2bUMzaVRjNzc2aFEAAAAAD3dgGBY0amo4YndCWVRadUx4QV9WQlVKWHdnAAAAAADBMD8WMUZXWVdYT3hUZTZtQzNpVGM3NzZoUQAAAAAR3hiwFjdhbGlIQ0JtVEVlMW9yN2RJbTBZV2cAAAAAD_FM8BZfNEZlTDBRZ1FuLWZ4NVhlZU9MYzN3AAAAABBuqngWSTFVWlpBeGRTWi1nRllxOU9nQUYydw== \n",
      "\n",
      "*************\n",
      "All Extracted:moving on to next segment\n",
      "https://api.crossref.org/works?query=Automated+literature+and+systematic+Reviews&filter=type:journal-article,from-created-date:2012-09-06,until-created-date:2012-10-04&select=DOI,title,score,created&rows=1000&cursor=DnF1ZXJ5VGhlbkZldGNoBgAAAAASIj8oFkhUQjJYNFlSVFVPT1k5bVZmVDQzQXcAAAAAD3dghBY0amo4YndCWVRadUx4QV9WQlVKWHdnAAAAABbzM-0WR25aQ25BM09Rb0ctLThhTmdORDh1ZwAAAAASnBrUFk5qWk1fWm1iUVV1V3Nwd3MxN3FqQ3cAAAAAEhxYwRZDNTBUdXhPeVM0bUg3UnZzcl9lR2N3AAAAABB3ojoWaDRJMjhrcXVUOGE3dDI1VDhnWHMyZw== \n",
      "\n",
      "*************\n",
      "All Extracted:moving on to next segment\n",
      "https://api.crossref.org/works?query=Automated+literature+and+systematic+Reviews&filter=type:journal-article,from-created-date:2012-10-04,until-created-date:2012-11-01&select=DOI,title,score,created&rows=1000&cursor=DnF1ZXJ5VGhlbkZldGNoBgAAAAASIj-ZFkhUQjJYNFlSVFVPT1k5bVZmVDQzQXcAAAAAD3dg-RY0amo4YndCWVRadUx4QV9WQlVKWHdnAAAAAADBMbUWMUZXWVdYT3hUZTZtQzNpVGM3NzZoUQAAAAASnBtWFk5qWk1fWm1iUVV1V3Nwd3MxN3FqQ3cAAAAAEhxZSxZDNTBUdXhPeVM0bUg3UnZzcl9lR2N3AAAAABB3oqkWaDRJMjhrcXVUOGE3dDI1VDhnWHMyZw== \n",
      "\n",
      "*************\n",
      "All Extracted:moving on to next segment\n",
      "https://api.crossref.org/works?query=Automated+literature+and+systematic+Reviews&filter=type:journal-article,from-created-date:2012-11-01,until-created-date:2012-11-29&select=DOI,title,score,created&rows=1000&cursor=DnF1ZXJ5VGhlbkZldGNoBgAAAAASIj_pFkhUQjJYNFlSVFVPT1k5bVZmVDQzQXcAAAAAD3dhSxY0amo4YndCWVRadUx4QV9WQlVKWHdnAAAAAADBMj4WMUZXWVdYT3hUZTZtQzNpVGM3NzZoUQAAAAASnBu0Fk5qWk1fWm1iUVV1V3Nwd3MxN3FqQ3cAAAAAEhxZsBZDNTBUdXhPeVM0bUg3UnZzcl9lR2N3AAAAABB3ou8WaDRJMjhrcXVUOGE3dDI1VDhnWHMyZw== \n",
      "\n",
      "*************\n",
      "All Extracted:moving on to next segment\n",
      "https://api.crossref.org/works?query=Automated+literature+and+systematic+Reviews&filter=type:journal-article,from-created-date:2012-11-29,until-created-date:2012-12-27&select=DOI,title,score,created&rows=1000&cursor=DnF1ZXJ5VGhlbkZldGNoBgAAAAASIkCIFkhUQjJYNFlSVFVPT1k5bVZmVDQzQXcAAAAAD3dh6RY0amo4YndCWVRadUx4QV9WQlVKWHdnAAAAAADBMz0WMUZXWVdYT3hUZTZtQzNpVGM3NzZoUQAAAAASnBx1Fk5qWk1fWm1iUVV1V3Nwd3MxN3FqQ3cAAAAAEhxaYRZDNTBUdXhPeVM0bUg3UnZzcl9lR2N3AAAAABB3o4UWaDRJMjhrcXVUOGE3dDI1VDhnWHMyZw== \n",
      "\n",
      "*************\n",
      "All Extracted:moving on to next segment\n",
      "https://api.crossref.org/works?query=Automated+literature+and+systematic+Reviews&filter=type:journal-article,from-created-date:2012-12-27,until-created-date:2013-01-24&select=DOI,title,score,created&rows=1000&cursor=DnF1ZXJ5VGhlbkZldGNoBgAAAAAAwTPwFjFGV1lXWE94VGU2bUMzaVRjNzc2aFEAAAAAFvM25xZHblpDbkEzT1FvRy0tOGFOZ05EOHVnAAAAAADBM-8WMUZXWVdYT3hUZTZtQzNpVGM3NzZoUQAAAAAR3hp6FjdhbGlIQ0JtVEVlMW9yN2RJbTBZV2cAAAAAD_FPAhZfNEZlTDBRZ1FuLWZ4NVhlZU9MYzN3AAAAABBurKoWSTFVWlpBeGRTWi1nRllxOU9nQUYydw== \n",
      "\n",
      "*************\n",
      "All Extracted:moving on to next segment\n",
      "https://api.crossref.org/works?query=Automated+literature+and+systematic+Reviews&filter=type:journal-article,from-created-date:2013-01-24,until-created-date:2013-02-21&select=DOI,title,score,created&rows=1000&cursor=DnF1ZXJ5VGhlbkZldGNoBgAAAAASIlFjFkhUQjJYNFlSVFVPT1k5bVZmVDQzQXcAAAAAFvNRFBZHblpDbkEzT1FvRy0tOGFOZ05EOHVnAAAAABbzURUWR25aQ25BM09Rb0ctLThhTmdORDh1ZwAAAAASnDA3Fk5qWk1fWm1iUVV1V3Nwd3MxN3FqQ3cAAAAAD_FdShZfNEZlTDBRZ1FuLWZ4NVhlZU9MYzN3AAAAABB3siwWaDRJMjhrcXVUOGE3dDI1VDhnWHMyZw== \n",
      "\n",
      "*************\n",
      "All Extracted:moving on to next segment\n",
      "https://api.crossref.org/works?query=Automated+literature+and+systematic+Reviews&filter=type:journal-article,from-created-date:2013-02-21,until-created-date:2013-03-21&select=DOI,title,score,created&rows=1000&cursor=DnF1ZXJ5VGhlbkZldGNoBgAAAAAAwWUHFjFGV1lXWE94VGU2bUMzaVRjNzc2aFEAAAAAFvNmtRZHblpDbkEzT1FvRy0tOGFOZ05EOHVnAAAAAADBZQgWMUZXWVdYT3hUZTZtQzNpVGM3NzZoUQAAAAAR3jEAFjdhbGlIQ0JtVEVlMW9yN2RJbTBZV2cAAAAAEhx-AxZDNTBUdXhPeVM0bUg3UnZzcl9lR2N3AAAAABBuyyUWSTFVWlpBeGRTWi1nRllxOU9nQUYydw== \n",
      "\n",
      "*************\n",
      "All Extracted:moving on to next segment\n",
      "https://api.crossref.org/works?query=Automated+literature+and+systematic+Reviews&filter=type:journal-article,from-created-date:2013-03-21,until-created-date:2013-04-18&select=DOI,title,score,created&rows=1000&cursor=DnF1ZXJ5VGhlbkZldGNoBgAAAAASIl-2FkhUQjJYNFlSVFVPT1k5bVZmVDQzQXcAAAAAD3eBTxY0amo4YndCWVRadUx4QV9WQlVKWHdnAAAAABbzZ94WR25aQ25BM09Rb0ctLThhTmdORDh1ZwAAAAASnEGvFk5qWk1fWm1iUVV1V3Nwd3MxN3FqQ3cAAAAAEhx-7RZDNTBUdXhPeVM0bUg3UnZzcl9lR2N3AAAAABBuy_EWSTFVWlpBeGRTWi1nRllxOU9nQUYydw== \n",
      "\n",
      "*************\n",
      "All Extracted:moving on to next segment\n",
      "https://api.crossref.org/works?query=Automated+literature+and+systematic+Reviews&filter=type:journal-article,from-created-date:2013-04-18,until-created-date:2013-05-16&select=DOI,title,score,created&rows=1000&cursor=DnF1ZXJ5VGhlbkZldGNoBgAAAAAAwWeSFjFGV1lXWE94VGU2bUMzaVRjNzc2aFEAAAAAD3eCIRY0amo4YndCWVRadUx4QV9WQlVKWHdnAAAAAADBZ5MWMUZXWVdYT3hUZTZtQzNpVGM3NzZoUQAAAAAR3jIpFjdhbGlIQ0JtVEVlMW9yN2RJbTBZV2cAAAAAD_Fq1xZfNEZlTDBRZ1FuLWZ4NVhlZU9MYzN3AAAAABBuzNsWSTFVWlpBeGRTWi1nRllxOU9nQUYydw== \n",
      "\n",
      "*************\n",
      "All Extracted:moving on to next segment\n",
      "https://api.crossref.org/works?query=Automated+literature+and+systematic+Reviews&filter=type:journal-article,from-created-date:2013-05-16,until-created-date:2013-06-13&select=DOI,title,score,created&rows=1000&cursor=DnF1ZXJ5VGhlbkZldGNoBgAAAAAAwWhcFjFGV1lXWE94VGU2bUMzaVRjNzc2aFEAAAAAD3eCnRY0amo4YndCWVRadUx4QV9WQlVKWHdnAAAAAADBaF0WMUZXWVdYT3hUZTZtQzNpVGM3NzZoUQAAAAAR3jKNFjdhbGlIQ0JtVEVlMW9yN2RJbTBZV2cAAAAAD_FrYxZfNEZlTDBRZ1FuLWZ4NVhlZU9MYzN3AAAAABBuzWIWSTFVWlpBeGRTWi1nRllxOU9nQUYydw== \n",
      "\n",
      "*************\n",
      "All Extracted:moving on to next segment\n",
      "https://api.crossref.org/works?query=Automated+literature+and+systematic+Reviews&filter=type:journal-article,from-created-date:2013-06-13,until-created-date:2013-07-11&select=DOI,title,score,created&rows=1000&cursor=DnF1ZXJ5VGhlbkZldGNoBgAAAAASImGZFkhUQjJYNFlSVFVPT1k5bVZmVDQzQXcAAAAAD3eDJhY0amo4YndCWVRadUx4QV9WQlVKWHdnAAAAAADBaT8WMUZXWVdYT3hUZTZtQzNpVGM3NzZoUQAAAAASnEQ0Fk5qWk1fWm1iUVV1V3Nwd3MxN3FqQ3cAAAAAEhyBYBZDNTBUdXhPeVM0bUg3UnZzcl9lR2N3AAAAABBuzgQWSTFVWlpBeGRTWi1nRllxOU9nQUYydw== \n",
      "\n",
      "*************\n",
      "All Extracted:moving on to next segment\n",
      "https://api.crossref.org/works?query=Automated+literature+and+systematic+Reviews&filter=type:journal-article,from-created-date:2013-07-11,until-created-date:2013-08-08&select=DOI,title,score,created&rows=1000&cursor=DnF1ZXJ5VGhlbkZldGNoBgAAAAAAwWpPFjFGV1lXWE94VGU2bUMzaVRjNzc2aFEAAAAAFvNsJBZHblpDbkEzT1FvRy0tOGFOZ05EOHVnAAAAABbzbCUWR25aQ25BM09Rb0ctLThhTmdORDh1ZwAAAAAR3jOAFjdhbGlIQ0JtVEVlMW9yN2RJbTBZV2cAAAAAD_FsuxZfNEZlTDBRZ1FuLWZ4NVhlZU9MYzN3AAAAABB3wKoWaDRJMjhrcXVUOGE3dDI1VDhnWHMyZw== \n",
      "\n",
      "*************\n",
      "All Extracted:moving on to next segment\n",
      "https://api.crossref.org/works?query=Automated+literature+and+systematic+Reviews&filter=type:journal-article,from-created-date:2013-08-08,until-created-date:2013-09-05&select=DOI,title,score,created&rows=1000&cursor=DnF1ZXJ5VGhlbkZldGNoBgAAAAAAwWujFjFGV1lXWE94VGU2bUMzaVRjNzc2aFEAAAAAFvNtgxZHblpDbkEzT1FvRy0tOGFOZ05EOHVnAAAAABbzbYIWR25aQ25BM09Rb0ctLThhTmdORDh1ZwAAAAASnEYfFk5qWk1fWm1iUVV1V3Nwd3MxN3FqQ3cAAAAAD_FtdhZfNEZlTDBRZ1FuLWZ4NVhlZU9MYzN3AAAAABB3wWQWaDRJMjhrcXVUOGE3dDI1VDhnWHMyZw== \n",
      "\n",
      "*************\n",
      "All Extracted:moving on to next segment\n",
      "https://api.crossref.org/works?query=Automated+literature+and+systematic+Reviews&filter=type:journal-article,from-created-date:2013-09-05,until-created-date:2013-10-03&select=DOI,title,score,created&rows=1000&cursor=DnF1ZXJ5VGhlbkZldGNoBgAAAAASImPrFkhUQjJYNFlSVFVPT1k5bVZmVDQzQXcAAAAAD3eFZhY0amo4YndCWVRadUx4QV9WQlVKWHdnAAAAAADBbOYWMUZXWVdYT3hUZTZtQzNpVGM3NzZoUQAAAAASnEcNFk5qWk1fWm1iUVV1V3Nwd3MxN3FqQ3cAAAAAEhyEAxZDNTBUdXhPeVM0bUg3UnZzcl9lR2N3AAAAABBu0FUWSTFVWlpBeGRTWi1nRllxOU9nQUYydw== \n",
      "\n",
      "*************\n",
      "All Extracted:moving on to next segment\n"
     ]
    },
    {
     "name": "stdout",
     "output_type": "stream",
     "text": [
      "https://api.crossref.org/works?query=Automated+literature+and+systematic+Reviews&filter=type:journal-article,from-created-date:2013-10-03,until-created-date:2013-10-31&select=DOI,title,score,created&rows=1000&cursor=DnF1ZXJ5VGhlbkZldGNoBgAAAAASImR7FkhUQjJYNFlSVFVPT1k5bVZmVDQzQXcAAAAAD3eF_xY0amo4YndCWVRadUx4QV9WQlVKWHdnAAAAABbzb50WR25aQ25BM09Rb0ctLThhTmdORDh1ZwAAAAASnEexFk5qWk1fWm1iUVV1V3Nwd3MxN3FqQ3cAAAAAEhyEpxZDNTBUdXhPeVM0bUg3UnZzcl9lR2N3AAAAABB3wooWaDRJMjhrcXVUOGE3dDI1VDhnWHMyZw== \n",
      "\n",
      "*************\n",
      "All Extracted:moving on to next segment\n",
      "https://api.crossref.org/works?query=Automated+literature+and+systematic+Reviews&filter=type:journal-article,from-created-date:2013-10-31,until-created-date:2013-11-28&select=DOI,title,score,created&rows=1000&cursor=DnF1ZXJ5VGhlbkZldGNoBgAAAAAAwW5uFjFGV1lXWE94VGU2bUMzaVRjNzc2aFEAAAAAD3eGaxY0amo4YndCWVRadUx4QV9WQlVKWHdnAAAAAADBbm8WMUZXWVdYT3hUZTZtQzNpVGM3NzZoUQAAAAAR3jVwFjdhbGlIQ0JtVEVlMW9yN2RJbTBZV2cAAAAAD_FvHBZfNEZlTDBRZ1FuLWZ4NVhlZU9MYzN3AAAAABBu0UkWSTFVWlpBeGRTWi1nRllxOU9nQUYydw== \n",
      "\n",
      "*************\n",
      "All Extracted:moving on to next segment\n",
      "https://api.crossref.org/works?query=Automated+literature+and+systematic+Reviews&filter=type:journal-article,from-created-date:2013-11-28,until-created-date:2013-12-26&select=DOI,title,score,created&rows=1000&cursor=DnF1ZXJ5VGhlbkZldGNoBgAAAAAAwW8mFjFGV1lXWE94VGU2bUMzaVRjNzc2aFEAAAAAD3eG3RY0amo4YndCWVRadUx4QV9WQlVKWHdnAAAAAADBbycWMUZXWVdYT3hUZTZtQzNpVGM3NzZoUQAAAAAR3jXGFjdhbGlIQ0JtVEVlMW9yN2RJbTBZV2cAAAAAD_FvhRZfNEZlTDBRZ1FuLWZ4NVhlZU9MYzN3AAAAABBu0bMWSTFVWlpBeGRTWi1nRllxOU9nQUYydw== \n",
      "\n",
      "*************\n",
      "All Extracted:moving on to next segment\n",
      "https://api.crossref.org/works?query=Automated+literature+and+systematic+Reviews&filter=type:journal-article,from-created-date:2013-12-26,until-created-date:2014-01-23&select=DOI,title,score,created&rows=1000&cursor=DnF1ZXJ5VGhlbkZldGNoBgAAAAAAwW_BFjFGV1lXWE94VGU2bUMzaVRjNzc2aFEAAAAAD3eHORY0amo4YndCWVRadUx4QV9WQlVKWHdnAAAAAADBb8IWMUZXWVdYT3hUZTZtQzNpVGM3NzZoUQAAAAAR3jYJFjdhbGlIQ0JtVEVlMW9yN2RJbTBZV2cAAAAAEhyF_BZDNTBUdXhPeVM0bUg3UnZzcl9lR2N3AAAAABBu0gsWSTFVWlpBeGRTWi1nRllxOU9nQUYydw== \n",
      "\n",
      "*************\n",
      "All Extracted:moving on to next segment\n",
      "https://api.crossref.org/works?query=Automated+literature+and+systematic+Reviews&filter=type:journal-article,from-created-date:2014-01-23,until-created-date:2014-02-20&select=DOI,title,score,created&rows=1000&cursor=DnF1ZXJ5VGhlbkZldGNoBgAAAAAAwXE3FjFGV1lXWE94VGU2bUMzaVRjNzc2aFEAAAAAFvNzEhZHblpDbkEzT1FvRy0tOGFOZ05EOHVnAAAAABbzcxEWR25aQ25BM09Rb0ctLThhTmdORDh1ZwAAAAASnEoaFk5qWk1fWm1iUVV1V3Nwd3MxN3FqQ3cAAAAAD_FwpRZfNEZlTDBRZ1FuLWZ4NVhlZU9MYzN3AAAAABB3xHcWaDRJMjhrcXVUOGE3dDI1VDhnWHMyZw== \n",
      "\n",
      "*************\n",
      "All Extracted:moving on to next segment\n",
      "https://api.crossref.org/works?query=Automated+literature+and+systematic+Reviews&filter=type:journal-article,from-created-date:2014-02-20,until-created-date:2014-03-20&select=DOI,title,score,created&rows=1000&cursor=DnF1ZXJ5VGhlbkZldGNoBgAAAAAAwXJTFjFGV1lXWE94VGU2bUMzaVRjNzc2aFEAAAAAD3eIoxY0amo4YndCWVRadUx4QV9WQlVKWHdnAAAAAADBclQWMUZXWVdYT3hUZTZtQzNpVGM3NzZoUQAAAAAR3jdCFjdhbGlIQ0JtVEVlMW9yN2RJbTBZV2cAAAAAD_FxQRZfNEZlTDBRZ1FuLWZ4NVhlZU9MYzN3AAAAABBu05kWSTFVWlpBeGRTWi1nRllxOU9nQUYydw== \n",
      "\n",
      "*************\n",
      "All Extracted:moving on to next segment\n",
      "https://api.crossref.org/works?query=Automated+literature+and+systematic+Reviews&filter=type:journal-article,from-created-date:2014-03-20,until-created-date:2014-04-17&select=DOI,title,score,created&rows=1000&cursor=DnF1ZXJ5VGhlbkZldGNoBgAAAAAAwXNeFjFGV1lXWE94VGU2bUMzaVRjNzc2aFEAAAAAD3eJSRY0amo4YndCWVRadUx4QV9WQlVKWHdnAAAAAADBc18WMUZXWVdYT3hUZTZtQzNpVGM3NzZoUQAAAAAR3je8FjdhbGlIQ0JtVEVlMW9yN2RJbTBZV2cAAAAAEhyIZBZDNTBUdXhPeVM0bUg3UnZzcl9lR2N3AAAAABBu1DUWSTFVWlpBeGRTWi1nRllxOU9nQUYydw== \n",
      "\n",
      "*************\n",
      "All Extracted:moving on to next segment\n",
      "https://api.crossref.org/works?query=Automated+literature+and+systematic+Reviews&filter=type:journal-article,from-created-date:2014-04-17,until-created-date:2014-05-15&select=DOI,title,score,created&rows=1000&cursor=DnF1ZXJ5VGhlbkZldGNoBgAAAAAAwXSBFjFGV1lXWE94VGU2bUMzaVRjNzc2aFEAAAAAD3eJ9RY0amo4YndCWVRadUx4QV9WQlVKWHdnAAAAAADBdIIWMUZXWVdYT3hUZTZtQzNpVGM3NzZoUQAAAAAR3jg_FjdhbGlIQ0JtVEVlMW9yN2RJbTBZV2cAAAAAEhyJJhZDNTBUdXhPeVM0bUg3UnZzcl9lR2N3AAAAABBu1NcWSTFVWlpBeGRTWi1nRllxOU9nQUYydw== \n",
      "\n",
      "*************\n",
      "All Extracted:moving on to next segment\n",
      "https://api.crossref.org/works?query=Automated+literature+and+systematic+Reviews&filter=type:journal-article,from-created-date:2014-05-15,until-created-date:2014-06-12&select=DOI,title,score,created&rows=1000&cursor=DnF1ZXJ5VGhlbkZldGNoBgAAAAASImkHFkhUQjJYNFlSVFVPT1k5bVZmVDQzQXcAAAAAD3eKdxY0amo4YndCWVRadUx4QV9WQlVKWHdnAAAAAADBdVUWMUZXWVdYT3hUZTZtQzNpVGM3NzZoUQAAAAASnEz3Fk5qWk1fWm1iUVV1V3Nwd3MxN3FqQ3cAAAAAEhyJvBZDNTBUdXhPeVM0bUg3UnZzcl9lR2N3AAAAABBu1VcWSTFVWlpBeGRTWi1nRllxOU9nQUYydw== \n",
      "\n",
      "*************\n",
      "All Extracted:moving on to next segment\n",
      "https://api.crossref.org/works?query=Automated+literature+and+systematic+Reviews&filter=type:journal-article,from-created-date:2014-06-12,until-created-date:2014-07-10&select=DOI,title,score,created&rows=1000&cursor=DnF1ZXJ5VGhlbkZldGNoBgAAAAASImnCFkhUQjJYNFlSVFVPT1k5bVZmVDQzQXcAAAAAD3eLKxY0amo4YndCWVRadUx4QV9WQlVKWHdnAAAAABbzeGUWR25aQ25BM09Rb0ctLThhTmdORDh1ZwAAAAASnE3mFk5qWk1fWm1iUVV1V3Nwd3MxN3FqQ3cAAAAAEhyKlRZDNTBUdXhPeVM0bUg3UnZzcl9lR2N3AAAAABBu1gYWSTFVWlpBeGRTWi1nRllxOU9nQUYydw== \n",
      "\n",
      "*************\n",
      "All Extracted:moving on to next segment\n",
      "https://api.crossref.org/works?query=Automated+literature+and+systematic+Reviews&filter=type:journal-article,from-created-date:2014-07-10,until-created-date:2014-08-07&select=DOI,title,score,created&rows=1000&cursor=DnF1ZXJ5VGhlbkZldGNoBgAAAAAAwXdMFjFGV1lXWE94VGU2bUMzaVRjNzc2aFEAAAAAFvN5TRZHblpDbkEzT1FvRy0tOGFOZ05EOHVnAAAAAADBd0sWMUZXWVdYT3hUZTZtQzNpVGM3NzZoUQAAAAAR3jmFFjdhbGlIQ0JtVEVlMW9yN2RJbTBZV2cAAAAAD_F0FRZfNEZlTDBRZ1FuLWZ4NVhlZU9MYzN3AAAAABBu1pkWSTFVWlpBeGRTWi1nRllxOU9nQUYydw== \n",
      "\n",
      "*************\n",
      "All Extracted:moving on to next segment\n",
      "https://api.crossref.org/works?query=Automated+literature+and+systematic+Reviews&filter=type:journal-article,from-created-date:2014-08-07,until-created-date:2014-09-04&select=DOI,title,score,created&rows=1000&cursor=DnF1ZXJ5VGhlbkZldGNoBgAAAAAAwXgeFjFGV1lXWE94VGU2bUMzaVRjNzc2aFEAAAAAFvN6JRZHblpDbkEzT1FvRy0tOGFOZ05EOHVnAAAAABbzeiQWR25aQ25BM09Rb0ctLThhTmdORDh1ZwAAAAASnE81Fk5qWk1fWm1iUVV1V3Nwd3MxN3FqQ3cAAAAAD_F0kRZfNEZlTDBRZ1FuLWZ4NVhlZU9MYzN3AAAAABB3yFIWaDRJMjhrcXVUOGE3dDI1VDhnWHMyZw== \n",
      "\n",
      "*************\n",
      "All Extracted:moving on to next segment\n",
      "https://api.crossref.org/works?query=Automated+literature+and+systematic+Reviews&filter=type:journal-article,from-created-date:2014-09-04,until-created-date:2014-10-02&select=DOI,title,score,created&rows=1000&cursor=DnF1ZXJ5VGhlbkZldGNoBgAAAAAAwXktFjFGV1lXWE94VGU2bUMzaVRjNzc2aFEAAAAAD3eM1xY0amo4YndCWVRadUx4QV9WQlVKWHdnAAAAAADBeS4WMUZXWVdYT3hUZTZtQzNpVGM3NzZoUQAAAAAR3jppFjdhbGlIQ0JtVEVlMW9yN2RJbTBZV2cAAAAAD_F1NxZfNEZlTDBRZ1FuLWZ4NVhlZU9MYzN3AAAAABBu17cWSTFVWlpBeGRTWi1nRllxOU9nQUYydw== \n",
      "\n",
      "*************\n",
      "All Extracted:moving on to next segment\n",
      "https://api.crossref.org/works?query=Automated+literature+and+systematic+Reviews&filter=type:journal-article,from-created-date:2014-10-02,until-created-date:2014-10-30&select=DOI,title,score,created&rows=1000&cursor=DnF1ZXJ5VGhlbkZldGNoBgAAAAASImwfFkhUQjJYNFlSVFVPT1k5bVZmVDQzQXcAAAAAD3eNdRY0amo4YndCWVRadUx4QV9WQlVKWHdnAAAAAADBeigWMUZXWVdYT3hUZTZtQzNpVGM3NzZoUQAAAAASnFCzFk5qWk1fWm1iUVV1V3Nwd3MxN3FqQ3cAAAAAEhyNShZDNTBUdXhPeVM0bUg3UnZzcl9lR2N3AAAAABB3yXMWaDRJMjhrcXVUOGE3dDI1VDhnWHMyZw== \n",
      "\n",
      "*************\n",
      "All Extracted:moving on to next segment\n",
      "https://api.crossref.org/works?query=Automated+literature+and+systematic+Reviews&filter=type:journal-article,from-created-date:2014-10-30,until-created-date:2014-11-27&select=DOI,title,score,created&rows=1000&cursor=DnF1ZXJ5VGhlbkZldGNoBgAAAAASImy3FkhUQjJYNFlSVFVPT1k5bVZmVDQzQXcAAAAAFvN9VBZHblpDbkEzT1FvRy0tOGFOZ05EOHVnAAAAABbzfVUWR25aQ25BM09Rb0ctLThhTmdORDh1ZwAAAAAR3jtgFjdhbGlIQ0JtVEVlMW9yN2RJbTBZV2cAAAAAD_F2ZBZfNEZlTDBRZ1FuLWZ4NVhlZU9MYzN3AAAAABB3yfwWaDRJMjhrcXVUOGE3dDI1VDhnWHMyZw== \n",
      "\n",
      "*************\n",
      "All Extracted:moving on to next segment\n",
      "https://api.crossref.org/works?query=Automated+literature+and+systematic+Reviews&filter=type:journal-article,from-created-date:2014-11-27,until-created-date:2014-12-25&select=DOI,title,score,created&rows=1000&cursor=DnF1ZXJ5VGhlbkZldGNoBgAAAAAAwX0sFjFGV1lXWE94VGU2bUMzaVRjNzc2aFEAAAAAFvN_VxZHblpDbkEzT1FvRy0tOGFOZ05EOHVnAAAAAADBfS0WMUZXWVdYT3hUZTZtQzNpVGM3NzZoUQAAAAAR3jxHFjdhbGlIQ0JtVEVlMW9yN2RJbTBZV2cAAAAAD_F3fhZfNEZlTDBRZ1FuLWZ4NVhlZU9MYzN3AAAAABBu2kcWSTFVWlpBeGRTWi1nRllxOU9nQUYydw== \n",
      "\n",
      "*************\n"
     ]
    },
    {
     "name": "stdout",
     "output_type": "stream",
     "text": [
      "All Extracted:moving on to next segment\n",
      "https://api.crossref.org/works?query=Automated+literature+and+systematic+Reviews&filter=type:journal-article,from-created-date:2014-12-25,until-created-date:2015-01-22&select=DOI,title,score,created&rows=1000&cursor=DnF1ZXJ5VGhlbkZldGNoBgAAAAAAwX4fFjFGV1lXWE94VGU2bUMzaVRjNzc2aFEAAAAAFvOAShZHblpDbkEzT1FvRy0tOGFOZ05EOHVnAAAAAADBfiAWMUZXWVdYT3hUZTZtQzNpVGM3NzZoUQAAAAAR3jy8FjdhbGlIQ0JtVEVlMW9yN2RJbTBZV2cAAAAAEhyQEBZDNTBUdXhPeVM0bUg3UnZzcl9lR2N3AAAAABBu2t8WSTFVWlpBeGRTWi1nRllxOU9nQUYydw== \n",
      "\n",
      "*************\n",
      "All Extracted:moving on to next segment\n",
      "https://api.crossref.org/works?query=Automated+literature+and+systematic+Reviews&filter=type:journal-article,from-created-date:2015-01-22,until-created-date:2015-02-19&select=DOI,title,score,created&rows=1000&cursor=DnF1ZXJ5VGhlbkZldGNoBgAAAAASIm8yFkhUQjJYNFlSVFVPT1k5bVZmVDQzQXcAAAAAD3eQehY0amo4YndCWVRadUx4QV9WQlVKWHdnAAAAABbzgUoWR25aQ25BM09Rb0ctLThhTmdORDh1ZwAAAAASnFRTFk5qWk1fWm1iUVV1V3Nwd3MxN3FqQ3cAAAAAEhyQwRZDNTBUdXhPeVM0bUg3UnZzcl9lR2N3AAAAABBu234WSTFVWlpBeGRTWi1nRllxOU9nQUYydw== \n",
      "\n",
      "*************\n",
      "All Extracted:moving on to next segment\n",
      "https://api.crossref.org/works?query=Automated+literature+and+systematic+Reviews&filter=type:journal-article,from-created-date:2015-02-19,until-created-date:2015-03-19&select=DOI,title,score,created&rows=1000&cursor=DnF1ZXJ5VGhlbkZldGNoBgAAAAAAwYA8FjFGV1lXWE94VGU2bUMzaVRjNzc2aFEAAAAAD3eRLxY0amo4YndCWVRadUx4QV9WQlVKWHdnAAAAAADBgD0WMUZXWVdYT3hUZTZtQzNpVGM3NzZoUQAAAAAR3j25FjdhbGlIQ0JtVEVlMW9yN2RJbTBZV2cAAAAAEhyRkBZDNTBUdXhPeVM0bUg3UnZzcl9lR2N3AAAAABBu3CsWSTFVWlpBeGRTWi1nRllxOU9nQUYydw== \n",
      "\n",
      "*************\n",
      "All Extracted:moving on to next segment\n",
      "https://api.crossref.org/works?query=Automated+literature+and+systematic+Reviews&filter=type:journal-article,from-created-date:2015-03-19,until-created-date:2015-04-16&select=DOI,title,score,created&rows=1000&cursor=DnF1ZXJ5VGhlbkZldGNoBgAAAAASInCNFkhUQjJYNFlSVFVPT1k5bVZmVDQzQXcAAAAAD3eR2xY0amo4YndCWVRadUx4QV9WQlVKWHdnAAAAAADBgU4WMUZXWVdYT3hUZTZtQzNpVGM3NzZoUQAAAAASnFX4Fk5qWk1fWm1iUVV1V3Nwd3MxN3FqQ3cAAAAAEhySTRZDNTBUdXhPeVM0bUg3UnZzcl9lR2N3AAAAABB3zUsWaDRJMjhrcXVUOGE3dDI1VDhnWHMyZw== \n",
      "\n",
      "*************\n",
      "All Extracted:moving on to next segment\n",
      "https://api.crossref.org/works?query=Automated+literature+and+systematic+Reviews&filter=type:journal-article,from-created-date:2015-04-16,until-created-date:2015-05-14&select=DOI,title,score,created&rows=1000&cursor=DnF1ZXJ5VGhlbkZldGNoBgAAAAAAwYJOFjFGV1lXWE94VGU2bUMzaVRjNzc2aFEAAAAAFvOEixZHblpDbkEzT1FvRy0tOGFOZ05EOHVnAAAAAADBgk8WMUZXWVdYT3hUZTZtQzNpVGM3NzZoUQAAAAAR3j68FjdhbGlIQ0JtVEVlMW9yN2RJbTBZV2cAAAAAD_F6fRZfNEZlTDBRZ1FuLWZ4NVhlZU9MYzN3AAAAABBu3XoWSTFVWlpBeGRTWi1nRllxOU9nQUYydw== \n",
      "\n",
      "*************\n",
      "All Extracted:moving on to next segment\n",
      "https://api.crossref.org/works?query=Automated+literature+and+systematic+Reviews&filter=type:journal-article,from-created-date:2015-05-14,until-created-date:2015-06-11&select=DOI,title,score,created&rows=1000&cursor=DnF1ZXJ5VGhlbkZldGNoBgAAAAASInJTFkhUQjJYNFlSVFVPT1k5bVZmVDQzQXcAAAAAFvOGtBZHblpDbkEzT1FvRy0tOGFOZ05EOHVnAAAAABbzhrUWR25aQ25BM09Rb0ctLThhTmdORDh1ZwAAAAAR3j-xFjdhbGlIQ0JtVEVlMW9yN2RJbTBZV2cAAAAAD_F76xZfNEZlTDBRZ1FuLWZ4NVhlZU9MYzN3AAAAABB3zvgWaDRJMjhrcXVUOGE3dDI1VDhnWHMyZw== \n",
      "\n",
      "*************\n",
      "All Extracted:moving on to next segment\n",
      "https://api.crossref.org/works?query=Automated+literature+and+systematic+Reviews&filter=type:journal-article,from-created-date:2015-06-11,until-created-date:2015-07-09&select=DOI,title,score,created&rows=1000&cursor=DnF1ZXJ5VGhlbkZldGNoBgAAAAASInLiFkhUQjJYNFlSVFVPT1k5bVZmVDQzQXcAAAAAFvOHoxZHblpDbkEzT1FvRy0tOGFOZ05EOHVnAAAAABbzh6QWR25aQ25BM09Rb0ctLThhTmdORDh1ZwAAAAASnFkgFk5qWk1fWm1iUVV1V3Nwd3MxN3FqQ3cAAAAAD_F8fBZfNEZlTDBRZ1FuLWZ4NVhlZU9MYzN3AAAAABB3z34WaDRJMjhrcXVUOGE3dDI1VDhnWHMyZw== \n",
      "\n",
      "*************\n",
      "All Extracted:moving on to next segment\n",
      "https://api.crossref.org/works?query=Automated+literature+and+systematic+Reviews&filter=type:journal-article,from-created-date:2015-07-09,until-created-date:2015-08-06&select=DOI,title,score,created&rows=1000&cursor=DnF1ZXJ5VGhlbkZldGNoBgAAAAAAwYaZFjFGV1lXWE94VGU2bUMzaVRjNzc2aFEAAAAAD3eU4xY0amo4YndCWVRadUx4QV9WQlVKWHdnAAAAAADBhpoWMUZXWVdYT3hUZTZtQzNpVGM3NzZoUQAAAAAR3kC6FjdhbGlIQ0JtVEVlMW9yN2RJbTBZV2cAAAAAD_F9KxZfNEZlTDBRZ1FuLWZ4NVhlZU9MYzN3AAAAABBu4DwWSTFVWlpBeGRTWi1nRllxOU9nQUYydw== \n",
      "\n",
      "*************\n",
      "All Extracted:moving on to next segment\n",
      "https://api.crossref.org/works?query=Automated+literature+and+systematic+Reviews&filter=type:journal-article,from-created-date:2015-08-06,until-created-date:2015-09-03&select=DOI,title,score,created&rows=1000&cursor=DnF1ZXJ5VGhlbkZldGNoBgAAAAASInRiFkhUQjJYNFlSVFVPT1k5bVZmVDQzQXcAAAAAD3eVjhY0amo4YndCWVRadUx4QV9WQlVKWHdnAAAAAADBh6gWMUZXWVdYT3hUZTZtQzNpVGM3NzZoUQAAAAASnFriFk5qWk1fWm1iUVV1V3Nwd3MxN3FqQ3cAAAAAEhyW8hZDNTBUdXhPeVM0bUg3UnZzcl9lR2N3AAAAABBu4OsWSTFVWlpBeGRTWi1nRllxOU9nQUYydw== \n",
      "\n",
      "*************\n",
      "All Extracted:moving on to next segment\n",
      "https://api.crossref.org/works?query=Automated+literature+and+systematic+Reviews&filter=type:journal-article,from-created-date:2015-09-03,until-created-date:2015-10-01&select=DOI,title,score,created&rows=1000&cursor=DnF1ZXJ5VGhlbkZldGNoBgAAAAASInTqFkhUQjJYNFlSVFVPT1k5bVZmVDQzQXcAAAAAD3eWExY0amo4YndCWVRadUx4QV9WQlVKWHdnAAAAABbziv8WR25aQ25BM09Rb0ctLThhTmdORDh1ZwAAAAASnFuEFk5qWk1fWm1iUVV1V3Nwd3MxN3FqQ3cAAAAAEhyXkxZDNTBUdXhPeVM0bUg3UnZzcl9lR2N3AAAAABB30UEWaDRJMjhrcXVUOGE3dDI1VDhnWHMyZw== \n",
      "\n",
      "*************\n",
      "All Extracted:moving on to next segment\n",
      "https://api.crossref.org/works?query=Automated+literature+and+systematic+Reviews&filter=type:journal-article,from-created-date:2015-10-01,until-created-date:2015-10-29&select=DOI,title,score,created&rows=1000&cursor=DnF1ZXJ5VGhlbkZldGNoBgAAAAAAwYmSFjFGV1lXWE94VGU2bUMzaVRjNzc2aFEAAAAAFvOMDxZHblpDbkEzT1FvRy0tOGFOZ05EOHVnAAAAABbzjBAWR25aQ25BM09Rb0ctLThhTmdORDh1ZwAAAAASnFxEFk5qWk1fWm1iUVV1V3Nwd3MxN3FqQ3cAAAAAD_F-7BZfNEZlTDBRZ1FuLWZ4NVhlZU9MYzN3AAAAABB30dgWaDRJMjhrcXVUOGE3dDI1VDhnWHMyZw== \n",
      "\n",
      "*************\n",
      "All Extracted:moving on to next segment\n",
      "https://api.crossref.org/works?query=Automated+literature+and+systematic+Reviews&filter=type:journal-article,from-created-date:2015-10-29,until-created-date:2015-11-26&select=DOI,title,score,created&rows=1000&cursor=DnF1ZXJ5VGhlbkZldGNoBgAAAAAAwYrtFjFGV1lXWE94VGU2bUMzaVRjNzc2aFEAAAAAD3eXahY0amo4YndCWVRadUx4QV9WQlVKWHdnAAAAAADBiu4WMUZXWVdYT3hUZTZtQzNpVGM3NzZoUQAAAAAR3kLLFjdhbGlIQ0JtVEVlMW9yN2RJbTBZV2cAAAAAEhyZIRZDNTBUdXhPeVM0bUg3UnZzcl9lR2N3AAAAABBu4ukWSTFVWlpBeGRTWi1nRllxOU9nQUYydw== \n",
      "\n",
      "*************\n",
      "All Extracted:moving on to next segment\n",
      "https://api.crossref.org/works?query=Automated+literature+and+systematic+Reviews&filter=type:journal-article,from-created-date:2015-11-26,until-created-date:2015-12-24&select=DOI,title,score,created&rows=1000&cursor=DnF1ZXJ5VGhlbkZldGNoBgAAAAASInbUFkhUQjJYNFlSVFVPT1k5bVZmVDQzQXcAAAAAFvOOTRZHblpDbkEzT1FvRy0tOGFOZ05EOHVnAAAAABbzjk4WR25aQ25BM09Rb0ctLThhTmdORDh1ZwAAAAAR3kNCFjdhbGlIQ0JtVEVlMW9yN2RJbTBZV2cAAAAAD_GASRZfNEZlTDBRZ1FuLWZ4NVhlZU9MYzN3AAAAABB30wAWaDRJMjhrcXVUOGE3dDI1VDhnWHMyZw== \n",
      "\n",
      "*************\n",
      "All Extracted:moving on to next segment\n",
      "https://api.crossref.org/works?query=Automated+literature+and+systematic+Reviews&filter=type:journal-article,from-created-date:2015-12-24,until-created-date:2016-01-21&select=DOI,title,score,created&rows=1000&cursor=DnF1ZXJ5VGhlbkZldGNoBgAAAAAAwYz0FjFGV1lXWE94VGU2bUMzaVRjNzc2aFEAAAAAD3eYnhY0amo4YndCWVRadUx4QV9WQlVKWHdnAAAAAADBjPUWMUZXWVdYT3hUZTZtQzNpVGM3NzZoUQAAAAAR3kPIFjdhbGlIQ0JtVEVlMW9yN2RJbTBZV2cAAAAAD_GA4RZfNEZlTDBRZ1FuLWZ4NVhlZU9MYzN3AAAAABBu5CoWSTFVWlpBeGRTWi1nRllxOU9nQUYydw== \n",
      "\n",
      "*************\n",
      "All Extracted:moving on to next segment\n",
      "https://api.crossref.org/works?query=Automated+literature+and+systematic+Reviews&filter=type:journal-article,from-created-date:2016-01-21,until-created-date:2016-02-18&select=DOI,title,score,created&rows=1000&cursor=DnF1ZXJ5VGhlbkZldGNoBgAAAAASIngYFkhUQjJYNFlSVFVPT1k5bVZmVDQzQXcAAAAAFvOQeRZHblpDbkEzT1FvRy0tOGFOZ05EOHVnAAAAABbzkHoWR25aQ25BM09Rb0ctLThhTmdORDh1ZwAAAAASnF9QFk5qWk1fWm1iUVV1V3Nwd3MxN3FqQ3cAAAAAD_GBjBZfNEZlTDBRZ1FuLWZ4NVhlZU9MYzN3AAAAABB31CoWaDRJMjhrcXVUOGE3dDI1VDhnWHMyZw== \n",
      "\n",
      "*************\n",
      "All Extracted:moving on to next segment\n"
     ]
    },
    {
     "name": "stdout",
     "output_type": "stream",
     "text": [
      "https://api.crossref.org/works?query=Automated+literature+and+systematic+Reviews&filter=type:journal-article,from-created-date:2016-02-18,until-created-date:2016-03-17&select=DOI,title,score,created&rows=1000&cursor=DnF1ZXJ5VGhlbkZldGNoBgAAAAAAwY8nFjFGV1lXWE94VGU2bUMzaVRjNzc2aFEAAAAAFvORmhZHblpDbkEzT1FvRy0tOGFOZ05EOHVnAAAAABbzkZkWR25aQ25BM09Rb0ctLThhTmdORDh1ZwAAAAAR3kTTFjdhbGlIQ0JtVEVlMW9yN2RJbTBZV2cAAAAAD_GCPBZfNEZlTDBRZ1FuLWZ4NVhlZU9MYzN3AAAAABB31L0WaDRJMjhrcXVUOGE3dDI1VDhnWHMyZw== \n",
      "\n",
      "*************\n",
      "All Extracted:moving on to next segment\n",
      "https://api.crossref.org/works?query=Automated+literature+and+systematic+Reviews&filter=type:journal-article,from-created-date:2016-03-17,until-created-date:2016-04-14&select=DOI,title,score,created&rows=1000&cursor=DnF1ZXJ5VGhlbkZldGNoBgAAAAAAwZCfFjFGV1lXWE94VGU2bUMzaVRjNzc2aFEAAAAAFvOS1BZHblpDbkEzT1FvRy0tOGFOZ05EOHVnAAAAAADBkKAWMUZXWVdYT3hUZTZtQzNpVGM3NzZoUQAAAAAR3kV3FjdhbGlIQ0JtVEVlMW9yN2RJbTBZV2cAAAAAEhydJhZDNTBUdXhPeVM0bUg3UnZzcl9lR2N3AAAAABBu5nYWSTFVWlpBeGRTWi1nRllxOU9nQUYydw== \n",
      "\n",
      "*************\n",
      "All Extracted:moving on to next segment\n",
      "https://api.crossref.org/works?query=Automated+literature+and+systematic+Reviews&filter=type:journal-article,from-created-date:2016-04-14,until-created-date:2016-05-12&select=DOI,title,score,created&rows=1000&cursor=DnF1ZXJ5VGhlbkZldGNoBgAAAAASInpXFkhUQjJYNFlSVFVPT1k5bVZmVDQzQXcAAAAAD3ebhBY0amo4YndCWVRadUx4QV9WQlVKWHdnAAAAABbzlAkWR25aQ25BM09Rb0ctLThhTmdORDh1ZwAAAAASnGIXFk5qWk1fWm1iUVV1V3Nwd3MxN3FqQ3cAAAAAEhyd_xZDNTBUdXhPeVM0bUg3UnZzcl9lR2N3AAAAABBu5ysWSTFVWlpBeGRTWi1nRllxOU9nQUYydw== \n",
      "\n",
      "*************\n",
      "All Extracted:moving on to next segment\n",
      "https://api.crossref.org/works?query=Automated+literature+and+systematic+Reviews&filter=type:journal-article,from-created-date:2016-05-12,until-created-date:2016-06-09&select=DOI,title,score,created&rows=1000&cursor=DnF1ZXJ5VGhlbkZldGNoBgAAAAAAwZMTFjFGV1lXWE94VGU2bUMzaVRjNzc2aFEAAAAAFvOVRRZHblpDbkEzT1FvRy0tOGFOZ05EOHVnAAAAAADBkxQWMUZXWVdYT3hUZTZtQzNpVGM3NzZoUQAAAAAR3kaOFjdhbGlIQ0JtVEVlMW9yN2RJbTBZV2cAAAAAEhye1hZDNTBUdXhPeVM0bUg3UnZzcl9lR2N3AAAAABBu5-4WSTFVWlpBeGRTWi1nRllxOU9nQUYydw== \n",
      "\n",
      "*************\n",
      "All Extracted:moving on to next segment\n",
      "https://api.crossref.org/works?query=Automated+literature+and+systematic+Reviews&filter=type:journal-article,from-created-date:2016-06-09,until-created-date:2016-07-07&select=DOI,title,score,created&rows=1000&cursor=DnF1ZXJ5VGhlbkZldGNoBgAAAAAAwZSBFjFGV1lXWE94VGU2bUMzaVRjNzc2aFEAAAAAD3edEBY0amo4YndCWVRadUx4QV9WQlVKWHdnAAAAAADBlIIWMUZXWVdYT3hUZTZtQzNpVGM3NzZoUQAAAAAR3kc3FjdhbGlIQ0JtVEVlMW9yN2RJbTBZV2cAAAAAEhyf0BZDNTBUdXhPeVM0bUg3UnZzcl9lR2N3AAAAABBu6MMWSTFVWlpBeGRTWi1nRllxOU9nQUYydw== \n",
      "\n",
      "*************\n",
      "All Extracted:moving on to next segment\n",
      "https://api.crossref.org/works?query=Automated+literature+and+systematic+Reviews&filter=type:journal-article,from-created-date:2016-07-07,until-created-date:2016-08-04&select=DOI,title,score,created&rows=1000&cursor=DnF1ZXJ5VGhlbkZldGNoBgAAAAASInyhFkhUQjJYNFlSVFVPT1k5bVZmVDQzQXcAAAAAD3edzRY0amo4YndCWVRadUx4QV9WQlVKWHdnAAAAABbzl8sWR25aQ25BM09Rb0ctLThhTmdORDh1ZwAAAAASnGTUFk5qWk1fWm1iUVV1V3Nwd3MxN3FqQ3cAAAAAEhygnhZDNTBUdXhPeVM0bUg3UnZzcl9lR2N3AAAAABBu6X0WSTFVWlpBeGRTWi1nRllxOU9nQUYydw== \n",
      "\n",
      "*************\n",
      "All Extracted:moving on to next segment\n",
      "API timed out:skipping and moving on to next segment\n",
      "https://api.crossref.org/works?query=Automated+literature+and+systematic+Reviews&filter=type:journal-article,from-created-date:2016-08-04,until-created-date:2016-09-01&select=DOI,title,score,created&rows=1000&cursor=DnF1ZXJ5VGhlbkZldGNoBgAAAAASIn1ZFkhUQjJYNFlSVFVPT1k5bVZmVDQzQXcAAAAAD3eeghY0amo4YndCWVRadUx4QV9WQlVKWHdnAAAAAADBluQWMUZXWVdYT3hUZTZtQzNpVGM3NzZoUQAAAAASnGWvFk5qWk1fWm1iUVV1V3Nwd3MxN3FqQ3cAAAAAEhyhdRZDNTBUdXhPeVM0bUg3UnZzcl9lR2N3AAAAABBu6j8WSTFVWlpBeGRTWi1nRllxOU9nQUYydw== \n",
      "\n",
      "*************\n",
      "All Extracted:moving on to next segment\n",
      "https://api.crossref.org/works?query=Automated+literature+and+systematic+Reviews&filter=type:journal-article,from-created-date:2016-09-01,until-created-date:2016-09-29&select=DOI,title,score,created&rows=1000&cursor=DnF1ZXJ5VGhlbkZldGNoBgAAAAAAwZfLFjFGV1lXWE94VGU2bUMzaVRjNzc2aFEAAAAAFvOZ9BZHblpDbkEzT1FvRy0tOGFOZ05EOHVnAAAAABbzmfMWR25aQ25BM09Rb0ctLThhTmdORDh1ZwAAAAAR3kiwFjdhbGlIQ0JtVEVlMW9yN2RJbTBZV2cAAAAAD_GG6xZfNEZlTDBRZ1FuLWZ4NVhlZU9MYzN3AAAAABB32SoWaDRJMjhrcXVUOGE3dDI1VDhnWHMyZw== \n",
      "\n",
      "*************\n",
      "All Extracted:moving on to next segment\n",
      "https://api.crossref.org/works?query=Automated+literature+and+systematic+Reviews&filter=type:journal-article,from-created-date:2016-09-29,until-created-date:2016-10-27&select=DOI,title,score,created&rows=1000&cursor=DnF1ZXJ5VGhlbkZldGNoBgAAAAAAwZjqFjFGV1lXWE94VGU2bUMzaVRjNzc2aFEAAAAAD3efuxY0amo4YndCWVRadUx4QV9WQlVKWHdnAAAAAADBmOsWMUZXWVdYT3hUZTZtQzNpVGM3NzZoUQAAAAAR3kk5FjdhbGlIQ0JtVEVlMW9yN2RJbTBZV2cAAAAAEhyi1BZDNTBUdXhPeVM0bUg3UnZzcl9lR2N3AAAAABBu63QWSTFVWlpBeGRTWi1nRllxOU9nQUYydw== \n",
      "\n",
      "*************\n",
      "All Extracted:moving on to next segment\n",
      "https://api.crossref.org/works?query=Automated+literature+and+systematic+Reviews&filter=type:journal-article,from-created-date:2016-10-27,until-created-date:2016-11-24&select=DOI,title,score,created&rows=1000&cursor=DnF1ZXJ5VGhlbkZldGNoBgAAAAASIn9lFkhUQjJYNFlSVFVPT1k5bVZmVDQzQXcAAAAAD3egehY0amo4YndCWVRadUx4QV9WQlVKWHdnAAAAAADBmhQWMUZXWVdYT3hUZTZtQzNpVGM3NzZoUQAAAAASnGgJFk5qWk1fWm1iUVV1V3Nwd3MxN3FqQ3cAAAAAEhyjqxZDNTBUdXhPeVM0bUg3UnZzcl9lR2N3AAAAABBu7CQWSTFVWlpBeGRTWi1nRllxOU9nQUYydw== \n",
      "\n",
      "*************\n",
      "All Extracted:moving on to next segment\n",
      "https://api.crossref.org/works?query=Automated+literature+and+systematic+Reviews&filter=type:journal-article,from-created-date:2016-11-24,until-created-date:2016-12-22&select=DOI,title,score,created&rows=1000&cursor=DnF1ZXJ5VGhlbkZldGNoBgAAAAASIn_aFkhUQjJYNFlSVFVPT1k5bVZmVDQzQXcAAAAAD3eg4xY0amo4YndCWVRadUx4QV9WQlVKWHdnAAAAAADBms0WMUZXWVdYT3hUZTZtQzNpVGM3NzZoUQAAAAASnGiRFk5qWk1fWm1iUVV1V3Nwd3MxN3FqQ3cAAAAAEhykKxZDNTBUdXhPeVM0bUg3UnZzcl9lR2N3AAAAABB32twWaDRJMjhrcXVUOGE3dDI1VDhnWHMyZw== \n",
      "\n",
      "*************\n",
      "All Extracted:moving on to next segment\n",
      "https://api.crossref.org/works?query=Automated+literature+and+systematic+Reviews&filter=type:journal-article,from-created-date:2016-12-22,until-created-date:2017-01-19&select=DOI,title,score,created&rows=1000&cursor=DnF1ZXJ5VGhlbkZldGNoBgAAAAASIoBxFkhUQjJYNFlSVFVPT1k5bVZmVDQzQXcAAAAAD3ehehY0amo4YndCWVRadUx4QV9WQlVKWHdnAAAAABbznhsWR25aQ25BM09Rb0ctLThhTmdORDh1ZwAAAAASnGlBFk5qWk1fWm1iUVV1V3Nwd3MxN3FqQ3cAAAAAEhyk3BZDNTBUdXhPeVM0bUg3UnZzcl9lR2N3AAAAABB322IWaDRJMjhrcXVUOGE3dDI1VDhnWHMyZw== \n",
      "\n",
      "*************\n",
      "All Extracted:moving on to next segment\n",
      "https://api.crossref.org/works?query=Automated+literature+and+systematic+Reviews&filter=type:journal-article,from-created-date:2017-01-19,until-created-date:2017-02-16&select=DOI,title,score,created&rows=1000&cursor=DnF1ZXJ5VGhlbkZldGNoBgAAAAASIoE2FkhUQjJYNFlSVFVPT1k5bVZmVDQzQXcAAAAAD3eiShY0amo4YndCWVRadUx4QV9WQlVKWHdnAAAAABbzn3cWR25aQ25BM09Rb0ctLThhTmdORDh1ZwAAAAASnGo8Fk5qWk1fWm1iUVV1V3Nwd3MxN3FqQ3cAAAAAEhylzRZDNTBUdXhPeVM0bUg3UnZzcl9lR2N3AAAAABBu7hcWSTFVWlpBeGRTWi1nRllxOU9nQUYydw== \n",
      "\n",
      "*************\n",
      "All Extracted:moving on to next segment\n",
      "https://api.crossref.org/works?query=Automated+literature+and+systematic+Reviews&filter=type:journal-article,from-created-date:2017-02-16,until-created-date:2017-03-16&select=DOI,title,score,created&rows=1000&cursor=DnF1ZXJ5VGhlbkZldGNoBgAAAAASIoKAFkhUQjJYNFlSVFVPT1k5bVZmVDQzQXcAAAAAD3ejnBY0amo4YndCWVRadUx4QV9WQlVKWHdnAAAAAADBn4AWMUZXWVdYT3hUZTZtQzNpVGM3NzZoUQAAAAASnGvZFk5qWk1fWm1iUVV1V3Nwd3MxN3FqQ3cAAAAAEhynchZDNTBUdXhPeVM0bUg3UnZzcl9lR2N3AAAAABBu730WSTFVWlpBeGRTWi1nRllxOU9nQUYydw== \n",
      "\n",
      "*************\n",
      "All Extracted:moving on to next segment\n",
      "https://api.crossref.org/works?query=Automated+literature+and+systematic+Reviews&filter=type:journal-article,from-created-date:2017-03-16,until-created-date:2017-04-13&select=DOI,title,score,created&rows=1000&cursor=DnF1ZXJ5VGhlbkZldGNoBgAAAAAAwaDDFjFGV1lXWE94VGU2bUMzaVRjNzc2aFEAAAAAFvOirhZHblpDbkEzT1FvRy0tOGFOZ05EOHVnAAAAABbzoq8WR25aQ25BM09Rb0ctLThhTmdORDh1ZwAAAAASnGyfFk5qWk1fWm1iUVV1V3Nwd3MxN3FqQ3cAAAAAD_GLzBZfNEZlTDBRZ1FuLWZ4NVhlZU9MYzN3AAAAABB33ckWaDRJMjhrcXVUOGE3dDI1VDhnWHMyZw== \n",
      "\n",
      "*************\n",
      "All Extracted:moving on to next segment\n"
     ]
    },
    {
     "name": "stdout",
     "output_type": "stream",
     "text": [
      "https://api.crossref.org/works?query=Automated+literature+and+systematic+Reviews&filter=type:journal-article,from-created-date:2017-04-13,until-created-date:2017-05-11&select=DOI,title,score,created&rows=1000&cursor=DnF1ZXJ5VGhlbkZldGNoBgAAAAAAwaPMFjFGV1lXWE94VGU2bUMzaVRjNzc2aFEAAAAAFvOl0hZHblpDbkEzT1FvRy0tOGFOZ05EOHVnAAAAAADBo80WMUZXWVdYT3hUZTZtQzNpVGM3NzZoUQAAAAAR3k46FjdhbGlIQ0JtVEVlMW9yN2RJbTBZV2cAAAAAEhyqdRZDNTBUdXhPeVM0bUg3UnZzcl9lR2N3AAAAABBu8gQWSTFVWlpBeGRTWi1nRllxOU9nQUYydw== \n",
      "\n",
      "*************\n",
      "All Extracted:moving on to next segment\n",
      "https://api.crossref.org/works?query=Automated+literature+and+systematic+Reviews&filter=type:journal-article,from-created-date:2017-05-11,until-created-date:2017-06-08&select=DOI,title,score,created&rows=1000&cursor=DnF1ZXJ5VGhlbkZldGNoBgAAAAASIoW-FkhUQjJYNFlSVFVPT1k5bVZmVDQzQXcAAAAAD3emtxY0amo4YndCWVRadUx4QV9WQlVKWHdnAAAAAADBpKoWMUZXWVdYT3hUZTZtQzNpVGM3NzZoUQAAAAASnG-hFk5qWk1fWm1iUVV1V3Nwd3MxN3FqQ3cAAAAAEhyrHRZDNTBUdXhPeVM0bUg3UnZzcl9lR2N3AAAAABBu8pQWSTFVWlpBeGRTWi1nRllxOU9nQUYydw== \n",
      "\n",
      "*************\n",
      "All Extracted:moving on to next segment\n",
      "https://api.crossref.org/works?query=Automated+literature+and+systematic+Reviews&filter=type:journal-article,from-created-date:2017-06-08,until-created-date:2017-07-06&select=DOI,title,score,created&rows=1000&cursor=DnF1ZXJ5VGhlbkZldGNoBgAAAAASIoZpFkhUQjJYNFlSVFVPT1k5bVZmVDQzQXcAAAAAFvOnzBZHblpDbkEzT1FvRy0tOGFOZ05EOHVnAAAAABbzp8sWR25aQ25BM09Rb0ctLThhTmdORDh1ZwAAAAAR3k8cFjdhbGlIQ0JtVEVlMW9yN2RJbTBZV2cAAAAAD_GOphZfNEZlTDBRZ1FuLWZ4NVhlZU9MYzN3AAAAABB34JoWaDRJMjhrcXVUOGE3dDI1VDhnWHMyZw== \n",
      "\n",
      "*************\n",
      "All Extracted:moving on to next segment\n",
      "https://api.crossref.org/works?query=Automated+literature+and+systematic+Reviews&filter=type:journal-article,from-created-date:2017-07-06,until-created-date:2017-08-03&select=DOI,title,score,created&rows=1000&cursor=DnF1ZXJ5VGhlbkZldGNoBgAAAAASIodJFkhUQjJYNFlSVFVPT1k5bVZmVDQzQXcAAAAAD3eoPxY0amo4YndCWVRadUx4QV9WQlVKWHdnAAAAAADBpzIWMUZXWVdYT3hUZTZtQzNpVGM3NzZoUQAAAAASnHGtFk5qWk1fWm1iUVV1V3Nwd3MxN3FqQ3cAAAAAEhytLxZDNTBUdXhPeVM0bUg3UnZzcl9lR2N3AAAAABBu9DoWSTFVWlpBeGRTWi1nRllxOU9nQUYydw== \n",
      "\n",
      "*************\n",
      "All Extracted:moving on to next segment\n",
      "https://api.crossref.org/works?query=Automated+literature+and+systematic+Reviews&filter=type:journal-article,from-created-date:2017-08-03,until-created-date:2017-08-31&select=DOI,title,score,created&rows=1000&cursor=DnF1ZXJ5VGhlbkZldGNoBgAAAAAAwai8FjFGV1lXWE94VGU2bUMzaVRjNzc2aFEAAAAAFvOqshZHblpDbkEzT1FvRy0tOGFOZ05EOHVnAAAAAADBqL0WMUZXWVdYT3hUZTZtQzNpVGM3NzZoUQAAAAAR3lCAFjdhbGlIQ0JtVEVlMW9yN2RJbTBZV2cAAAAAEhyudRZDNTBUdXhPeVM0bUg3UnZzcl9lR2N3AAAAABBu9VkWSTFVWlpBeGRTWi1nRllxOU9nQUYydw== \n",
      "\n",
      "*************\n",
      "All Extracted:moving on to next segment\n",
      "https://api.crossref.org/works?query=Automated+literature+and+systematic+Reviews&filter=type:journal-article,from-created-date:2017-08-31,until-created-date:2017-09-28&select=DOI,title,score,created&rows=1000&cursor=DnF1ZXJ5VGhlbkZldGNoBgAAAAAAwao7FjFGV1lXWE94VGU2bUMzaVRjNzc2aFEAAAAAD3eqJhY0amo4YndCWVRadUx4QV9WQlVKWHdnAAAAAADBqjwWMUZXWVdYT3hUZTZtQzNpVGM3NzZoUQAAAAAR3lE_FjdhbGlIQ0JtVEVlMW9yN2RJbTBZV2cAAAAAD_GR0hZfNEZlTDBRZ1FuLWZ4NVhlZU9MYzN3AAAAABBu9psWSTFVWlpBeGRTWi1nRllxOU9nQUYydw== \n",
      "\n",
      "*************\n",
      "All Extracted:moving on to next segment\n",
      "https://api.crossref.org/works?query=Automated+literature+and+systematic+Reviews&filter=type:journal-article,from-created-date:2017-09-28,until-created-date:2017-10-26&select=DOI,title,score,created&rows=1000&cursor=DnF1ZXJ5VGhlbkZldGNoBgAAAAASIopYFkhUQjJYNFlSVFVPT1k5bVZmVDQzQXcAAAAAD3erLBY0amo4YndCWVRadUx4QV9WQlVKWHdnAAAAAADBq-4WMUZXWVdYT3hUZTZtQzNpVGM3NzZoUQAAAAASnHaYFk5qWk1fWm1iUVV1V3Nwd3MxN3FqQ3cAAAAAEhyyDBZDNTBUdXhPeVM0bUg3UnZzcl9lR2N3AAAAABB35C8WaDRJMjhrcXVUOGE3dDI1VDhnWHMyZw== \n",
      "\n",
      "*************\n",
      "All Extracted:moving on to next segment\n",
      "https://api.crossref.org/works?query=Automated+literature+and+systematic+Reviews&filter=type:journal-article,from-created-date:2017-10-26,until-created-date:2017-11-23&select=DOI,title,score,created&rows=1000&cursor=DnF1ZXJ5VGhlbkZldGNoBgAAAAASIouTFkhUQjJYNFlSVFVPT1k5bVZmVDQzQXcAAAAAD3esThY0amo4YndCWVRadUx4QV9WQlVKWHdnAAAAAADBrdwWMUZXWVdYT3hUZTZtQzNpVGM3NzZoUQAAAAASnHgXFk5qWk1fWm1iUVV1V3Nwd3MxN3FqQ3cAAAAAEhyzihZDNTBUdXhPeVM0bUg3UnZzcl9lR2N3AAAAABB35UIWaDRJMjhrcXVUOGE3dDI1VDhnWHMyZw== \n",
      "\n",
      "*************\n",
      "All Extracted:moving on to next segment\n",
      "https://api.crossref.org/works?query=Automated+literature+and+systematic+Reviews&filter=type:journal-article,from-created-date:2017-11-23,until-created-date:2017-12-21&select=DOI,title,score,created&rows=1000&cursor=DnF1ZXJ5VGhlbkZldGNoBgAAAAASIoyUFkhUQjJYNFlSVFVPT1k5bVZmVDQzQXcAAAAAD3etSRY0amo4YndCWVRadUx4QV9WQlVKWHdnAAAAAADBr5sWMUZXWVdYT3hUZTZtQzNpVGM3NzZoUQAAAAASnHlTFk5qWk1fWm1iUVV1V3Nwd3MxN3FqQ3cAAAAAEhy0vRZDNTBUdXhPeVM0bUg3UnZzcl9lR2N3AAAAABB35h8WaDRJMjhrcXVUOGE3dDI1VDhnWHMyZw== \n",
      "\n",
      "*************\n",
      "All Extracted:moving on to next segment\n",
      "https://api.crossref.org/works?query=Automated+literature+and+systematic+Reviews&filter=type:journal-article,from-created-date:2017-12-21,until-created-date:2018-01-18&select=DOI,title,score,created&rows=1000&cursor=DnF1ZXJ5VGhlbkZldGNoBgAAAAASIo1dFkhUQjJYNFlSVFVPT1k5bVZmVDQzQXcAAAAAFvOzghZHblpDbkEzT1FvRy0tOGFOZ05EOHVnAAAAABbzs4MWR25aQ25BM09Rb0ctLThhTmdORDh1ZwAAAAAR3lRvFjdhbGlIQ0JtVEVlMW9yN2RJbTBZV2cAAAAAD_GWNBZfNEZlTDBRZ1FuLWZ4NVhlZU9MYzN3AAAAABB35tgWaDRJMjhrcXVUOGE3dDI1VDhnWHMyZw== \n",
      "\n",
      "*************\n",
      "All Extracted:moving on to next segment\n",
      "https://api.crossref.org/works?query=Automated+literature+and+systematic+Reviews&filter=type:journal-article,from-created-date:2018-01-18,until-created-date:2018-02-15&select=DOI,title,score,created&rows=1000&cursor=DnF1ZXJ5VGhlbkZldGNoBgAAAAASIo39FkhUQjJYNFlSVFVPT1k5bVZmVDQzQXcAAAAAFvO0kRZHblpDbkEzT1FvRy0tOGFOZ05EOHVnAAAAABbztJIWR25aQ25BM09Rb0ctLThhTmdORDh1ZwAAAAASnHsHFk5qWk1fWm1iUVV1V3Nwd3MxN3FqQ3cAAAAAD_GWzBZfNEZlTDBRZ1FuLWZ4NVhlZU9MYzN3AAAAABB352UWaDRJMjhrcXVUOGE3dDI1VDhnWHMyZw== \n",
      "\n",
      "*************\n",
      "All Extracted:moving on to next segment\n",
      "https://api.crossref.org/works?query=Automated+literature+and+systematic+Reviews&filter=type:journal-article,from-created-date:2018-02-15,until-created-date:2018-03-15&select=DOI,title,score,created&rows=1000&cursor=DnF1ZXJ5VGhlbkZldGNoBgAAAAAAwbMWFjFGV1lXWE94VGU2bUMzaVRjNzc2aFEAAAAAD3evThY0amo4YndCWVRadUx4QV9WQlVKWHdnAAAAAADBsxcWMUZXWVdYT3hUZTZtQzNpVGM3NzZoUQAAAAAR3lVuFjdhbGlIQ0JtVEVlMW9yN2RJbTBZV2cAAAAAD_GXbRZfNEZlTDBRZ1FuLWZ4NVhlZU9MYzN3AAAAABBu_H8WSTFVWlpBeGRTWi1nRllxOU9nQUYydw== \n",
      "\n",
      "*************\n",
      "All Extracted:moving on to next segment\n",
      "https://api.crossref.org/works?query=Automated+literature+and+systematic+Reviews&filter=type:journal-article,from-created-date:2018-03-15,until-created-date:2018-04-12&select=DOI,title,score,created&rows=1000&cursor=DnF1ZXJ5VGhlbkZldGNoBgAAAAAAwbQCFjFGV1lXWE94VGU2bUMzaVRjNzc2aFEAAAAAFvO2qhZHblpDbkEzT1FvRy0tOGFOZ05EOHVnAAAAABbztqsWR25aQ25BM09Rb0ctLThhTmdORDh1ZwAAAAAR3lXjFjdhbGlIQ0JtVEVlMW9yN2RJbTBZV2cAAAAAD_GX-hZfNEZlTDBRZ1FuLWZ4NVhlZU9MYzN3AAAAABB36HgWaDRJMjhrcXVUOGE3dDI1VDhnWHMyZw== \n",
      "\n",
      "*************\n",
      "All Extracted:moving on to next segment\n",
      "https://api.crossref.org/works?query=Automated+literature+and+systematic+Reviews&filter=type:journal-article,from-created-date:2018-04-12,until-created-date:2018-05-10&select=DOI,title,score,created&rows=1000&cursor=DnF1ZXJ5VGhlbkZldGNoBgAAAAAAwbVWFjFGV1lXWE94VGU2bUMzaVRjNzc2aFEAAAAAFvO4ExZHblpDbkEzT1FvRy0tOGFOZ05EOHVnAAAAABbzuBQWR25aQ25BM09Rb0ctLThhTmdORDh1ZwAAAAASnH2LFk5qWk1fWm1iUVV1V3Nwd3MxN3FqQ3cAAAAAD_GYwRZfNEZlTDBRZ1FuLWZ4NVhlZU9MYzN3AAAAABB36T8WaDRJMjhrcXVUOGE3dDI1VDhnWHMyZw== \n",
      "\n",
      "*************\n",
      "All Extracted:moving on to next segment\n",
      "https://api.crossref.org/works?query=Automated+literature+and+systematic+Reviews&filter=type:journal-article,from-created-date:2018-05-10,until-created-date:2018-06-07&select=DOI,title,score,created&rows=1000&cursor=DnF1ZXJ5VGhlbkZldGNoBgAAAAAAwbbqFjFGV1lXWE94VGU2bUMzaVRjNzc2aFEAAAAAD3exthY0amo4YndCWVRadUx4QV9WQlVKWHdnAAAAAADBtukWMUZXWVdYT3hUZTZtQzNpVGM3NzZoUQAAAAAR3lc8FjdhbGlIQ0JtVEVlMW9yN2RJbTBZV2cAAAAAD_GZmhZfNEZlTDBRZ1FuLWZ4NVhlZU9MYzN3AAAAABBu_t0WSTFVWlpBeGRTWi1nRllxOU9nQUYydw== \n",
      "\n",
      "*************\n",
      "All Extracted:moving on to next segment\n",
      "https://api.crossref.org/works?query=Automated+literature+and+systematic+Reviews&filter=type:journal-article,from-created-date:2018-06-07,until-created-date:2018-07-05&select=DOI,title,score,created&rows=1000&cursor=DnF1ZXJ5VGhlbkZldGNoBgAAAAASIpHKFkhUQjJYNFlSVFVPT1k5bVZmVDQzQXcAAAAAD3eydBY0amo4YndCWVRadUx4QV9WQlVKWHdnAAAAAADBuA4WMUZXWVdYT3hUZTZtQzNpVGM3NzZoUQAAAAASnH-XFk5qWk1fWm1iUVV1V3Nwd3MxN3FqQ3cAAAAAEhy6vxZDNTBUdXhPeVM0bUg3UnZzcl9lR2N3AAAAABBu_5MWSTFVWlpBeGRTWi1nRllxOU9nQUYydw== \n",
      "\n",
      "*************\n"
     ]
    },
    {
     "name": "stdout",
     "output_type": "stream",
     "text": [
      "All Extracted:moving on to next segment\n",
      "https://api.crossref.org/works?query=Automated+literature+and+systematic+Reviews&filter=type:journal-article,from-created-date:2018-07-05,until-created-date:2018-08-02&select=DOI,title,score,created&rows=1000&cursor=DnF1ZXJ5VGhlbkZldGNoBgAAAAAAwbmYFjFGV1lXWE94VGU2bUMzaVRjNzc2aFEAAAAAFvO8IBZHblpDbkEzT1FvRy0tOGFOZ05EOHVnAAAAAADBuZkWMUZXWVdYT3hUZTZtQzNpVGM3NzZoUQAAAAAR3lhpFjdhbGlIQ0JtVEVlMW9yN2RJbTBZV2cAAAAAD_GbCBZfNEZlTDBRZ1FuLWZ4NVhlZU9MYzN3AAAAABBvAI4WSTFVWlpBeGRTWi1nRllxOU9nQUYydw== \n",
      "\n",
      "*************\n",
      "All Extracted:moving on to next segment\n",
      "https://api.crossref.org/works?query=Automated+literature+and+systematic+Reviews&filter=type:journal-article,from-created-date:2018-08-02,until-created-date:2018-08-30&select=DOI,title,score,created&rows=1000&cursor=DnF1ZXJ5VGhlbkZldGNoBgAAAAASIpNDFkhUQjJYNFlSVFVPT1k5bVZmVDQzQXcAAAAAD3e0ARY0amo4YndCWVRadUx4QV9WQlVKWHdnAAAAABbzvT8WR25aQ25BM09Rb0ctLThhTmdORDh1ZwAAAAASnIFnFk5qWk1fWm1iUVV1V3Nwd3MxN3FqQ3cAAAAAEhy8iBZDNTBUdXhPeVM0bUg3UnZzcl9lR2N3AAAAABB37AUWaDRJMjhrcXVUOGE3dDI1VDhnWHMyZw== \n",
      "\n",
      "*************\n",
      "All Extracted:moving on to next segment\n",
      "https://api.crossref.org/works?query=Automated+literature+and+systematic+Reviews&filter=type:journal-article,from-created-date:2018-08-30,until-created-date:2018-09-27&select=DOI,title,score,created&rows=1000&cursor=DnF1ZXJ5VGhlbkZldGNoBgAAAAAAwbu1FjFGV1lXWE94VGU2bUMzaVRjNzc2aFEAAAAAFvO-QRZHblpDbkEzT1FvRy0tOGFOZ05EOHVnAAAAABbzvkAWR25aQ25BM09Rb0ctLThhTmdORDh1ZwAAAAASnIIgFk5qWk1fWm1iUVV1V3Nwd3MxN3FqQ3cAAAAAD_GcQRZfNEZlTDBRZ1FuLWZ4NVhlZU9MYzN3AAAAABB37IwWaDRJMjhrcXVUOGE3dDI1VDhnWHMyZw== \n",
      "\n",
      "*************\n",
      "All Extracted:moving on to next segment\n",
      "https://api.crossref.org/works?query=Automated+literature+and+systematic+Reviews&filter=type:journal-article,from-created-date:2018-09-27,until-created-date:2018-10-25&select=DOI,title,score,created&rows=1000&cursor=DnF1ZXJ5VGhlbkZldGNoBgAAAAASIpSzFkhUQjJYNFlSVFVPT1k5bVZmVDQzQXcAAAAAD3e1dRY0amo4YndCWVRadUx4QV9WQlVKWHdnAAAAABbzv6gWR25aQ25BM09Rb0ctLThhTmdORDh1ZwAAAAASnIMmFk5qWk1fWm1iUVV1V3Nwd3MxN3FqQ3cAAAAAEhy-SBZDNTBUdXhPeVM0bUg3UnZzcl9lR2N3AAAAABB37T4WaDRJMjhrcXVUOGE3dDI1VDhnWHMyZw== \n",
      "\n",
      "*************\n",
      "All Extracted:moving on to next segment\n",
      "https://api.crossref.org/works?query=Automated+literature+and+systematic+Reviews&filter=type:journal-article,from-created-date:2018-10-25,until-created-date:2018-11-22&select=DOI,title,score,created&rows=1000&cursor=DnF1ZXJ5VGhlbkZldGNoBgAAAAAAwb5eFjFGV1lXWE94VGU2bUMzaVRjNzc2aFEAAAAAD3e2KBY0amo4YndCWVRadUx4QV9WQlVKWHdnAAAAAADBvl8WMUZXWVdYT3hUZTZtQzNpVGM3NzZoUQAAAAAR3lqhFjdhbGlIQ0JtVEVlMW9yN2RJbTBZV2cAAAAAD_GduhZfNEZlTDBRZ1FuLWZ4NVhlZU9MYzN3AAAAABBvA4YWSTFVWlpBeGRTWi1nRllxOU9nQUYydw== \n",
      "\n",
      "*************\n",
      "All Extracted:moving on to next segment\n",
      "https://api.crossref.org/works?query=Automated+literature+and+systematic+Reviews&filter=type:journal-article,from-created-date:2018-11-22,until-created-date:2018-12-20&select=DOI,title,score,created&rows=1000&cursor=DnF1ZXJ5VGhlbkZldGNoBgAAAAASIpYfFkhUQjJYNFlSVFVPT1k5bVZmVDQzQXcAAAAAD3e22RY0amo4YndCWVRadUx4QV9WQlVKWHdnAAAAAADBv34WMUZXWVdYT3hUZTZtQzNpVGM3NzZoUQAAAAASnITWFk5qWk1fWm1iUVV1V3Nwd3MxN3FqQ3cAAAAAEhy_8BZDNTBUdXhPeVM0bUg3UnZzcl9lR2N3AAAAABBvBDMWSTFVWlpBeGRTWi1nRllxOU9nQUYydw== \n",
      "\n",
      "*************\n",
      "All Extracted:moving on to next segment\n",
      "https://api.crossref.org/works?query=Automated+literature+and+systematic+Reviews&filter=type:journal-article,from-created-date:2018-12-20,until-created-date:2019-01-17&select=DOI,title,score,created&rows=1000&cursor=DnF1ZXJ5VGhlbkZldGNoBgAAAAAAwcCjFjFGV1lXWE94VGU2bUMzaVRjNzc2aFEAAAAAD3e3ixY0amo4YndCWVRadUx4QV9WQlVKWHdnAAAAAADBwKQWMUZXWVdYT3hUZTZtQzNpVGM3NzZoUQAAAAAR3lujFjdhbGlIQ0JtVEVlMW9yN2RJbTBZV2cAAAAAEhzAuxZDNTBUdXhPeVM0bUg3UnZzcl9lR2N3AAAAABBvBOEWSTFVWlpBeGRTWi1nRllxOU9nQUYydw== \n",
      "\n",
      "*************\n",
      "All Extracted:moving on to next segment\n",
      "https://api.crossref.org/works?query=Automated+literature+and+systematic+Reviews&filter=type:journal-article,from-created-date:2019-01-17,until-created-date:2019-02-14&select=DOI,title,score,created&rows=1000&cursor=DnF1ZXJ5VGhlbkZldGNoBgAAAAASIpeDFkhUQjJYNFlSVFVPT1k5bVZmVDQzQXcAAAAAFvPEaBZHblpDbkEzT1FvRy0tOGFOZ05EOHVnAAAAABbzxGkWR25aQ25BM09Rb0ctLThhTmdORDh1ZwAAAAASnIaAFk5qWk1fWm1iUVV1V3Nwd3MxN3FqQ3cAAAAAD_GftBZfNEZlTDBRZ1FuLWZ4NVhlZU9MYzN3AAAAABB378AWaDRJMjhrcXVUOGE3dDI1VDhnWHMyZw== \n",
      "\n",
      "*************\n",
      "All Extracted:moving on to next segment\n",
      "https://api.crossref.org/works?query=Automated+literature+and+systematic+Reviews&filter=type:journal-article,from-created-date:2019-02-14,until-created-date:2019-03-14&select=DOI,title,score,created&rows=1000&cursor=DnF1ZXJ5VGhlbkZldGNoBgAAAAAAwcMeFjFGV1lXWE94VGU2bUMzaVRjNzc2aFEAAAAAFvPFqxZHblpDbkEzT1FvRy0tOGFOZ05EOHVnAAAAABbzxaoWR25aQ25BM09Rb0ctLThhTmdORDh1ZwAAAAASnIdbFk5qWk1fWm1iUVV1V3Nwd3MxN3FqQ3cAAAAAD_GgZRZfNEZlTDBRZ1FuLWZ4NVhlZU9MYzN3AAAAABB38GkWaDRJMjhrcXVUOGE3dDI1VDhnWHMyZw== \n",
      "\n",
      "*************\n",
      "All Extracted:moving on to next segment\n",
      "https://api.crossref.org/works?query=Automated+literature+and+systematic+Reviews&filter=type:journal-article,from-created-date:2019-03-14,until-created-date:2019-04-11&select=DOI,title,score,created&rows=1000&cursor=DnF1ZXJ5VGhlbkZldGNoBgAAAAASIpkcFkhUQjJYNFlSVFVPT1k5bVZmVDQzQXcAAAAAD3e5yxY0amo4YndCWVRadUx4QV9WQlVKWHdnAAAAABbzxwwWR25aQ25BM09Rb0ctLThhTmdORDh1ZwAAAAASnIhqFk5qWk1fWm1iUVV1V3Nwd3MxN3FqQ3cAAAAAEhzDiBZDNTBUdXhPeVM0bUg3UnZzcl9lR2N3AAAAABBvB2QWSTFVWlpBeGRTWi1nRllxOU9nQUYydw== \n",
      "\n",
      "*************\n",
      "All Extracted:moving on to next segment\n",
      "https://api.crossref.org/works?query=Automated+literature+and+systematic+Reviews&filter=type:journal-article,from-created-date:2019-04-11,until-created-date:2019-05-09&select=DOI,title,score,created&rows=1000&cursor=DnF1ZXJ5VGhlbkZldGNoBgAAAAASIpnfFkhUQjJYNFlSVFVPT1k5bVZmVDQzQXcAAAAAFvPIYBZHblpDbkEzT1FvRy0tOGFOZ05EOHVnAAAAABbzyGEWR25aQ25BM09Rb0ctLThhTmdORDh1ZwAAAAASnIlVFk5qWk1fWm1iUVV1V3Nwd3MxN3FqQ3cAAAAAD_Gh0RZfNEZlTDBRZ1FuLWZ4NVhlZU9MYzN3AAAAABB38doWaDRJMjhrcXVUOGE3dDI1VDhnWHMyZw== \n",
      "\n",
      "*************\n",
      "All Extracted:moving on to next segment\n",
      "https://api.crossref.org/works?query=Automated+literature+and+systematic+Reviews&filter=type:journal-article,from-created-date:2019-05-09,until-created-date:2019-06-06&select=DOI,title,score,created&rows=1000&cursor=DnF1ZXJ5VGhlbkZldGNoBgAAAAASIpqqFkhUQjJYNFlSVFVPT1k5bVZmVDQzQXcAAAAAFvPJqhZHblpDbkEzT1FvRy0tOGFOZ05EOHVnAAAAABbzyakWR25aQ25BM09Rb0ctLThhTmdORDh1ZwAAAAAR3l6vFjdhbGlIQ0JtVEVlMW9yN2RJbTBZV2cAAAAAD_GinBZfNEZlTDBRZ1FuLWZ4NVhlZU9MYzN3AAAAABB38owWaDRJMjhrcXVUOGE3dDI1VDhnWHMyZw== \n",
      "\n",
      "*************\n",
      "All Extracted:moving on to next segment\n",
      "https://api.crossref.org/works?query=Automated+literature+and+systematic+Reviews&filter=type:journal-article,from-created-date:2019-06-06,until-created-date:2019-07-04&select=DOI,title,score,created&rows=1000&cursor=DnF1ZXJ5VGhlbkZldGNoBgAAAAASIpuNFkhUQjJYNFlSVFVPT1k5bVZmVDQzQXcAAAAAD3e8RhY0amo4YndCWVRadUx4QV9WQlVKWHdnAAAAAADByMMWMUZXWVdYT3hUZTZtQzNpVGM3NzZoUQAAAAASnIt9Fk5qWk1fWm1iUVV1V3Nwd3MxN3FqQ3cAAAAAEhzGfBZDNTBUdXhPeVM0bUg3UnZzcl9lR2N3AAAAABB381MWaDRJMjhrcXVUOGE3dDI1VDhnWHMyZw== \n",
      "\n",
      "*************\n",
      "All Extracted:moving on to next segment\n",
      "https://api.crossref.org/works?query=Automated+literature+and+systematic+Reviews&filter=type:journal-article,from-created-date:2019-07-04,until-created-date:2019-08-01&select=DOI,title,score,created&rows=1000&cursor=DnF1ZXJ5VGhlbkZldGNoBgAAAAASIpyhFkhUQjJYNFlSVFVPT1k5bVZmVDQzQXcAAAAAFvPM0hZHblpDbkEzT1FvRy0tOGFOZ05EOHVnAAAAABbzzNMWR25aQ25BM09Rb0ctLThhTmdORDh1ZwAAAAASnI0gFk5qWk1fWm1iUVV1V3Nwd3MxN3FqQ3cAAAAAD_GkrRZfNEZlTDBRZ1FuLWZ4NVhlZU9MYzN3AAAAABB39EAWaDRJMjhrcXVUOGE3dDI1VDhnWHMyZw== \n",
      "\n",
      "*************\n",
      "All Extracted:moving on to next segment\n",
      "https://api.crossref.org/works?query=Automated+literature+and+systematic+Reviews&filter=type:journal-article,from-created-date:2019-08-01,until-created-date:2019-08-29&select=DOI,title,score,created&rows=1000&cursor=DnF1ZXJ5VGhlbkZldGNoBgAAAAASIp14FkhUQjJYNFlSVFVPT1k5bVZmVDQzQXcAAAAAD3e-HBY0amo4YndCWVRadUx4QV9WQlVKWHdnAAAAAADBy8gWMUZXWVdYT3hUZTZtQzNpVGM3NzZoUQAAAAASnI4lFk5qWk1fWm1iUVV1V3Nwd3MxN3FqQ3cAAAAAEhzJBBZDNTBUdXhPeVM0bUg3UnZzcl9lR2N3AAAAABBvDDcWSTFVWlpBeGRTWi1nRllxOU9nQUYydw== \n",
      "\n",
      "*************\n",
      "All Extracted:moving on to next segment\n"
     ]
    },
    {
     "name": "stdout",
     "output_type": "stream",
     "text": [
      "https://api.crossref.org/works?query=Automated+literature+and+systematic+Reviews&filter=type:journal-article,from-created-date:2019-08-29,until-created-date:2019-09-26&select=DOI,title,score,created&rows=1000&cursor=DnF1ZXJ5VGhlbkZldGNoBgAAAAASIp4tFkhUQjJYNFlSVFVPT1k5bVZmVDQzQXcAAAAAD3e-4hY0amo4YndCWVRadUx4QV9WQlVKWHdnAAAAABbzz2EWR25aQ25BM09Rb0ctLThhTmdORDh1ZwAAAAASnI8AFk5qWk1fWm1iUVV1V3Nwd3MxN3FqQ3cAAAAAEhzJ7RZDNTBUdXhPeVM0bUg3UnZzcl9lR2N3AAAAABB39ZkWaDRJMjhrcXVUOGE3dDI1VDhnWHMyZw== \n",
      "\n",
      "*************\n",
      "All Extracted:moving on to next segment\n",
      "https://api.crossref.org/works?query=Automated+literature+and+systematic+Reviews&filter=type:journal-article,from-created-date:2019-09-26,until-created-date:2019-10-24&select=DOI,title,score,created&rows=1000&cursor=DnF1ZXJ5VGhlbkZldGNoBgAAAAAAwc4nFjFGV1lXWE94VGU2bUMzaVRjNzc2aFEAAAAAFvPQhxZHblpDbkEzT1FvRy0tOGFOZ05EOHVnAAAAAADBzigWMUZXWVdYT3hUZTZtQzNpVGM3NzZoUQAAAAAR3mHiFjdhbGlIQ0JtVEVlMW9yN2RJbTBZV2cAAAAAEhzKuxZDNTBUdXhPeVM0bUg3UnZzcl9lR2N3AAAAABBvDbUWSTFVWlpBeGRTWi1nRllxOU9nQUYydw== \n",
      "\n",
      "*************\n",
      "All Extracted:moving on to next segment\n",
      "https://api.crossref.org/works?query=Automated+literature+and+systematic+Reviews&filter=type:journal-article,from-created-date:2019-10-24,until-created-date:2019-11-21&select=DOI,title,score,created&rows=1000&cursor=DnF1ZXJ5VGhlbkZldGNoBgAAAAAAwc-EFjFGV1lXWE94VGU2bUMzaVRjNzc2aFEAAAAAD3fAYxY0amo4YndCWVRadUx4QV9WQlVKWHdnAAAAAADBz4UWMUZXWVdYT3hUZTZtQzNpVGM3NzZoUQAAAAAR3mKNFjdhbGlIQ0JtVEVlMW9yN2RJbTBZV2cAAAAAEhzLtBZDNTBUdXhPeVM0bUg3UnZzcl9lR2N3AAAAABBvDngWSTFVWlpBeGRTWi1nRllxOU9nQUYydw== \n",
      "\n",
      "*************\n",
      "All Extracted:moving on to next segment\n",
      "https://api.crossref.org/works?query=Automated+literature+and+systematic+Reviews&filter=type:journal-article,from-created-date:2019-11-21,until-created-date:2019-12-19&select=DOI,title,score,created&rows=1000&cursor=DnF1ZXJ5VGhlbkZldGNoBgAAAAASIqBaFkhUQjJYNFlSVFVPT1k5bVZmVDQzQXcAAAAAD3fBCBY0amo4YndCWVRadUx4QV9WQlVKWHdnAAAAAADB0IoWMUZXWVdYT3hUZTZtQzNpVGM3NzZoUQAAAAASnJGnFk5qWk1fWm1iUVV1V3Nwd3MxN3FqQ3cAAAAAEhzMdRZDNTBUdXhPeVM0bUg3UnZzcl9lR2N3AAAAABBvDxkWSTFVWlpBeGRTWi1nRllxOU9nQUYydw== \n",
      "\n",
      "*************\n",
      "All Extracted:moving on to next segment\n",
      "https://api.crossref.org/works?query=Automated+literature+and+systematic+Reviews&filter=type:journal-article,from-created-date:2019-12-19,until-created-date:2020-01-16&select=DOI,title,score,created&rows=1000&cursor=DnF1ZXJ5VGhlbkZldGNoBgAAAAASIqFoFkhUQjJYNFlSVFVPT1k5bVZmVDQzQXcAAAAAD3fCBBY0amo4YndCWVRadUx4QV9WQlVKWHdnAAAAABbz1I8WR25aQ25BM09Rb0ctLThhTmdORDh1ZwAAAAASnJLoFk5qWk1fWm1iUVV1V3Nwd3MxN3FqQ3cAAAAAEhzNoBZDNTBUdXhPeVM0bUg3UnZzcl9lR2N3AAAAABBvEBAWSTFVWlpBeGRTWi1nRllxOU9nQUYydw== \n",
      "\n",
      "*************\n",
      "All Extracted:moving on to next segment\n",
      "https://api.crossref.org/works?query=Automated+literature+and+systematic+Reviews&filter=type:journal-article,from-created-date:2020-01-16,until-created-date:2020-02-13&select=DOI,title,score,created&rows=1000&cursor=DnF1ZXJ5VGhlbkZldGNoBgAAAAAAwdNQFjFGV1lXWE94VGU2bUMzaVRjNzc2aFEAAAAAFvPVvBZHblpDbkEzT1FvRy0tOGFOZ05EOHVnAAAAAADB01EWMUZXWVdYT3hUZTZtQzNpVGM3NzZoUQAAAAAR3mRNFjdhbGlIQ0JtVEVlMW9yN2RJbTBZV2cAAAAAD_GpnBZfNEZlTDBRZ1FuLWZ4NVhlZU9MYzN3AAAAABBvEMwWSTFVWlpBeGRTWi1nRllxOU9nQUYydw== \n",
      "\n",
      "*************\n",
      "All Extracted:moving on to next segment\n",
      "https://api.crossref.org/works?query=Automated+literature+and+systematic+Reviews&filter=type:journal-article,from-created-date:2020-02-13,until-created-date:2020-03-12&select=DOI,title,score,created&rows=1000&cursor=DnF1ZXJ5VGhlbkZldGNoBgAAAAAAwdTSFjFGV1lXWE94VGU2bUMzaVRjNzc2aFEAAAAAFvPXYBZHblpDbkEzT1FvRy0tOGFOZ05EOHVnAAAAAADB1NMWMUZXWVdYT3hUZTZtQzNpVGM3NzZoUQAAAAAR3mUEFjdhbGlIQ0JtVEVlMW9yN2RJbTBZV2cAAAAAD_GqgxZfNEZlTDBRZ1FuLWZ4NVhlZU9MYzN3AAAAABBvEboWSTFVWlpBeGRTWi1nRllxOU9nQUYydw== \n",
      "\n",
      "*************\n",
      "All Extracted:moving on to next segment\n",
      "https://api.crossref.org/works?query=Automated+literature+and+systematic+Reviews&filter=type:journal-article,from-created-date:2020-03-12,until-created-date:2020-04-09&select=DOI,title,score,created&rows=1000&cursor=DnF1ZXJ5VGhlbkZldGNoBgAAAAAAwdZxFjFGV1lXWE94VGU2bUMzaVRjNzc2aFEAAAAAD3fEsRY0amo4YndCWVRadUx4QV9WQlVKWHdnAAAAAADB1nIWMUZXWVdYT3hUZTZtQzNpVGM3NzZoUQAAAAAR3mXLFjdhbGlIQ0JtVEVlMW9yN2RJbTBZV2cAAAAAD_GriRZfNEZlTDBRZ1FuLWZ4NVhlZU9MYzN3AAAAABBvErcWSTFVWlpBeGRTWi1nRllxOU9nQUYydw== \n",
      "\n",
      "*************\n",
      "All Extracted:moving on to next segment\n",
      "https://api.crossref.org/works?query=Automated+literature+and+systematic+Reviews&filter=type:journal-article,from-created-date:2020-04-09,until-created-date:2020-05-07&select=DOI,title,score,created&rows=1000&cursor=DnF1ZXJ5VGhlbkZldGNoBgAAAAASIqU2FkhUQjJYNFlSVFVPT1k5bVZmVDQzQXcAAAAAD3fFtRY0amo4YndCWVRadUx4QV9WQlVKWHdnAAAAABbz2uAWR25aQ25BM09Rb0ctLThhTmdORDh1ZwAAAAASnJdjFk5qWk1fWm1iUVV1V3Nwd3MxN3FqQ3cAAAAAEhzR3BZDNTBUdXhPeVM0bUg3UnZzcl9lR2N3AAAAABBvE7IWSTFVWlpBeGRTWi1nRllxOU9nQUYydw== \n",
      "\n",
      "*************\n",
      "All Extracted:moving on to next segment\n",
      "https://api.crossref.org/works?query=Automated+literature+and+systematic+Reviews&filter=type:journal-article,from-created-date:2020-05-07,until-created-date:2020-06-04&select=DOI,title,score,created&rows=1000&cursor=DnF1ZXJ5VGhlbkZldGNoBgAAAAAAwdlrFjFGV1lXWE94VGU2bUMzaVRjNzc2aFEAAAAAFvPcLBZHblpDbkEzT1FvRy0tOGFOZ05EOHVnAAAAAADB2WwWMUZXWVdYT3hUZTZtQzNpVGM3NzZoUQAAAAAR3mcyFjdhbGlIQ0JtVEVlMW9yN2RJbTBZV2cAAAAAEhzS1hZDNTBUdXhPeVM0bUg3UnZzcl9lR2N3AAAAABBvFIsWSTFVWlpBeGRTWi1nRllxOU9nQUYydw== \n",
      "\n",
      "*************\n",
      "All Extracted:moving on to next segment\n",
      "https://api.crossref.org/works?query=Automated+literature+and+systematic+Reviews&filter=type:journal-article,from-created-date:2020-06-04,until-created-date:2020-07-02&select=DOI,title,score,created&rows=1000&cursor=DnF1ZXJ5VGhlbkZldGNoBgAAAAASIqctFkhUQjJYNFlSVFVPT1k5bVZmVDQzQXcAAAAAD3fHmxY0amo4YndCWVRadUx4QV9WQlVKWHdnAAAAABbz3hMWR25aQ25BM09Rb0ctLThhTmdORDh1ZwAAAAASnJm1Fk5qWk1fWm1iUVV1V3Nwd3MxN3FqQ3cAAAAAEhzUGRZDNTBUdXhPeVM0bUg3UnZzcl9lR2N3AAAAABB3_Z4WaDRJMjhrcXVUOGE3dDI1VDhnWHMyZw== \n",
      "\n",
      "*************\n",
      "All Extracted:moving on to next segment\n",
      "https://api.crossref.org/works?query=Automated+literature+and+systematic+Reviews&filter=type:journal-article,from-created-date:2020-07-02,until-created-date:2020-07-30&select=DOI,title,score,created&rows=1000&cursor=DnF1ZXJ5VGhlbkZldGNoBgAAAAAAwd1kFjFGV1lXWE94VGU2bUMzaVRjNzc2aFEAAAAAD3fI_RY0amo4YndCWVRadUx4QV9WQlVKWHdnAAAAAADB3WUWMUZXWVdYT3hUZTZtQzNpVGM3NzZoUQAAAAAR3mkEFjdhbGlIQ0JtVEVlMW9yN2RJbTBZV2cAAAAAEhzVphZDNTBUdXhPeVM0bUg3UnZzcl9lR2N3AAAAABBvFuoWSTFVWlpBeGRTWi1nRllxOU9nQUYydw== \n",
      "\n",
      "*************\n",
      "All Extracted:moving on to next segment\n",
      "https://api.crossref.org/works?query=Automated+literature+and+systematic+Reviews&filter=type:journal-article,from-created-date:2020-07-30,until-created-date:2020-08-27&select=DOI,title,score,created&rows=1000&cursor=DnF1ZXJ5VGhlbkZldGNoBgAAAAASIqmCFkhUQjJYNFlSVFVPT1k5bVZmVDQzQXcAAAAAD3fJ-hY0amo4YndCWVRadUx4QV9WQlVKWHdnAAAAABbz4eYWR25aQ25BM09Rb0ctLThhTmdORDh1ZwAAAAASnJx7Fk5qWk1fWm1iUVV1V3Nwd3MxN3FqQ3cAAAAAEhzWxxZDNTBUdXhPeVM0bUg3UnZzcl9lR2N3AAAAABB3_7sWaDRJMjhrcXVUOGE3dDI1VDhnWHMyZw== \n",
      "\n",
      "*************\n",
      "All Extracted:moving on to next segment\n",
      "https://api.crossref.org/works?query=Automated+literature+and+systematic+Reviews&filter=type:journal-article,from-created-date:2020-08-27,until-created-date:2020-09-24&select=DOI,title,score,created&rows=1000&cursor=DnF1ZXJ5VGhlbkZldGNoBgAAAAAAweDgFjFGV1lXWE94VGU2bUMzaVRjNzc2aFEAAAAAFvPjlRZHblpDbkEzT1FvRy0tOGFOZ05EOHVnAAAAAADB4OEWMUZXWVdYT3hUZTZtQzNpVGM3NzZoUQAAAAAR3mqnFjdhbGlIQ0JtVEVlMW9yN2RJbTBZV2cAAAAAD_GxXRZfNEZlTDBRZ1FuLWZ4NVhlZU9MYzN3AAAAABBvGPwWSTFVWlpBeGRTWi1nRllxOU9nQUYydw== \n",
      "\n",
      "*************\n",
      "All Extracted:moving on to next segment\n",
      "https://api.crossref.org/works?query=Automated+literature+and+systematic+Reviews&filter=type:journal-article,from-created-date:2020-09-24,until-created-date:2020-10-22&select=DOI,title,score,created&rows=1000&cursor=DnF1ZXJ5VGhlbkZldGNoBgAAAAAAweLFFjFGV1lXWE94VGU2bUMzaVRjNzc2aFEAAAAAD3fMRhY0amo4YndCWVRadUx4QV9WQlVKWHdnAAAAAADB4sYWMUZXWVdYT3hUZTZtQzNpVGM3NzZoUQAAAAAR3muPFjdhbGlIQ0JtVEVlMW9yN2RJbTBZV2cAAAAAD_GydxZfNEZlTDBRZ1FuLWZ4NVhlZU9MYzN3AAAAABBvGioWSTFVWlpBeGRTWi1nRllxOU9nQUYydw== \n",
      "\n",
      "*************\n",
      "All Extracted:moving on to next segment\n",
      "https://api.crossref.org/works?query=Automated+literature+and+systematic+Reviews&filter=type:journal-article,from-created-date:2020-10-22,until-created-date:2020-11-19&select=DOI,title,score,created&rows=1000&cursor=DnF1ZXJ5VGhlbkZldGNoBgAAAAAAwePkFjFGV1lXWE94VGU2bUMzaVRjNzc2aFEAAAAAD3fM-BY0amo4YndCWVRadUx4QV9WQlVKWHdnAAAAAADB4-UWMUZXWVdYT3hUZTZtQzNpVGM3NzZoUQAAAAAR3mwZFjdhbGlIQ0JtVEVlMW9yN2RJbTBZV2cAAAAAD_GzJhZfNEZlTDBRZ1FuLWZ4NVhlZU9MYzN3AAAAABBvGtwWSTFVWlpBeGRTWi1nRllxOU9nQUYydw== \n",
      "\n",
      "*************\n"
     ]
    },
    {
     "name": "stdout",
     "output_type": "stream",
     "text": [
      "All Extracted:moving on to next segment\n",
      "https://api.crossref.org/works?query=Automated+literature+and+systematic+Reviews&filter=type:journal-article,from-created-date:2020-11-19,until-created-date:2020-12-17&select=DOI,title,score,created&rows=1000&cursor=DnF1ZXJ5VGhlbkZldGNoBgAAAAASIq17FkhUQjJYNFlSVFVPT1k5bVZmVDQzQXcAAAAAD3fN3BY0amo4YndCWVRadUx4QV9WQlVKWHdnAAAAABbz6D4WR25aQ25BM09Rb0ctLThhTmdORDh1ZwAAAAASnKE1Fk5qWk1fWm1iUVV1V3Nwd3MxN3FqQ3cAAAAAEhzbUhZDNTBUdXhPeVM0bUg3UnZzcl9lR2N3AAAAABB4AyQWaDRJMjhrcXVUOGE3dDI1VDhnWHMyZw== \n",
      "\n",
      "*************\n",
      "All Extracted:moving on to next segment\n",
      "https://api.crossref.org/works?query=Automated+literature+and+systematic+Reviews&filter=type:journal-article,from-created-date:2020-12-17,until-created-date:2021-01-14&select=DOI,title,score,created&rows=1000&cursor=DnF1ZXJ5VGhlbkZldGNoBgAAAAASIq5GFkhUQjJYNFlSVFVPT1k5bVZmVDQzQXcAAAAAD3fOsxY0amo4YndCWVRadUx4QV9WQlVKWHdnAAAAAADB5t8WMUZXWVdYT3hUZTZtQzNpVGM3NzZoUQAAAAASnKJGFk5qWk1fWm1iUVV1V3Nwd3MxN3FqQ3cAAAAAEhzcWxZDNTBUdXhPeVM0bUg3UnZzcl9lR2N3AAAAABBvHMIWSTFVWlpBeGRTWi1nRllxOU9nQUYydw== \n",
      "\n",
      "*************\n",
      "All Extracted:moving on to next segment\n",
      "https://api.crossref.org/works?query=Automated+literature+and+systematic+Reviews&filter=type:journal-article,from-created-date:2021-01-14,until-created-date:2021-02-11&select=DOI,title,score,created&rows=1000&cursor=DnF1ZXJ5VGhlbkZldGNoBgAAAAAAweh4FjFGV1lXWE94VGU2bUMzaVRjNzc2aFEAAAAAFvPrYRZHblpDbkEzT1FvRy0tOGFOZ05EOHVnAAAAABbz62AWR25aQ25BM09Rb0ctLThhTmdORDh1ZwAAAAASnKOPFk5qWk1fWm1iUVV1V3Nwd3MxN3FqQ3cAAAAAD_G16hZfNEZlTDBRZ1FuLWZ4NVhlZU9MYzN3AAAAABB4BNoWaDRJMjhrcXVUOGE3dDI1VDhnWHMyZw== \n",
      "\n",
      "*************\n",
      "All Extracted:moving on to next segment\n",
      "https://api.crossref.org/works?query=Automated+literature+and+systematic+Reviews&filter=type:journal-article,from-created-date:2021-02-11,until-created-date:2021-03-11&select=DOI,title,score,created&rows=1000&cursor=DnF1ZXJ5VGhlbkZldGNoBgAAAAASIrCfFkhUQjJYNFlSVFVPT1k5bVZmVDQzQXcAAAAAFvPtaRZHblpDbkEzT1FvRy0tOGFOZ05EOHVnAAAAABbz7WoWR25aQ25BM09Rb0ctLThhTmdORDh1ZwAAAAAR3m8lFjdhbGlIQ0JtVEVlMW9yN2RJbTBZV2cAAAAAD_G3DhZfNEZlTDBRZ1FuLWZ4NVhlZU9MYzN3AAAAABB4BfEWaDRJMjhrcXVUOGE3dDI1VDhnWHMyZw== \n",
      "\n",
      "*************\n",
      "All Extracted:moving on to next segment\n",
      "https://api.crossref.org/works?query=Automated+literature+and+systematic+Reviews&filter=type:journal-article,from-created-date:2021-03-11,until-created-date:2021-04-08&select=DOI,title,score,created&rows=1000&cursor=DnF1ZXJ5VGhlbkZldGNoBgAAAAASIrHXFkhUQjJYNFlSVFVPT1k5bVZmVDQzQXcAAAAAD3fSLhY0amo4YndCWVRadUx4QV9WQlVKWHdnAAAAAADB7G8WMUZXWVdYT3hUZTZtQzNpVGM3NzZoUQAAAAASnKZ5Fk5qWk1fWm1iUVV1V3Nwd3MxN3FqQ3cAAAAAEhzgdhZDNTBUdXhPeVM0bUg3UnZzcl9lR2N3AAAAABBvIDcWSTFVWlpBeGRTWi1nRllxOU9nQUYydw== \n",
      "\n",
      "*************\n",
      "All Extracted:moving on to next segment\n",
      "https://api.crossref.org/works?query=Automated+literature+and+systematic+Reviews&filter=type:journal-article,from-created-date:2021-04-08,until-created-date:2021-05-06&select=DOI,title,score,created&rows=1000&cursor=DnF1ZXJ5VGhlbkZldGNoBgAAAAAAwe4BFjFGV1lXWE94VGU2bUMzaVRjNzc2aFEAAAAAFvPw3xZHblpDbkEzT1FvRy0tOGFOZ05EOHVnAAAAABbz8OAWR25aQ25BM09Rb0ctLThhTmdORDh1ZwAAAAAR3nC-FjdhbGlIQ0JtVEVlMW9yN2RJbTBZV2cAAAAAD_G47hZfNEZlTDBRZ1FuLWZ4NVhlZU9MYzN3AAAAABB4B9cWaDRJMjhrcXVUOGE3dDI1VDhnWHMyZw== \n",
      "\n",
      "*************\n",
      "All Extracted:moving on to next segment\n",
      "API timed out:skipping and moving on to next segment\n",
      "https://api.crossref.org/works?query=Automated+literature+and+systematic+Reviews&filter=type:journal-article,from-created-date:2021-05-06,until-created-date:2021-06-03&select=DOI,title,score,created&rows=1000&cursor=DnF1ZXJ5VGhlbkZldGNoBgAAAAASIrQpFkhUQjJYNFlSVFVPT1k5bVZmVDQzQXcAAAAAFvPzChZHblpDbkEzT1FvRy0tOGFOZ05EOHVnAAAAABbz8wkWR25aQ25BM09Rb0ctLThhTmdORDh1ZwAAAAAR3nHIFjdhbGlIQ0JtVEVlMW9yN2RJbTBZV2cAAAAAD_G6LhZfNEZlTDBRZ1FuLWZ4NVhlZU9MYzN3AAAAABB4CRAWaDRJMjhrcXVUOGE3dDI1VDhnWHMyZw== \n",
      "\n",
      "*************\n",
      "All Extracted:moving on to next segment\n",
      "https://api.crossref.org/works?query=Automated+literature+and+systematic+Reviews&filter=type:journal-article,from-created-date:2021-06-03,until-created-date:2021-07-01&select=DOI,title,score,created&rows=1000&cursor=DnF1ZXJ5VGhlbkZldGNoBgAAAAASIrVMFkhUQjJYNFlSVFVPT1k5bVZmVDQzQXcAAAAAFvP04BZHblpDbkEzT1FvRy0tOGFOZ05EOHVnAAAAABbz9OEWR25aQ25BM09Rb0ctLThhTmdORDh1ZwAAAAAR3nKzFjdhbGlIQ0JtVEVlMW9yN2RJbTBZV2cAAAAAD_G7OhZfNEZlTDBRZ1FuLWZ4NVhlZU9MYzN3AAAAABB4Cg0WaDRJMjhrcXVUOGE3dDI1VDhnWHMyZw== \n",
      "\n",
      "*************\n",
      "All Extracted:moving on to next segment\n",
      "https://api.crossref.org/works?query=Automated+literature+and+systematic+Reviews&filter=type:journal-article,from-created-date:2021-07-01,until-created-date:2021-07-29&select=DOI,title,score,created&rows=1000&cursor=DnF1ZXJ5VGhlbkZldGNoBgAAAAAAwfROFjFGV1lXWE94VGU2bUMzaVRjNzc2aFEAAAAAD3fXIRY0amo4YndCWVRadUx4QV9WQlVKWHdnAAAAAADB9E8WMUZXWVdYT3hUZTZtQzNpVGM3NzZoUQAAAAAR3nOiFjdhbGlIQ0JtVEVlMW9yN2RJbTBZV2cAAAAAEhzl6xZDNTBUdXhPeVM0bUg3UnZzcl9lR2N3AAAAABBvJOEWSTFVWlpBeGRTWi1nRllxOU9nQUYydw== \n",
      "\n",
      "*************\n",
      "All Extracted:moving on to next segment\n",
      "https://api.crossref.org/works?query=Automated+literature+and+systematic+Reviews&filter=type:journal-article,from-created-date:2021-07-29,until-created-date:2021-08-26&select=DOI,title,score,created&rows=1000&cursor=DnF1ZXJ5VGhlbkZldGNoBgAAAAAAwfYrFjFGV1lXWE94VGU2bUMzaVRjNzc2aFEAAAAAD3fYYRY0amo4YndCWVRadUx4QV9WQlVKWHdnAAAAAADB9iwWMUZXWVdYT3hUZTZtQzNpVGM3NzZoUQAAAAAR3nR-FjdhbGlIQ0JtVEVlMW9yN2RJbTBZV2cAAAAAEhznRhZDNTBUdXhPeVM0bUg3UnZzcl9lR2N3AAAAABBvJfMWSTFVWlpBeGRTWi1nRllxOU9nQUYydw== \n",
      "\n",
      "*************\n",
      "All Extracted:moving on to next segment\n",
      "https://api.crossref.org/works?query=Automated+literature+and+systematic+Reviews&filter=type:journal-article,from-created-date:2021-08-26,until-created-date:2021-09-23&select=DOI,title,score,created&rows=1000&cursor=DnF1ZXJ5VGhlbkZldGNoBgAAAAAAwfdZFjFGV1lXWE94VGU2bUMzaVRjNzc2aFEAAAAAD3fZGhY0amo4YndCWVRadUx4QV9WQlVKWHdnAAAAAADB91oWMUZXWVdYT3hUZTZtQzNpVGM3NzZoUQAAAAAR3nURFjdhbGlIQ0JtVEVlMW9yN2RJbTBZV2cAAAAAEhzoHxZDNTBUdXhPeVM0bUg3UnZzcl9lR2N3AAAAABBvJq0WSTFVWlpBeGRTWi1nRllxOU9nQUYydw== \n",
      "\n",
      "*************\n",
      "All Extracted:moving on to next segment\n",
      "https://api.crossref.org/works?query=Automated+literature+and+systematic+Reviews&filter=type:journal-article,from-created-date:2021-09-23,until-created-date:2021-10-21&select=DOI,title,score,created&rows=1000&cursor=DnF1ZXJ5VGhlbkZldGNoBgAAAAAAwfjqFjFGV1lXWE94VGU2bUMzaVRjNzc2aFEAAAAAD3fZ_xY0amo4YndCWVRadUx4QV9WQlVKWHdnAAAAAADB-OsWMUZXWVdYT3hUZTZtQzNpVGM3NzZoUQAAAAAR3nXOFjdhbGlIQ0JtVEVlMW9yN2RJbTBZV2cAAAAAEhzpIBZDNTBUdXhPeVM0bUg3UnZzcl9lR2N3AAAAABBvJ6QWSTFVWlpBeGRTWi1nRllxOU9nQUYydw== \n",
      "\n",
      "*************\n",
      "All Extracted:moving on to next segment\n",
      "https://api.crossref.org/works?query=Automated+literature+and+systematic+Reviews&filter=type:journal-article,from-created-date:2021-10-21,until-created-date:2021-11-18&select=DOI,title,score,created&rows=1000&cursor=DnF1ZXJ5VGhlbkZldGNoBgAAAAAAwfpLFjFGV1lXWE94VGU2bUMzaVRjNzc2aFEAAAAAFvP9OBZHblpDbkEzT1FvRy0tOGFOZ05EOHVnAAAAAADB-kwWMUZXWVdYT3hUZTZtQzNpVGM3NzZoUQAAAAAR3nZ3FjdhbGlIQ0JtVEVlMW9yN2RJbTBZV2cAAAAAD_G_qBZfNEZlTDBRZ1FuLWZ4NVhlZU9MYzN3AAAAABBvKIUWSTFVWlpBeGRTWi1nRllxOU9nQUYydw== \n",
      "\n",
      "*************\n",
      "All Extracted:moving on to next segment\n",
      "https://api.crossref.org/works?query=Automated+literature+and+systematic+Reviews&filter=type:journal-article,from-created-date:2021-11-18,until-created-date:2021-12-16&select=DOI,title,score,created&rows=1000&cursor=DnF1ZXJ5VGhlbkZldGNoBgAAAAASIrvGFkhUQjJYNFlSVFVPT1k5bVZmVDQzQXcAAAAAD3fcPxY0amo4YndCWVRadUx4QV9WQlVKWHdnAAAAABbz_0oWR25aQ25BM09Rb0ctLThhTmdORDh1ZwAAAAASnLIsFk5qWk1fWm1iUVV1V3Nwd3MxN3FqQ3cAAAAAEhzrphZDNTBUdXhPeVM0bUg3UnZzcl9lR2N3AAAAABB4D6YWaDRJMjhrcXVUOGE3dDI1VDhnWHMyZw== \n",
      "\n",
      "*************\n",
      "All Extracted:moving on to next segment\n",
      "https://api.crossref.org/works?query=Automated+literature+and+systematic+Reviews&filter=type:journal-article,from-created-date:2021-12-16,until-created-date:2022-01-13&select=DOI,title,score,created&rows=1000&cursor=DnF1ZXJ5VGhlbkZldGNoBgAAAAASIrzLFkhUQjJYNFlSVFVPT1k5bVZmVDQzQXcAAAAAD3fdOhY0amo4YndCWVRadUx4QV9WQlVKWHdnAAAAABb0AN0WR25aQ25BM09Rb0ctLThhTmdORDh1ZwAAAAASnLNSFk5qWk1fWm1iUVV1V3Nwd3MxN3FqQ3cAAAAAEhzs0RZDNTBUdXhPeVM0bUg3UnZzcl9lR2N3AAAAABBvKuQWSTFVWlpBeGRTWi1nRllxOU9nQUYydw== \n",
      "\n",
      "*************\n"
     ]
    },
    {
     "name": "stdout",
     "output_type": "stream",
     "text": [
      "All Extracted:moving on to next segment\n",
      "https://api.crossref.org/works?query=Automated+literature+and+systematic+Reviews&filter=type:journal-article,from-created-date:2022-01-13,until-created-date:2022-02-10&select=DOI,title,score,created&rows=1000&cursor=DnF1ZXJ5VGhlbkZldGNoBgAAAAASIr4FFkhUQjJYNFlSVFVPT1k5bVZmVDQzQXcAAAAAFvQC1xZHblpDbkEzT1FvRy0tOGFOZ05EOHVnAAAAABb0AtgWR25aQ25BM09Rb0ctLThhTmdORDh1ZwAAAAASnLTRFk5qWk1fWm1iUVV1V3Nwd3MxN3FqQ3cAAAAAD_HCvxZfNEZlTDBRZ1FuLWZ4NVhlZU9MYzN3AAAAABB4EZAWaDRJMjhrcXVUOGE3dDI1VDhnWHMyZw== \n",
      "\n",
      "*************\n",
      "All Extracted:moving on to next segment\n",
      "https://api.crossref.org/works?query=Automated+literature+and+systematic+Reviews&filter=type:journal-article,from-created-date:2022-02-10,until-created-date:2022-03-10&select=DOI,title,score,created&rows=1000&cursor=DnF1ZXJ5VGhlbkZldGNoBgAAAAAAwgIuFjFGV1lXWE94VGU2bUMzaVRjNzc2aFEAAAAAD3ffsBY0amo4YndCWVRadUx4QV9WQlVKWHdnAAAAAADCAi8WMUZXWVdYT3hUZTZtQzNpVGM3NzZoUQAAAAAR3noKFjdhbGlIQ0JtVEVlMW9yN2RJbTBZV2cAAAAAEhzvsRZDNTBUdXhPeVM0bUg3UnZzcl9lR2N3AAAAABBvLW4WSTFVWlpBeGRTWi1nRllxOU9nQUYydw== \n",
      "\n",
      "*************\n",
      "All Extracted:moving on to next segment\n",
      "https://api.crossref.org/works?query=Automated+literature+and+systematic+Reviews&filter=type:journal-article,from-created-date:2022-03-10,until-created-date:2022-04-07&select=DOI,title,score,created&rows=1000&cursor=DnF1ZXJ5VGhlbkZldGNoBgAAAAASIsBiFkhUQjJYNFlSVFVPT1k5bVZmVDQzQXcAAAAAFvQGtBZHblpDbkEzT1FvRy0tOGFOZ05EOHVnAAAAABb0BrkWR25aQ25BM09Rb0ctLThhTmdORDh1ZwAAAAASnLedFk5qWk1fWm1iUVV1V3Nwd3MxN3FqQ3cAAAAAD_HE5hZfNEZlTDBRZ1FuLWZ4NVhlZU9MYzN3AAAAABB4E5UWaDRJMjhrcXVUOGE3dDI1VDhnWHMyZw== \n",
      "\n",
      "*************\n",
      "All Extracted:moving on to next segment\n",
      "https://api.crossref.org/works?query=Automated+literature+and+systematic+Reviews&filter=type:journal-article,from-created-date:2022-04-07,until-created-date:2022-05-05&select=DOI,title,score,created&rows=1000&cursor=DnF1ZXJ5VGhlbkZldGNoBgAAAAASIsOFFkhUQjJYNFlSVFVPT1k5bVZmVDQzQXcAAAAAD3fkAxY0amo4YndCWVRadUx4QV9WQlVKWHdnAAAAAADCCYIWMUZXWVdYT3hUZTZtQzNpVGM3NzZoUQAAAAASnLsNFk5qWk1fWm1iUVV1V3Nwd3MxN3FqQ3cAAAAAEhz0WhZDNTBUdXhPeVM0bUg3UnZzcl9lR2N3AAAAABBvMZUWSTFVWlpBeGRTWi1nRllxOU9nQUYydw== \n",
      "\n",
      "*************\n",
      "All Extracted:moving on to next segment\n",
      "https://api.crossref.org/works?query=Automated+literature+and+systematic+Reviews&filter=type:journal-article,from-created-date:2022-05-05,until-created-date:2022-06-02&select=DOI,title,score,created&rows=1000&cursor=DnF1ZXJ5VGhlbkZldGNoBgAAAAAAwg4xFjFGV1lXWE94VGU2bUMzaVRjNzc2aFEAAAAAD3fmvBY0amo4YndCWVRadUx4QV9WQlVKWHdnAAAAAADCDjIWMUZXWVdYT3hUZTZtQzNpVGM3NzZoUQAAAAAR3n-ZFjdhbGlIQ0JtVEVlMW9yN2RJbTBZV2cAAAAAD_HJ8RZfNEZlTDBRZ1FuLWZ4NVhlZU9MYzN3AAAAABBvNEgWSTFVWlpBeGRTWi1nRllxOU9nQUYydw== \n",
      "\n",
      "*************\n",
      "All Extracted:moving on to next segment\n",
      "https://api.crossref.org/works?query=Automated+literature+and+systematic+Reviews&filter=type:journal-article,from-created-date:2022-06-02,until-created-date:2022-06-30&select=DOI,title,score,created&rows=1000&cursor=DnF1ZXJ5VGhlbkZldGNoBgAAAAASIselFkhUQjJYNFlSVFVPT1k5bVZmVDQzQXcAAAAAD3foKxY0amo4YndCWVRadUx4QV9WQlVKWHdnAAAAABb0EvIWR25aQ25BM09Rb0ctLThhTmdORDh1ZwAAAAASnL-bFk5qWk1fWm1iUVV1V3Nwd3MxN3FqQ3cAAAAAEhz4wxZDNTBUdXhPeVM0bUg3UnZzcl9lR2N3AAAAABBvNaMWSTFVWlpBeGRTWi1nRllxOU9nQUYydw== \n",
      "\n",
      "*************\n",
      "All Extracted:moving on to next segment\n",
      "https://api.crossref.org/works?query=Automated+literature+and+systematic+Reviews&filter=type:journal-article,from-created-date:2022-06-30,until-created-date:2022-07-28&select=DOI,title,score,created&rows=1000&cursor=DnF1ZXJ5VGhlbkZldGNoBgAAAAASIskqFkhUQjJYNFlSVFVPT1k5bVZmVDQzQXcAAAAAD3fpthY0amo4YndCWVRadUx4QV9WQlVKWHdnAAAAABb0FWsWR25aQ25BM09Rb0ctLThhTmdORDh1ZwAAAAASnMFVFk5qWk1fWm1iUVV1V3Nwd3MxN3FqQ3cAAAAAEhz6iBZDNTBUdXhPeVM0bUg3UnZzcl9lR2N3AAAAABB4G2QWaDRJMjhrcXVUOGE3dDI1VDhnWHMyZw== \n",
      "\n",
      "*************\n",
      "All Extracted:moving on to next segment\n",
      "https://api.crossref.org/works?query=Automated+literature+and+systematic+Reviews&filter=type:journal-article,from-created-date:2022-07-28,until-created-date:2022-08-25&select=DOI,title,score,created&rows=1000&cursor=DnF1ZXJ5VGhlbkZldGNoBgAAAAAAwhTUFjFGV1lXWE94VGU2bUMzaVRjNzc2aFEAAAAAD3fqkBY0amo4YndCWVRadUx4QV9WQlVKWHdnAAAAAADCFNUWMUZXWVdYT3hUZTZtQzNpVGM3NzZoUQAAAAAR3oKqFjdhbGlIQ0JtVEVlMW9yN2RJbTBZV2cAAAAAEhz7jxZDNTBUdXhPeVM0bUg3UnZzcl9lR2N3AAAAABBvOBwWSTFVWlpBeGRTWi1nRllxOU9nQUYydw== \n",
      "\n",
      "*************\n",
      "All Extracted:moving on to next segment\n",
      "https://api.crossref.org/works?query=Automated+literature+and+systematic+Reviews&filter=type:journal-article,from-created-date:2022-08-25,until-created-date:2022-09-22&select=DOI,title,score,created&rows=1000&cursor=DnF1ZXJ5VGhlbkZldGNoBgAAAAAAwhaEFjFGV1lXWE94VGU2bUMzaVRjNzc2aFEAAAAAFvQYwRZHblpDbkEzT1FvRy0tOGFOZ05EOHVnAAAAAADCFoUWMUZXWVdYT3hUZTZtQzNpVGM3NzZoUQAAAAAR3oN5FjdhbGlIQ0JtVEVlMW9yN2RJbTBZV2cAAAAAD_HOVRZfNEZlTDBRZ1FuLWZ4NVhlZU9MYzN3AAAAABBvOSEWSTFVWlpBeGRTWi1nRllxOU9nQUYydw== \n",
      "\n",
      "*************\n",
      "All Extracted:moving on to next segment\n",
      "https://api.crossref.org/works?query=Automated+literature+and+systematic+Reviews&filter=type:journal-article,from-created-date:2022-09-22,until-created-date:2022-10-20&select=DOI,title,score,created&rows=1000&cursor=DnF1ZXJ5VGhlbkZldGNoBgAAAAAAwhhnFjFGV1lXWE94VGU2bUMzaVRjNzc2aFEAAAAAFvQahRZHblpDbkEzT1FvRy0tOGFOZ05EOHVnAAAAABb0GoYWR25aQ25BM09Rb0ctLThhTmdORDh1ZwAAAAAR3oRSFjdhbGlIQ0JtVEVlMW9yN2RJbTBZV2cAAAAAD_HPTRZfNEZlTDBRZ1FuLWZ4NVhlZU9MYzN3AAAAABB4HiEWaDRJMjhrcXVUOGE3dDI1VDhnWHMyZw== \n",
      "\n",
      "*************\n",
      "All Extracted:moving on to next segment\n",
      "https://api.crossref.org/works?query=Automated+literature+and+systematic+Reviews&filter=type:journal-article,from-created-date:2022-10-20,until-created-date:2022-11-17&select=DOI,title,score,created&rows=1000&cursor=DnF1ZXJ5VGhlbkZldGNoBgAAAAAAwhqsFjFGV1lXWE94VGU2bUMzaVRjNzc2aFEAAAAAD3fuSRY0amo4YndCWVRadUx4QV9WQlVKWHdnAAAAAADCGq0WMUZXWVdYT3hUZTZtQzNpVGM3NzZoUQAAAAAR3oVXFjdhbGlIQ0JtVEVlMW9yN2RJbTBZV2cAAAAAEhz_zRZDNTBUdXhPeVM0bUg3UnZzcl9lR2N3AAAAABBvO7sWSTFVWlpBeGRTWi1nRllxOU9nQUYydw== \n",
      "\n",
      "*************\n",
      "All Extracted:moving on to next segment\n",
      "https://api.crossref.org/works?query=Automated+literature+and+systematic+Reviews&filter=type:journal-article,from-created-date:2022-11-17,until-created-date:2022-12-15&select=DOI,title,score,created&rows=1000&cursor=DnF1ZXJ5VGhlbkZldGNoBgAAAAAAwhyjFjFGV1lXWE94VGU2bUMzaVRjNzc2aFEAAAAAD3fvhxY0amo4YndCWVRadUx4QV9WQlVKWHdnAAAAAADCHKQWMUZXWVdYT3hUZTZtQzNpVGM3NzZoUQAAAAAR3oY5FjdhbGlIQ0JtVEVlMW9yN2RJbTBZV2cAAAAAD_HSAhZfNEZlTDBRZ1FuLWZ4NVhlZU9MYzN3AAAAABBvPSYWSTFVWlpBeGRTWi1nRllxOU9nQUYydw== \n",
      "\n",
      "*************\n",
      "All Extracted:moving on to next segment\n",
      "4595.659497261047\n"
     ]
    }
   ],
   "source": [
    "start = time.time()\n",
    "cursors_li=[]\n",
    "missed_records = []\n",
    "\n",
    "for seg in range(len(date_list)):\n",
    "    \n",
    "    if len(date_list) == seg+1:\n",
    "        break\n",
    "    else:  \n",
    "        url = init_url(date_list[seg:seg+2])\n",
    "        response = requests.get(url).text\n",
    "        response_info = json.loads(response)\n",
    "        \n",
    "        if len(response_info['message']['items']) !=0:\n",
    "            pl = test_col.insert_many(response_info['message']['items'])\n",
    "            a = response_info['message']['next-cursor']\n",
    "            cursors_li.append(a)\n",
    "            url = cursor_url(date_list[seg:seg+2], a)\n",
    "            print(url,\"\\n\\n*************\")\n",
    "            ct = 0\n",
    "            while len(response_info['message']['items']) != 0:\n",
    "                try:\n",
    "                    response = requests.get(url).text\n",
    "                    response_info = json.loads(response)\n",
    "                    pl = test_col.insert_many(response_info['message']['items'])\n",
    "                    #a = response_info['message']['next-cursor']\n",
    "                    #url = cursor_url(date_list[seg:seg+2], a)\n",
    "                except:\n",
    "                    #if there is no response from the api for a url, which means either it timed out\n",
    "                    #or exhausted, in that case the message will be\n",
    "                    #empty and there will be nothing to enter in the database\n",
    "                    #this exception handler will handle such cases\n",
    "                    ct +=1\n",
    "                    if ct==1:\n",
    "                        print(\"All Extracted:moving on to next segment\")\n",
    "                    else:\n",
    "                        #save the url\n",
    "                        missed_records.append(url)\n",
    "                        print(\"API timed out:skipping and moving on to next segment\")\n",
    "                        #get out of the while loop and fetch records for the next segment\n",
    "                        break\n",
    "        else:\n",
    "            continue\n",
    "\n",
    "        \n",
    "end = time.time()\n",
    "print(end-start)\n"
   ]
  },
  {
   "cell_type": "code",
   "execution_count": null,
   "id": "263eaa65",
   "metadata": {},
   "outputs": [],
   "source": [
    "# test_dict = { \"surname\": \"Adamyan\", \"address\": \"Meliq Adamyan 1\",\n",
    "#              \"city\": \"Yerevan\" }\n",
    "# pl = test_col.insert_one(test_dict)"
   ]
  },
  {
   "cell_type": "code",
   "execution_count": 24,
   "id": "d33bf73b",
   "metadata": {},
   "outputs": [
    {
     "name": "stdout",
     "output_type": "stream",
     "text": [
      "thesis ← database exists\n"
     ]
    }
   ],
   "source": [
    "db_name = \"thesis\"\n",
    "test_client = pymongo.MongoClient('mongodb://localhost:27017/')\n",
    "test_db = test_client[db_name]\n",
    "\n",
    "\n",
    "def check_for_db(test_client,db_name):\n",
    "    dblist = test_client.list_database_names()\n",
    "    if db_name in dblist:\n",
    "        print(db_name + ' ← database exists')\n",
    "    else:\n",
    "        print(db_name + ' ← database does NOT exists')\n",
    "check_for_db(test_client,db_name) # check if database exists or not"
   ]
  },
  {
   "cell_type": "code",
   "execution_count": 25,
   "id": "3b0bb223",
   "metadata": {},
   "outputs": [],
   "source": [
    "col_name='query_results'\n",
    "test_col = test_db[col_name]"
   ]
  },
  {
   "cell_type": "code",
   "execution_count": 26,
   "id": "1913077b",
   "metadata": {},
   "outputs": [],
   "source": [
    "x = test_col.find()"
   ]
  },
  {
   "cell_type": "code",
   "execution_count": 27,
   "id": "56fba6b3",
   "metadata": {},
   "outputs": [],
   "source": [
    "li_all=[]\n",
    "for data in x:\n",
    "    li_all.append(data)"
   ]
  },
  {
   "cell_type": "code",
   "execution_count": 28,
   "id": "698b39f5",
   "metadata": {},
   "outputs": [
    {
     "data": {
      "text/plain": [
       "2307235"
      ]
     },
     "execution_count": 28,
     "metadata": {},
     "output_type": "execute_result"
    }
   ],
   "source": [
    "len(li_all)"
   ]
  },
  {
   "cell_type": "code",
   "execution_count": 29,
   "id": "93384b51",
   "metadata": {},
   "outputs": [
    {
     "data": {
      "text/plain": [
       "[{'_id': ObjectId('63813d65d070f257fb00b559'),\n",
       "  'DOI': '10.1080/146392400445891',\n",
       "  'title': ['Software reviews'],\n",
       "  'score': 15.120222,\n",
       "  'created': {'date-parts': [[2002, 7, 26]],\n",
       "   'date-time': '2002-07-26T12:14:43Z',\n",
       "   'timestamp': 1027685683000}},\n",
       " {'_id': ObjectId('63813d65d070f257fb00b55a'),\n",
       "  'DOI': '10.1046/j.1365-3113.2002.00180.x',\n",
       "  'title': ['Book Reviews'],\n",
       "  'score': 15.046331,\n",
       "  'created': {'date-parts': [[2002, 7, 28]],\n",
       "   'date-time': '2002-07-28T21:46:32Z',\n",
       "   'timestamp': 1027892792000}}]"
      ]
     },
     "execution_count": 29,
     "metadata": {},
     "output_type": "execute_result"
    }
   ],
   "source": [
    "li_all[1:3]"
   ]
  },
  {
   "cell_type": "code",
   "execution_count": 30,
   "id": "0f12e0c3",
   "metadata": {},
   "outputs": [],
   "source": [
    "df_all = pd.DataFrame(li_all)"
   ]
  },
  {
   "cell_type": "code",
   "execution_count": 31,
   "id": "38a1ddb4",
   "metadata": {},
   "outputs": [],
   "source": [
    "#drop duplicates is present\n",
    "df_all.drop_duplicates(subset=['DOI'],inplace=True)"
   ]
  },
  {
   "cell_type": "code",
   "execution_count": 32,
   "id": "9672d2b6",
   "metadata": {},
   "outputs": [
    {
     "data": {
      "text/plain": [
       "(2056652, 5)"
      ]
     },
     "execution_count": 32,
     "metadata": {},
     "output_type": "execute_result"
    }
   ],
   "source": [
    "df_all.shape"
   ]
  },
  {
   "cell_type": "code",
   "execution_count": 33,
   "id": "7598c9e1",
   "metadata": {},
   "outputs": [
    {
     "data": {
      "text/html": [
       "<div>\n",
       "<style scoped>\n",
       "    .dataframe tbody tr th:only-of-type {\n",
       "        vertical-align: middle;\n",
       "    }\n",
       "\n",
       "    .dataframe tbody tr th {\n",
       "        vertical-align: top;\n",
       "    }\n",
       "\n",
       "    .dataframe thead th {\n",
       "        text-align: right;\n",
       "    }\n",
       "</style>\n",
       "<table border=\"1\" class=\"dataframe\">\n",
       "  <thead>\n",
       "    <tr style=\"text-align: right;\">\n",
       "      <th></th>\n",
       "      <th>_id</th>\n",
       "      <th>DOI</th>\n",
       "      <th>title</th>\n",
       "      <th>score</th>\n",
       "      <th>created</th>\n",
       "    </tr>\n",
       "  </thead>\n",
       "  <tbody>\n",
       "    <tr>\n",
       "      <th>0</th>\n",
       "      <td>63813d65d070f257fb00b558</td>\n",
       "      <td>10.1136/bmj.323.7312.546</td>\n",
       "      <td>[Assessment of therapeutic safety in systemati...</td>\n",
       "      <td>17.089752</td>\n",
       "      <td>{'date-parts': [[2002, 7, 27]], 'date-time': '...</td>\n",
       "    </tr>\n",
       "    <tr>\n",
       "      <th>1</th>\n",
       "      <td>63813d65d070f257fb00b559</td>\n",
       "      <td>10.1080/146392400445891</td>\n",
       "      <td>[Software reviews]</td>\n",
       "      <td>15.120222</td>\n",
       "      <td>{'date-parts': [[2002, 7, 26]], 'date-time': '...</td>\n",
       "    </tr>\n",
       "    <tr>\n",
       "      <th>2</th>\n",
       "      <td>63813d65d070f257fb00b55a</td>\n",
       "      <td>10.1046/j.1365-3113.2002.00180.x</td>\n",
       "      <td>[Book Reviews]</td>\n",
       "      <td>15.046331</td>\n",
       "      <td>{'date-parts': [[2002, 7, 28]], 'date-time': '...</td>\n",
       "    </tr>\n",
       "    <tr>\n",
       "      <th>3</th>\n",
       "      <td>63813d65d070f257fb00b55b</td>\n",
       "      <td>10.1136/bmj.323.7306.224</td>\n",
       "      <td>[Systematic reviews in health care: Systematic...</td>\n",
       "      <td>14.980785</td>\n",
       "      <td>{'date-parts': [[2002, 7, 27]], 'date-time': '...</td>\n",
       "    </tr>\n",
       "    <tr>\n",
       "      <th>4</th>\n",
       "      <td>63813d65d070f257fb00b55c</td>\n",
       "      <td>10.1046/j.1365-3113.1999.00077.x</td>\n",
       "      <td>[Book Reviews]</td>\n",
       "      <td>14.893698</td>\n",
       "      <td>{'date-parts': [[2002, 7, 26]], 'date-time': '...</td>\n",
       "    </tr>\n",
       "  </tbody>\n",
       "</table>\n",
       "</div>"
      ],
      "text/plain": [
       "                        _id                               DOI  \\\n",
       "0  63813d65d070f257fb00b558          10.1136/bmj.323.7312.546   \n",
       "1  63813d65d070f257fb00b559           10.1080/146392400445891   \n",
       "2  63813d65d070f257fb00b55a  10.1046/j.1365-3113.2002.00180.x   \n",
       "3  63813d65d070f257fb00b55b          10.1136/bmj.323.7306.224   \n",
       "4  63813d65d070f257fb00b55c  10.1046/j.1365-3113.1999.00077.x   \n",
       "\n",
       "                                               title      score  \\\n",
       "0  [Assessment of therapeutic safety in systemati...  17.089752   \n",
       "1                                 [Software reviews]  15.120222   \n",
       "2                                     [Book Reviews]  15.046331   \n",
       "3  [Systematic reviews in health care: Systematic...  14.980785   \n",
       "4                                     [Book Reviews]  14.893698   \n",
       "\n",
       "                                             created  \n",
       "0  {'date-parts': [[2002, 7, 27]], 'date-time': '...  \n",
       "1  {'date-parts': [[2002, 7, 26]], 'date-time': '...  \n",
       "2  {'date-parts': [[2002, 7, 28]], 'date-time': '...  \n",
       "3  {'date-parts': [[2002, 7, 27]], 'date-time': '...  \n",
       "4  {'date-parts': [[2002, 7, 26]], 'date-time': '...  "
      ]
     },
     "execution_count": 33,
     "metadata": {},
     "output_type": "execute_result"
    }
   ],
   "source": [
    "df_all.head()"
   ]
  },
  {
   "cell_type": "code",
   "execution_count": 34,
   "id": "e566270a",
   "metadata": {},
   "outputs": [
    {
     "data": {
      "text/plain": [
       "_id           0\n",
       "DOI           0\n",
       "title      2542\n",
       "score         0\n",
       "created       0\n",
       "dtype: int64"
      ]
     },
     "execution_count": 34,
     "metadata": {},
     "output_type": "execute_result"
    }
   ],
   "source": [
    "df_all.isna().sum() #no na values"
   ]
  },
  {
   "cell_type": "code",
   "execution_count": 35,
   "id": "e318eecb",
   "metadata": {},
   "outputs": [],
   "source": [
    "df_all.dropna(subset=['title'],inplace=True)"
   ]
  },
  {
   "cell_type": "code",
   "execution_count": 36,
   "id": "bd479787",
   "metadata": {},
   "outputs": [
    {
     "data": {
      "text/plain": [
       "(2054110, 5)"
      ]
     },
     "execution_count": 36,
     "metadata": {},
     "output_type": "execute_result"
    }
   ],
   "source": [
    "df_all.shape"
   ]
  },
  {
   "cell_type": "code",
   "execution_count": 37,
   "id": "8bdf63cf",
   "metadata": {},
   "outputs": [],
   "source": [
    "text = \" \".join(tl[0] for tl in df_all.title)"
   ]
  },
  {
   "cell_type": "code",
   "execution_count": 75,
   "id": "f5b87821",
   "metadata": {},
   "outputs": [
    {
     "data": {
      "text/plain": [
       "'Assessment of therapeutic safety in systematic reviews: literature review Software reviews Book Reviews Systematic reviews in health care: Systematic reviews of evaluations of prognostic variables Book Reviews Systematic reviews in health care: Systematic reviews of evaluations of diagnostic and screening tests Respiratory rehabilitation in chronic obstructive pulmonary\\n      disease: summary of a systematic overview of the literature Book Reviews A new approach to automated pollen analysis Book Reviews Systematic reviews An automated iterative procedure for determining palaeodoses using the SARA method Book Reviews Book Reviews Book Reviews Book Reviews Systematic salt effects in the automated determination of nutrients in seawater Book Reviews Book Reviews Book Reviews Book Reviews Systematic reviews Case reports, case series and systematic reviews Systematic reviews of chemotherapy and endocrine therapy in metastatic breast cancer The quality of systematic reviews List of Book Revie'"
      ]
     },
     "execution_count": 75,
     "metadata": {},
     "output_type": "execute_result"
    }
   ],
   "source": [
    "text[0:1000]"
   ]
  },
  {
   "cell_type": "code",
   "execution_count": 39,
   "id": "3534ea99",
   "metadata": {},
   "outputs": [],
   "source": [
    "cleaned_text = re.sub('\\W+',' ',text)"
   ]
  },
  {
   "cell_type": "code",
   "execution_count": 74,
   "id": "951de541",
   "metadata": {},
   "outputs": [
    {
     "data": {
      "text/plain": [
       "'Assessment of therapeutic safety in systematic reviews literature review Software reviews Book Reviews Systematic reviews in health care Systematic reviews of evaluations of prognostic variables Book Reviews Systematic reviews in health care Systematic reviews of evaluations of diagnostic and screening tests Respiratory rehabilitation in chronic obstructive pulmonary disease summary of a systematic overview of the literature Book Reviews A new approach to automated pollen analysis Book Reviews Systematic reviews An automated iterative procedure for determining palaeodoses using the SARA method Book Reviews Book Reviews Book Reviews Book Reviews Systematic salt effects in the automated determination of nutrients in seawater Book Reviews Book Reviews Book Reviews Book Reviews Systematic reviews Case reports case series and systematic reviews Systematic reviews of chemotherapy and endocrine therapy in metastatic breast cancer The quality of systematic reviews List of Book Reviews Identify'"
      ]
     },
     "execution_count": 74,
     "metadata": {},
     "output_type": "execute_result"
    }
   ],
   "source": [
    "cleaned_text[0:1000]"
   ]
  },
  {
   "cell_type": "code",
   "execution_count": 43,
   "id": "1fee41ba",
   "metadata": {},
   "outputs": [
    {
     "data": {
      "image/png": "[encoded data removed]",
      "text/plain": [
       "<Figure size 432x288 with 1 Axes>"
      ]
     },
     "metadata": {
      "needs_background": "light"
     },
     "output_type": "display_data"
    }
   ],
   "source": [
    "# Create stopword list:\n",
    "stopwords = set(STOPWORDS)\n",
    "#stopwords.update([\"])\n",
    "\n",
    "# Generate a word cloud image\n",
    "wordcloud = WordCloud(width = 800, height = 800,stopwords=stopwords, background_color=\"white\").generate(cleaned_text)\n",
    "\n",
    "# Display the generated image:\n",
    "# the matplotlib way:\n",
    "plt.imshow(wordcloud, interpolation='bilinear')\n",
    "plt.axis(\"off\")\n",
    "plt.show()"
   ]
  },
  {
   "cell_type": "code",
   "execution_count": 49,
   "id": "0d84d1c9",
   "metadata": {},
   "outputs": [],
   "source": [
    "\n",
    "#converted the title type from list to string\n",
    "df_all['title'] =  df_all['title'].map(lambda x: x[0])"
   ]
  },
  {
   "cell_type": "code",
   "execution_count": 50,
   "id": "012cc506",
   "metadata": {},
   "outputs": [
    {
     "data": {
      "text/html": [
       "<div>\n",
       "<style scoped>\n",
       "    .dataframe tbody tr th:only-of-type {\n",
       "        vertical-align: middle;\n",
       "    }\n",
       "\n",
       "    .dataframe tbody tr th {\n",
       "        vertical-align: top;\n",
       "    }\n",
       "\n",
       "    .dataframe thead th {\n",
       "        text-align: right;\n",
       "    }\n",
       "</style>\n",
       "<table border=\"1\" class=\"dataframe\">\n",
       "  <thead>\n",
       "    <tr style=\"text-align: right;\">\n",
       "      <th></th>\n",
       "      <th>_id</th>\n",
       "      <th>DOI</th>\n",
       "      <th>title</th>\n",
       "      <th>score</th>\n",
       "      <th>created</th>\n",
       "    </tr>\n",
       "  </thead>\n",
       "  <tbody>\n",
       "    <tr>\n",
       "      <th>0</th>\n",
       "      <td>63813d65d070f257fb00b558</td>\n",
       "      <td>10.1136/bmj.323.7312.546</td>\n",
       "      <td>Assessment of therapeutic safety in systematic...</td>\n",
       "      <td>17.089752</td>\n",
       "      <td>{'date-parts': [[2002, 7, 27]], 'date-time': '...</td>\n",
       "    </tr>\n",
       "    <tr>\n",
       "      <th>1</th>\n",
       "      <td>63813d65d070f257fb00b559</td>\n",
       "      <td>10.1080/146392400445891</td>\n",
       "      <td>Software reviews</td>\n",
       "      <td>15.120222</td>\n",
       "      <td>{'date-parts': [[2002, 7, 26]], 'date-time': '...</td>\n",
       "    </tr>\n",
       "    <tr>\n",
       "      <th>2</th>\n",
       "      <td>63813d65d070f257fb00b55a</td>\n",
       "      <td>10.1046/j.1365-3113.2002.00180.x</td>\n",
       "      <td>Book Reviews</td>\n",
       "      <td>15.046331</td>\n",
       "      <td>{'date-parts': [[2002, 7, 28]], 'date-time': '...</td>\n",
       "    </tr>\n",
       "    <tr>\n",
       "      <th>3</th>\n",
       "      <td>63813d65d070f257fb00b55b</td>\n",
       "      <td>10.1136/bmj.323.7306.224</td>\n",
       "      <td>Systematic reviews in health care: Systematic ...</td>\n",
       "      <td>14.980785</td>\n",
       "      <td>{'date-parts': [[2002, 7, 27]], 'date-time': '...</td>\n",
       "    </tr>\n",
       "    <tr>\n",
       "      <th>4</th>\n",
       "      <td>63813d65d070f257fb00b55c</td>\n",
       "      <td>10.1046/j.1365-3113.1999.00077.x</td>\n",
       "      <td>Book Reviews</td>\n",
       "      <td>14.893698</td>\n",
       "      <td>{'date-parts': [[2002, 7, 26]], 'date-time': '...</td>\n",
       "    </tr>\n",
       "  </tbody>\n",
       "</table>\n",
       "</div>"
      ],
      "text/plain": [
       "                        _id                               DOI  \\\n",
       "0  63813d65d070f257fb00b558          10.1136/bmj.323.7312.546   \n",
       "1  63813d65d070f257fb00b559           10.1080/146392400445891   \n",
       "2  63813d65d070f257fb00b55a  10.1046/j.1365-3113.2002.00180.x   \n",
       "3  63813d65d070f257fb00b55b          10.1136/bmj.323.7306.224   \n",
       "4  63813d65d070f257fb00b55c  10.1046/j.1365-3113.1999.00077.x   \n",
       "\n",
       "                                               title      score  \\\n",
       "0  Assessment of therapeutic safety in systematic...  17.089752   \n",
       "1                                   Software reviews  15.120222   \n",
       "2                                       Book Reviews  15.046331   \n",
       "3  Systematic reviews in health care: Systematic ...  14.980785   \n",
       "4                                       Book Reviews  14.893698   \n",
       "\n",
       "                                             created  \n",
       "0  {'date-parts': [[2002, 7, 27]], 'date-time': '...  \n",
       "1  {'date-parts': [[2002, 7, 26]], 'date-time': '...  \n",
       "2  {'date-parts': [[2002, 7, 28]], 'date-time': '...  \n",
       "3  {'date-parts': [[2002, 7, 27]], 'date-time': '...  \n",
       "4  {'date-parts': [[2002, 7, 26]], 'date-time': '...  "
      ]
     },
     "execution_count": 50,
     "metadata": {},
     "output_type": "execute_result"
    }
   ],
   "source": [
    "df_all.head()"
   ]
  },
  {
   "cell_type": "code",
   "execution_count": 52,
   "id": "7ab94e5a",
   "metadata": {},
   "outputs": [],
   "source": [
    "#lowercase\n",
    "df_all['title'] = df_all['title'].map(lambda x: x.lower(  ))"
   ]
  },
  {
   "cell_type": "code",
   "execution_count": 77,
   "id": "25d9b414",
   "metadata": {},
   "outputs": [
    {
     "data": {
      "text/html": [
       "<div>\n",
       "<style scoped>\n",
       "    .dataframe tbody tr th:only-of-type {\n",
       "        vertical-align: middle;\n",
       "    }\n",
       "\n",
       "    .dataframe tbody tr th {\n",
       "        vertical-align: top;\n",
       "    }\n",
       "\n",
       "    .dataframe thead th {\n",
       "        text-align: right;\n",
       "    }\n",
       "</style>\n",
       "<table border=\"1\" class=\"dataframe\">\n",
       "  <thead>\n",
       "    <tr style=\"text-align: right;\">\n",
       "      <th></th>\n",
       "      <th>_id</th>\n",
       "      <th>DOI</th>\n",
       "      <th>title</th>\n",
       "      <th>score</th>\n",
       "      <th>created</th>\n",
       "    </tr>\n",
       "  </thead>\n",
       "  <tbody>\n",
       "    <tr>\n",
       "      <th>0</th>\n",
       "      <td>63813d65d070f257fb00b558</td>\n",
       "      <td>10.1136/bmj.323.7312.546</td>\n",
       "      <td>assessment therapeutic safety systematic revie...</td>\n",
       "      <td>17.089752</td>\n",
       "      <td>{'date-parts': [[2002, 7, 27]], 'date-time': '...</td>\n",
       "    </tr>\n",
       "    <tr>\n",
       "      <th>1</th>\n",
       "      <td>63813d65d070f257fb00b559</td>\n",
       "      <td>10.1080/146392400445891</td>\n",
       "      <td>software reviews</td>\n",
       "      <td>15.120222</td>\n",
       "      <td>{'date-parts': [[2002, 7, 26]], 'date-time': '...</td>\n",
       "    </tr>\n",
       "    <tr>\n",
       "      <th>2</th>\n",
       "      <td>63813d65d070f257fb00b55a</td>\n",
       "      <td>10.1046/j.1365-3113.2002.00180.x</td>\n",
       "      <td>book reviews</td>\n",
       "      <td>15.046331</td>\n",
       "      <td>{'date-parts': [[2002, 7, 28]], 'date-time': '...</td>\n",
       "    </tr>\n",
       "    <tr>\n",
       "      <th>3</th>\n",
       "      <td>63813d65d070f257fb00b55b</td>\n",
       "      <td>10.1136/bmj.323.7306.224</td>\n",
       "      <td>systematic reviews health care: systematic rev...</td>\n",
       "      <td>14.980785</td>\n",
       "      <td>{'date-parts': [[2002, 7, 27]], 'date-time': '...</td>\n",
       "    </tr>\n",
       "    <tr>\n",
       "      <th>4</th>\n",
       "      <td>63813d65d070f257fb00b55c</td>\n",
       "      <td>10.1046/j.1365-3113.1999.00077.x</td>\n",
       "      <td>book reviews</td>\n",
       "      <td>14.893698</td>\n",
       "      <td>{'date-parts': [[2002, 7, 26]], 'date-time': '...</td>\n",
       "    </tr>\n",
       "  </tbody>\n",
       "</table>\n",
       "</div>"
      ],
      "text/plain": [
       "                        _id                               DOI  \\\n",
       "0  63813d65d070f257fb00b558          10.1136/bmj.323.7312.546   \n",
       "1  63813d65d070f257fb00b559           10.1080/146392400445891   \n",
       "2  63813d65d070f257fb00b55a  10.1046/j.1365-3113.2002.00180.x   \n",
       "3  63813d65d070f257fb00b55b          10.1136/bmj.323.7306.224   \n",
       "4  63813d65d070f257fb00b55c  10.1046/j.1365-3113.1999.00077.x   \n",
       "\n",
       "                                               title      score  \\\n",
       "0  assessment therapeutic safety systematic revie...  17.089752   \n",
       "1                                   software reviews  15.120222   \n",
       "2                                       book reviews  15.046331   \n",
       "3  systematic reviews health care: systematic rev...  14.980785   \n",
       "4                                       book reviews  14.893698   \n",
       "\n",
       "                                             created  \n",
       "0  {'date-parts': [[2002, 7, 27]], 'date-time': '...  \n",
       "1  {'date-parts': [[2002, 7, 26]], 'date-time': '...  \n",
       "2  {'date-parts': [[2002, 7, 28]], 'date-time': '...  \n",
       "3  {'date-parts': [[2002, 7, 27]], 'date-time': '...  \n",
       "4  {'date-parts': [[2002, 7, 26]], 'date-time': '...  "
      ]
     },
     "execution_count": 77,
     "metadata": {},
     "output_type": "execute_result"
    }
   ],
   "source": [
    "\n",
    "df_all['title']= df_all['title'].map(lambda x: remove_stopwords(x))\n",
    "\n",
    "#n-gram transformation, tokenizing\n",
    "tokenize = df_all['title'].map(lambda x: x.split())\n",
    "\n",
    "df_all.head()"
   ]
  },
  {
   "cell_type": "code",
   "execution_count": 78,
   "id": "8976e33f",
   "metadata": {},
   "outputs": [],
   "source": [
    "#train W2V model, generate W2V embeddings\n",
    "# define training data\n",
    "sentences = tokenize\n",
    "# train model\n",
    "model = Word2Vec(sentences, min_count=1)"
   ]
  },
  {
   "cell_type": "code",
   "execution_count": 79,
   "id": "20211ce9",
   "metadata": {},
   "outputs": [
    {
     "name": "stdout",
     "output_type": "stream",
     "text": [
      "Word2Vec<vocab=986920, vector_size=100, alpha=0.025>\n"
     ]
    }
   ],
   "source": [
    "# summarize the loaded model\n",
    "print(model)"
   ]
  },
  {
   "cell_type": "code",
   "execution_count": 80,
   "id": "1a1b8722",
   "metadata": {},
   "outputs": [
    {
     "name": "stdout",
     "output_type": "stream",
     "text": [
      "['review', 'reviews', 'literature', 'systematic', 'book', 'automated', 'case', 'meta-analysis', 'report', 'new']\n",
      "Word2Vec<vocab=986920, vector_size=100, alpha=0.025>\n"
     ]
    }
   ],
   "source": [
    "# summarize vocabulary\n",
    "words = list(model.wv.key_to_index)\n",
    "print(words[0:10])\n",
    "# save model\n",
    "model.save('model.bin')\n",
    "# load model\n",
    "new_model = Word2Vec.load('model.bin')\n",
    "print(new_model)"
   ]
  },
  {
   "cell_type": "code",
   "execution_count": 82,
   "id": "716c375c",
   "metadata": {},
   "outputs": [
    {
     "data": {
      "text/plain": [
       "[('brief', 0.6584404110908508),\n",
       " ('literature.', 0.6444339752197266),\n",
       " ('comprehensive', 0.6369640231132507),\n",
       " ('systematic', 0.6202263236045837),\n",
       " ('literature”', 0.6049164533615112),\n",
       " ('experience', 0.6041561961174011),\n",
       " ('discussion', 0.5958854556083679),\n",
       " ('findings', 0.5947323441505432),\n",
       " ('literature?', 0.581947386264801),\n",
       " ('narrative', 0.5806236863136292)]"
      ]
     },
     "execution_count": 82,
     "metadata": {},
     "output_type": "execute_result"
    }
   ],
   "source": [
    "#calculate similarity, reduce dimensions, plot graph\n",
    "model.wv.most_similar('literature')"
   ]
  },
  {
   "cell_type": "code",
   "execution_count": null,
   "id": "7586728e",
   "metadata": {},
   "outputs": [],
   "source": []
  },
  {
   "cell_type": "code",
   "execution_count": null,
   "id": "6f6cd7cc",
   "metadata": {},
   "outputs": [],
   "source": [
    "# print(pl.inserted_id)\n"
   ]
  },
  {
   "cell_type": "code",
   "execution_count": null,
   "id": "f15f3522",
   "metadata": {},
   "outputs": [],
   "source": [
    "# test_df = pd.DataFrame(li,columns=['objId','DOI','title','score'])"
   ]
  },
  {
   "cell_type": "code",
   "execution_count": null,
   "id": "d7425039",
   "metadata": {},
   "outputs": [],
   "source": [
    "#response_info['message']['items']"
   ]
  },
  {
   "cell_type": "code",
   "execution_count": null,
   "id": "cf6fd73f",
   "metadata": {},
   "outputs": [],
   "source": [
    "## insert many players\n",
    "# db_name='players'\n",
    "# col_name='coach'\n",
    "# test_client = pymongo.MongoClient(\"mongodb://localhost:27017/\")\n",
    "# test_db = test_client[db_name]\n",
    "# test_col = test_db[col_name]\n",
    "# test_list=[{ \"surname\": \"player1\", \"address\": \"Meliq Adamyan 1\",\n",
    "#             \"city\": \"Yerevan1\" },\n",
    "#            { \"surname\": \"player2\", \"address\": \"Meliq Adamyan 2\",\n",
    "#             \"city\": \"Yerevan2\" },\n",
    "#            { \"surname\": \"player3\", \"address\": \"Meliq Adamyan 3\",\n",
    "#             \"city\": \"Yerevan3\" },\n",
    "#            { \"surname\": \"player4\", \"address\": \"Meliq Adamyan 4\",\n",
    "#             \"city\": \"Yerevan4\" }\n",
    "#            ]\n",
    "\n",
    "#print list of the _id values of the inserted players:\n"
   ]
  }
 ],
 "metadata": {
  "kernelspec": {
   "display_name": "Python 3 (ipykernel)",
   "language": "python",
   "name": "python3"
  },
  "language_info": {
   "codemirror_mode": {
    "name": "ipython",
    "version": 3
   },
   "file_extension": ".py",
   "mimetype": "text/x-python",
   "name": "python",
   "nbconvert_exporter": "python",
   "pygments_lexer": "ipython3",
   "version": "3.9.7"
  }
 },
 "nbformat": 4,
 "nbformat_minor": 5
}
