{
 "cells": [
  {
   "cell_type": "code",
   "execution_count": 1,
   "id": "9003237d",
   "metadata": {},
   "outputs": [],
   "source": [
    "from inspect import signature\n",
    "import time\n",
    "import pprint\n",
    "import pandas as pd\n",
    "import requests\n",
    "import sys\n",
    "import json\n",
    "import pymongo\n",
    "from crossref.restful import Works\n",
    "import datetime\n",
    "from wordcloud import WordCloud, STOPWORDS, ImageColorGenerator\n",
    "import matplotlib.pyplot as plt\n",
    "import re\n",
    "from gensim.models import Word2Vec\n",
    "from gensim.parsing.preprocessing import remove_stopwords\n",
    "%matplotlib inline"
   ]
  },
  {
   "cell_type": "code",
   "execution_count": 2,
   "id": "2cbe70ce",
   "metadata": {},
   "outputs": [],
   "source": [
    "# works = Works()"
   ]
  },
  {
   "cell_type": "code",
   "execution_count": 3,
   "id": "e0feb083",
   "metadata": {},
   "outputs": [],
   "source": [
    "# help(works.query)"
   ]
  },
  {
   "cell_type": "code",
   "execution_count": 4,
   "id": "1703ea32",
   "metadata": {},
   "outputs": [],
   "source": [
    "# for item in works.sample(1):\n",
    "#     print(item.keys())"
   ]
  },
  {
   "cell_type": "code",
   "execution_count": 5,
   "id": "25fd8e71",
   "metadata": {},
   "outputs": [],
   "source": [
    "#query to be used\n",
    "# \"automated literature review\"  OR  \n",
    "# \"automated literature search\"  OR  \n",
    "# \"automated literature discovery\"  AND  \n",
    "# \"NLP\"  AND  \n",
    "# \"Machine Learning\""
   ]
  },
  {
   "cell_type": "code",
   "execution_count": 6,
   "id": "1b223cb0",
   "metadata": {},
   "outputs": [],
   "source": [
    "# works.query('Automatic Systematic Reviews using machine learning or natural language processing').count()"
   ]
  },
  {
   "cell_type": "code",
   "execution_count": 7,
   "id": "d5251417",
   "metadata": {},
   "outputs": [],
   "source": [
    "# query_string = 'Automated literature and systematic Reviews'"
   ]
  },
  {
   "cell_type": "code",
   "execution_count": 8,
   "id": "64a7ce0b",
   "metadata": {},
   "outputs": [],
   "source": [
    "# w1 = works.query(bibliographic=query_string).select('DOI','title','is-referenced-by-count','score','subject')"
   ]
  },
  {
   "cell_type": "code",
   "execution_count": 9,
   "id": "a7abb1db",
   "metadata": {},
   "outputs": [],
   "source": [
    "# w1.count()"
   ]
  },
  {
   "cell_type": "code",
   "execution_count": 10,
   "id": "02ab1c40",
   "metadata": {},
   "outputs": [],
   "source": [
    "# li_all=[]\n",
    "# start = time.time()\n",
    "# for item in w1:\n",
    "#     li_all.append(item.values())\n",
    "# end = time.time()\n",
    "# print(end-start)"
   ]
  },
  {
   "cell_type": "code",
   "execution_count": 11,
   "id": "bb9797d5",
   "metadata": {},
   "outputs": [],
   "source": [
    "#(\"automated literature review\"  OR  \"automated literature search\"  OR  \"automated literature discovery\"  AND  \"NLP\"  AND  \"Machine Learning\")"
   ]
  },
  {
   "cell_type": "code",
   "execution_count": 12,
   "id": "5e92a0a2",
   "metadata": {},
   "outputs": [],
   "source": [
    "# w1 = works.query(bibliographic='Systematic Literature Review', author='johannes', publisher_name='Wiley-Blackwell')\n",
    "\n",
    "# for item in w1:\n",
    "#     print(item['title'])"
   ]
  },
  {
   "cell_type": "code",
   "execution_count": 13,
   "id": "4cb1af7c",
   "metadata": {},
   "outputs": [],
   "source": [
    "# download all the data related to query from crossref -- done\n",
    "# then store it somewhere probably in mongodb\n",
    "# remove duplicates\n",
    "# 1 paper 1 row\n",
    "# do clustering and find keywords for every cluster\n"
   ]
  },
  {
   "cell_type": "code",
   "execution_count": 14,
   "id": "45f9bcf9",
   "metadata": {},
   "outputs": [],
   "source": [
    "# https://api.crossref.org/works?query.affiliation=Kalyani+University&filter=from-pub-date:2020-01-01,until-pub-date:2020-12-31,type:journal-article&select=DOI,title,container-title&rows=2&offset=0"
   ]
  },
  {
   "cell_type": "code",
   "execution_count": 15,
   "id": "9043f695",
   "metadata": {},
   "outputs": [],
   "source": [
    "# https://api.crossref.org/works?query.affiliation=Automated+literature+and+systematic+Reviews&filter=type:journal-article&select=DOI,title,container-title"
   ]
  },
  {
   "cell_type": "code",
   "execution_count": 16,
   "id": "1c86786a",
   "metadata": {},
   "outputs": [],
   "source": [
    "# https://api.crossref.org/works?query.affiliation=Automated+literature+systematic+Reviews&filter=type:journal-article&select=DOI,publisher,title,is-referenced-by-count,score,subject,author,URL"
   ]
  },
  {
   "cell_type": "code",
   "execution_count": 17,
   "id": "0da76e64",
   "metadata": {},
   "outputs": [],
   "source": [
    "# sys.getsizeof(response) #0.4 mb"
   ]
  },
  {
   "cell_type": "code",
   "execution_count": 18,
   "id": "a2d6c986",
   "metadata": {},
   "outputs": [],
   "source": [
    "# response = requests.get('https://api.crossref.org/works?query.title=Automated+literature+and+systematic+Reviews&filter=type:journal-article&select=DOI,title,score&rows=1000&cursor=*"
   ]
  },
  {
   "cell_type": "code",
   "execution_count": 19,
   "id": "395e6701",
   "metadata": {},
   "outputs": [],
   "source": [
    "#starts from here........"
   ]
  },
  {
   "cell_type": "code",
   "execution_count": 2,
   "id": "844aefaa",
   "metadata": {},
   "outputs": [],
   "source": [
    "def get_latest_date():\n",
    "    \n",
    "    response = requests.get('https://api.crossref.org/works?query=Automated+literature+and+systematic+Reviews&filter=type:journal-article&select=DOI,title,score,created,abstract&sort=created&order=desc&rows=1&cursor=*').text\n",
    "    response_info = json.loads(response)\n",
    "    latest_date = response_info['message']['items'][0]['created']['date-parts'][0]\n",
    "    return latest_date\n",
    "    "
   ]
  },
  {
   "cell_type": "code",
   "execution_count": 3,
   "id": "4c8d744f",
   "metadata": {},
   "outputs": [],
   "source": [
    "def get_oldest_date():\n",
    "    \n",
    "    response = requests.get('https://api.crossref.org/works?query=Automated+literature+and+systematic+Reviews&filter=type:journal-article&select=DOI,title,score,created,abstract&sort=created&order=asc&rows=1&cursor=*').text\n",
    "    response_info = json.loads(response)\n",
    "    oldest_date = response_info['message']['items'][0]['created']['date-parts'][0]\n",
    "    return oldest_date\n",
    "\n"
   ]
  },
  {
   "cell_type": "code",
   "execution_count": 4,
   "id": "5b06d329",
   "metadata": {},
   "outputs": [
    {
     "data": {
      "text/plain": [
       "[2022, 11, 29]"
      ]
     },
     "execution_count": 4,
     "metadata": {},
     "output_type": "execute_result"
    }
   ],
   "source": [
    "latest_date = get_latest_date()\n",
    "latest_date"
   ]
  },
  {
   "cell_type": "code",
   "execution_count": 5,
   "id": "0a4127b0",
   "metadata": {},
   "outputs": [
    {
     "data": {
      "text/plain": [
       "[2002, 7, 25]"
      ]
     },
     "execution_count": 5,
     "metadata": {},
     "output_type": "execute_result"
    }
   ],
   "source": [
    "oldest_date = get_oldest_date()\n",
    "oldest_date"
   ]
  },
  {
   "cell_type": "code",
   "execution_count": 6,
   "id": "d662e726",
   "metadata": {},
   "outputs": [],
   "source": [
    "base_oldest = datetime.date(oldest_date[0],oldest_date[1],oldest_date[2])\n",
    "base_latest = datetime.date(latest_date[0],latest_date[1],latest_date[2])\n",
    "numweeks = 2\n",
    "upd_date = base_oldest\n",
    "date_list=[]\n",
    "while upd_date <= base_latest:\n",
    "    date_list.append(upd_date)\n",
    "    upd_date = upd_date + datetime.timedelta(weeks=numweeks)\n",
    "    \n",
    "    date_list.append(upd_date)"
   ]
  },
  {
   "cell_type": "code",
   "execution_count": 7,
   "id": "05a20205",
   "metadata": {},
   "outputs": [],
   "source": [
    "def init_url(date_list):\n",
    "    url = 'https://api.crossref.org/works?query=Automated+literature+and+systematic+Reviews&filter=type:journal-article,from-created-date:'\n",
    "    url = url+str(date_list[0])+',until-created-date:'+str(date_list[1])+'&select=DOI,title,score,created,abstract&rows=1000&cursor=*'\n",
    "    return url"
   ]
  },
  {
   "cell_type": "code",
   "execution_count": 8,
   "id": "93ed2d7b",
   "metadata": {},
   "outputs": [],
   "source": [
    "def cursor_url(date_list, cursor):\n",
    "    url = 'https://api.crossref.org/works?query=Automated+literature+and+systematic+Reviews&filter=type:journal-article,from-created-date:'\n",
    "    url = url+str(date_list[0])+',until-created-date:'+str(date_list[1])+'&select=DOI,title,score,created,abstract&rows=1000&cursor='\n",
    "    url = url + str(cursor)\n",
    "    return url\n",
    "    "
   ]
  },
  {
   "cell_type": "code",
   "execution_count": 9,
   "id": "d40e3c6c",
   "metadata": {},
   "outputs": [
    {
     "name": "stdout",
     "output_type": "stream",
     "text": [
      "thesis ← database exists\n"
     ]
    }
   ],
   "source": [
    "db_name = \"thesis\"\n",
    "test_client = pymongo.MongoClient('mongodb://localhost:27017/')\n",
    "test_db = test_client[db_name]\n",
    "\n",
    "\n",
    "def check_for_db(test_client,db_name):\n",
    "    dblist = test_client.list_database_names()\n",
    "    if db_name in dblist:\n",
    "        print(db_name + ' ← database exists')\n",
    "    else:\n",
    "        print(db_name + ' ← database does NOT exists')\n",
    "check_for_db(test_client,db_name) # check if database exists or not\n",
    "\n",
    "\n",
    "# make collection\n",
    "col_name='query_results_full_load'\n",
    "test_col = test_db[col_name]"
   ]
  },
  {
   "cell_type": "code",
   "execution_count": 10,
   "id": "2336f15c",
   "metadata": {},
   "outputs": [],
   "source": [
    "date_list = list(set(date_list))"
   ]
  },
  {
   "cell_type": "code",
   "execution_count": 11,
   "id": "fc2ff5fc",
   "metadata": {},
   "outputs": [],
   "source": [
    "date_list.sort()"
   ]
  },
  {
   "cell_type": "code",
   "execution_count": 30,
   "id": "f82b1624",
   "metadata": {},
   "outputs": [],
   "source": [
    "#date_list = date_list[0:3]"
   ]
  },
  {
   "cell_type": "code",
   "execution_count": null,
   "id": "b92bd79c",
   "metadata": {
    "scrolled": true
   },
   "outputs": [
    {
     "name": "stdout",
     "output_type": "stream",
     "text": [
      "https://api.crossref.org/works?query=Automated+literature+and+systematic+Reviews&filter=type:journal-article,from-created-date:2002-07-25,until-created-date:2002-08-08&select=DOI,title,score,created,abstract&rows=1000&cursor=DnF1ZXJ5VGhlbkZldGNoBgAAAAASOFUfFkhUQjJYNFlSVFVPT1k5bVZmVDQzQXcAAAAAFxYWxhZHblpDbkEzT1FvRy0tOGFOZ05EOHVnAAAAABcWFscWR25aQ25BM09Rb0ctLThhTmdORDh1ZwAAAAASt3oeFk5qWk1fWm1iUVV1V3Nwd3MxN3FqQ3cAAAAAEAWGRhZfNEZlTDBRZ1FuLWZ4NVhlZU9MYzN3AAAAABCKmf0WaDRJMjhrcXVUOGE3dDI1VDhnWHMyZw== \n",
      "\n",
      "*************\n",
      "All Extracted:moving on to next segment\n",
      "https://api.crossref.org/works?query=Automated+literature+and+systematic+Reviews&filter=type:journal-article,from-created-date:2002-08-22,until-created-date:2002-09-05&select=DOI,title,score,created,abstract&rows=1000&cursor=DnF1ZXJ5VGhlbkZldGNoBgAAAAASOFc_FkhUQjJYNFlSVFVPT1k5bVZmVDQzQXcAAAAAD42OvxY0amo4YndCWVRadUx4QV9WQlVKWHdnAAAAABcWGi4WR25aQ25BM09Rb0ctLThhTmdORDh1ZwAAAAASt3y-Fk5qWk1fWm1iUVV1V3Nwd3MxN3FqQ3cAAAAAEjfBvRZDNTBUdXhPeVM0bUg3UnZzcl9lR2N3AAAAABCGPLMWSTFVWlpBeGRTWi1nRllxOU9nQUYydw== \n",
      "\n",
      "*************\n",
      "All Extracted:moving on to next segment\n",
      "https://api.crossref.org/works?query=Automated+literature+and+systematic+Reviews&filter=type:journal-article,from-created-date:2002-09-05,until-created-date:2002-09-19&select=DOI,title,score,created,abstract&rows=1000&cursor=DnF1ZXJ5VGhlbkZldGNoBgAAAAAA5Vn4FjFGV1lXWE94VGU2bUMzaVRjNzc2aFEAAAAAFxYawhZHblpDbkEzT1FvRy0tOGFOZ05EOHVnAAAAABcWGsMWR25aQ25BM09Rb0ctLThhTmdORDh1ZwAAAAAR7qtqFjdhbGlIQ0JtVEVlMW9yN2RJbTBZV2cAAAAAEAWImRZfNEZlTDBRZ1FuLWZ4NVhlZU9MYzN3AAAAABCKnC0WaDRJMjhrcXVUOGE3dDI1VDhnWHMyZw== \n",
      "\n",
      "*************\n",
      "All Extracted:moving on to next segment\n",
      "https://api.crossref.org/works?query=Automated+literature+and+systematic+Reviews&filter=type:journal-article,from-created-date:2002-09-19,until-created-date:2002-10-03&select=DOI,title,score,created,abstract&rows=1000&cursor=DnF1ZXJ5VGhlbkZldGNoBgAAAAASOFgBFkhUQjJYNFlSVFVPT1k5bVZmVDQzQXcAAAAAFxYbUhZHblpDbkEzT1FvRy0tOGFOZ05EOHVnAAAAABcWG1MWR25aQ25BM09Rb0ctLThhTmdORDh1ZwAAAAASt32UFk5qWk1fWm1iUVV1V3Nwd3MxN3FqQ3cAAAAAEAWI6RZfNEZlTDBRZ1FuLWZ4NVhlZU9MYzN3AAAAABCKnIMWaDRJMjhrcXVUOGE3dDI1VDhnWHMyZw== \n",
      "\n",
      "*************\n",
      "All Extracted:moving on to next segment\n",
      "https://api.crossref.org/works?query=Automated+literature+and+systematic+Reviews&filter=type:journal-article,from-created-date:2002-10-03,until-created-date:2002-10-17&select=DOI,title,score,created,abstract&rows=1000&cursor=DnF1ZXJ5VGhlbkZldGNoBgAAAAAA5VrjFjFGV1lXWE94VGU2bUMzaVRjNzc2aFEAAAAAD42PqBY0amo4YndCWVRadUx4QV9WQlVKWHdnAAAAAADlWuQWMUZXWVdYT3hUZTZtQzNpVGM3NzZoUQAAAAAR7qvYFjdhbGlIQ0JtVEVlMW9yN2RJbTBZV2cAAAAAEAWJJxZfNEZlTDBRZ1FuLWZ4NVhlZU9MYzN3AAAAABCGPakWSTFVWlpBeGRTWi1nRllxOU9nQUYydw== \n",
      "\n",
      "*************\n",
      "All Extracted:moving on to next segment\n",
      "https://api.crossref.org/works?query=Automated+literature+and+systematic+Reviews&filter=type:journal-article,from-created-date:2002-10-17,until-created-date:2002-10-31&select=DOI,title,score,created,abstract&rows=1000&cursor=DnF1ZXJ5VGhlbkZldGNoBgAAAAAA5VuqFjFGV1lXWE94VGU2bUMzaVRjNzc2aFEAAAAAFxYccRZHblpDbkEzT1FvRy0tOGFOZ05EOHVnAAAAAADlW6kWMUZXWVdYT3hUZTZtQzNpVGM3NzZoUQAAAAAR7qwvFjdhbGlIQ0JtVEVlMW9yN2RJbTBZV2cAAAAAEjfDYRZDNTBUdXhPeVM0bUg3UnZzcl9lR2N3AAAAABCGPiAWSTFVWlpBeGRTWi1nRllxOU9nQUYydw== \n",
      "\n",
      "*************\n",
      "All Extracted:moving on to next segment\n",
      "https://api.crossref.org/works?query=Automated+literature+and+systematic+Reviews&filter=type:journal-article,from-created-date:2002-10-31,until-created-date:2002-11-14&select=DOI,title,score,created,abstract&rows=1000&cursor=DnF1ZXJ5VGhlbkZldGNoBgAAAAAA5Vv1FjFGV1lXWE94VGU2bUMzaVRjNzc2aFEAAAAAD42QUBY0amo4YndCWVRadUx4QV9WQlVKWHdnAAAAAADlW_YWMUZXWVdYT3hUZTZtQzNpVGM3NzZoUQAAAAAR7qxNFjdhbGlIQ0JtVEVlMW9yN2RJbTBZV2cAAAAAEjfDnhZDNTBUdXhPeVM0bUg3UnZzcl9lR2N3AAAAABCGPlcWSTFVWlpBeGRTWi1nRllxOU9nQUYydw== \n",
      "\n",
      "*************\n",
      "All Extracted:moving on to next segment\n",
      "https://api.crossref.org/works?query=Automated+literature+and+systematic+Reviews&filter=type:journal-article,from-created-date:2002-11-14,until-created-date:2002-11-28&select=DOI,title,score,created,abstract&rows=1000&cursor=DnF1ZXJ5VGhlbkZldGNoBgAAAAAA5VxFFjFGV1lXWE94VGU2bUMzaVRjNzc2aFEAAAAAD42QixY0amo4YndCWVRadUx4QV9WQlVKWHdnAAAAAADlXEYWMUZXWVdYT3hUZTZtQzNpVGM3NzZoUQAAAAAR7qx1FjdhbGlIQ0JtVEVlMW9yN2RJbTBZV2cAAAAAEAWJ5hZfNEZlTDBRZ1FuLWZ4NVhlZU9MYzN3AAAAABCGPowWSTFVWlpBeGRTWi1nRllxOU9nQUYydw== \n",
      "\n",
      "*************\n",
      "All Extracted:moving on to next segment\n",
      "https://api.crossref.org/works?query=Automated+literature+and+systematic+Reviews&filter=type:journal-article,from-created-date:2002-11-28,until-created-date:2002-12-12&select=DOI,title,score,created,abstract&rows=1000&cursor=DnF1ZXJ5VGhlbkZldGNoBgAAAAASOFmpFkhUQjJYNFlSVFVPT1k5bVZmVDQzQXcAAAAAD42QzxY0amo4YndCWVRadUx4QV9WQlVKWHdnAAAAABcWHYsWR25aQ25BM09Rb0ctLThhTmdORDh1ZwAAAAASt39KFk5qWk1fWm1iUVV1V3Nwd3MxN3FqQ3cAAAAAEjfEMhZDNTBUdXhPeVM0bUg3UnZzcl9lR2N3AAAAABCGPs8WSTFVWlpBeGRTWi1nRllxOU9nQUYydw== \n",
      "\n",
      "*************\n",
      "All Extracted:moving on to next segment\n",
      "https://api.crossref.org/works?query=Automated+literature+and+systematic+Reviews&filter=type:journal-article,from-created-date:2002-12-12,until-created-date:2002-12-26&select=DOI,title,score,created,abstract&rows=1000&cursor=DnF1ZXJ5VGhlbkZldGNoBgAAAAASOFnoFkhUQjJYNFlSVFVPT1k5bVZmVDQzQXcAAAAAFxYd3BZHblpDbkEzT1FvRy0tOGFOZ05EOHVnAAAAABcWHd0WR25aQ25BM09Rb0ctLThhTmdORDh1ZwAAAAASt3-LFk5qWk1fWm1iUVV1V3Nwd3MxN3FqQ3cAAAAAEAWKThZfNEZlTDBRZ1FuLWZ4NVhlZU9MYzN3AAAAABCKniAWaDRJMjhrcXVUOGE3dDI1VDhnWHMyZw== \n",
      "\n",
      "*************\n",
      "All Extracted:moving on to next segment\n",
      "https://api.crossref.org/works?query=Automated+literature+and+systematic+Reviews&filter=type:journal-article,from-created-date:2002-12-26,until-created-date:2003-01-09&select=DOI,title,score,created,abstract&rows=1000&cursor=DnF1ZXJ5VGhlbkZldGNoBgAAAAASOFotFkhUQjJYNFlSVFVPT1k5bVZmVDQzQXcAAAAAD42RVhY0amo4YndCWVRadUx4QV9WQlVKWHdnAAAAAADlXXMWMUZXWVdYT3hUZTZtQzNpVGM3NzZoUQAAAAASt3_kFk5qWk1fWm1iUVV1V3Nwd3MxN3FqQ3cAAAAAEjfE2hZDNTBUdXhPeVM0bUg3UnZzcl9lR2N3AAAAABCGP1sWSTFVWlpBeGRTWi1nRllxOU9nQUYydw== \n",
      "\n",
      "*************\n",
      "All Extracted:moving on to next segment\n",
      "https://api.crossref.org/works?query=Automated+literature+and+systematic+Reviews&filter=type:journal-article,from-created-date:2003-01-09,until-created-date:2003-01-23&select=DOI,title,score,created,abstract&rows=1000&cursor=DnF1ZXJ5VGhlbkZldGNoBgAAAAASOFp7FkhUQjJYNFlSVFVPT1k5bVZmVDQzQXcAAAAAFxYe3hZHblpDbkEzT1FvRy0tOGFOZ05EOHVnAAAAABcWHt8WR25aQ25BM09Rb0ctLThhTmdORDh1ZwAAAAASt4A-Fk5qWk1fWm1iUVV1V3Nwd3MxN3FqQ3cAAAAAEAWK1hZfNEZlTDBRZ1FuLWZ4NVhlZU9MYzN3AAAAABCKnqoWaDRJMjhrcXVUOGE3dDI1VDhnWHMyZw== \n",
      "\n",
      "*************\n",
      "All Extracted:moving on to next segment\n",
      "https://api.crossref.org/works?query=Automated+literature+and+systematic+Reviews&filter=type:journal-article,from-created-date:2003-01-23,until-created-date:2003-02-06&select=DOI,title,score,created,abstract&rows=1000&cursor=DnF1ZXJ5VGhlbkZldGNoBgAAAAASOFqNFkhUQjJYNFlSVFVPT1k5bVZmVDQzQXcAAAAAD42RrxY0amo4YndCWVRadUx4QV9WQlVKWHdnAAAAABcWHvgWR25aQ25BM09Rb0ctLThhTmdORDh1ZwAAAAASt4BVFk5qWk1fWm1iUVV1V3Nwd3MxN3FqQ3cAAAAAEjfFQhZDNTBUdXhPeVM0bUg3UnZzcl9lR2N3AAAAABCGP60WSTFVWlpBeGRTWi1nRllxOU9nQUYydw== \n",
      "\n",
      "*************\n",
      "All Extracted:moving on to next segment\n",
      "https://api.crossref.org/works?query=Automated+literature+and+systematic+Reviews&filter=type:journal-article,from-created-date:2003-02-06,until-created-date:2003-02-20&select=DOI,title,score,created,abstract&rows=1000&cursor=DnF1ZXJ5VGhlbkZldGNoBgAAAAASOFqeFkhUQjJYNFlSVFVPT1k5bVZmVDQzQXcAAAAAD42RuxY0amo4YndCWVRadUx4QV9WQlVKWHdnAAAAABcWHxkWR25aQ25BM09Rb0ctLThhTmdORDh1ZwAAAAASt4BoFk5qWk1fWm1iUVV1V3Nwd3MxN3FqQ3cAAAAAEjfFUhZDNTBUdXhPeVM0bUg3UnZzcl9lR2N3AAAAABCGP7wWSTFVWlpBeGRTWi1nRllxOU9nQUYydw== \n",
      "\n",
      "*************\n",
      "All Extracted:moving on to next segment\n",
      "https://api.crossref.org/works?query=Automated+literature+and+systematic+Reviews&filter=type:journal-article,from-created-date:2003-02-20,until-created-date:2003-03-06&select=DOI,title,score,created,abstract&rows=1000&cursor=DnF1ZXJ5VGhlbkZldGNoBgAAAAAA5V6DFjFGV1lXWE94VGU2bUMzaVRjNzc2aFEAAAAAFxYfgBZHblpDbkEzT1FvRy0tOGFOZ05EOHVnAAAAABcWH4EWR25aQ25BM09Rb0ctLThhTmdORDh1ZwAAAAASt4DFFk5qWk1fWm1iUVV1V3Nwd3MxN3FqQ3cAAAAAEAWLPxZfNEZlTDBRZ1FuLWZ4NVhlZU9MYzN3AAAAABCKnv8WaDRJMjhrcXVUOGE3dDI1VDhnWHMyZw== \n",
      "\n",
      "*************\n"
     ]
    },
    {
     "name": "stdout",
     "output_type": "stream",
     "text": [
      "All Extracted:moving on to next segment\n",
      "https://api.crossref.org/works?query=Automated+literature+and+systematic+Reviews&filter=type:journal-article,from-created-date:2003-03-06,until-created-date:2003-03-20&select=DOI,title,score,created,abstract&rows=1000&cursor=DnF1ZXJ5VGhlbkZldGNoBgAAAAASOFsIFkhUQjJYNFlSVFVPT1k5bVZmVDQzQXcAAAAAD42SIRY0amo4YndCWVRadUx4QV9WQlVKWHdnAAAAAADlXr4WMUZXWVdYT3hUZTZtQzNpVGM3NzZoUQAAAAASt4ECFk5qWk1fWm1iUVV1V3Nwd3MxN3FqQ3cAAAAAEjfF6BZDNTBUdXhPeVM0bUg3UnZzcl9lR2N3AAAAABCKnyUWaDRJMjhrcXVUOGE3dDI1VDhnWHMyZw== \n",
      "\n",
      "*************\n",
      "All Extracted:moving on to next segment\n",
      "https://api.crossref.org/works?query=Automated+literature+and+systematic+Reviews&filter=type:journal-article,from-created-date:2003-03-20,until-created-date:2003-04-03&select=DOI,title,score,created,abstract&rows=1000&cursor=DnF1ZXJ5VGhlbkZldGNoBgAAAAASOFuJFkhUQjJYNFlSVFVPT1k5bVZmVDQzQXcAAAAAFxYgkxZHblpDbkEzT1FvRy0tOGFOZ05EOHVnAAAAABcWIJQWR25aQ25BM09Rb0ctLThhTmdORDh1ZwAAAAASt4GzFk5qWk1fWm1iUVV1V3Nwd3MxN3FqQ3cAAAAAEAWMBBZfNEZlTDBRZ1FuLWZ4NVhlZU9MYzN3AAAAABCKn50WaDRJMjhrcXVUOGE3dDI1VDhnWHMyZw== \n",
      "\n",
      "*************\n",
      "All Extracted:moving on to next segment\n",
      "https://api.crossref.org/works?query=Automated+literature+and+systematic+Reviews&filter=type:journal-article,from-created-date:2003-04-03,until-created-date:2003-04-17&select=DOI,title,score,created,abstract&rows=1000&cursor=DnF1ZXJ5VGhlbkZldGNoBgAAAAAA5V_EFjFGV1lXWE94VGU2bUMzaVRjNzc2aFEAAAAAFxYgvhZHblpDbkEzT1FvRy0tOGFOZ05EOHVnAAAAABcWIL8WR25aQ25BM09Rb0ctLThhTmdORDh1ZwAAAAAR7q4OFjdhbGlIQ0JtVEVlMW9yN2RJbTBZV2cAAAAAEAWMIRZfNEZlTDBRZ1FuLWZ4NVhlZU9MYzN3AAAAABCKn7IWaDRJMjhrcXVUOGE3dDI1VDhnWHMyZw== \n",
      "\n",
      "*************\n",
      "All Extracted:moving on to next segment\n",
      "https://api.crossref.org/works?query=Automated+literature+and+systematic+Reviews&filter=type:journal-article,from-created-date:2003-04-17,until-created-date:2003-05-01&select=DOI,title,score,created,abstract&rows=1000&cursor=DnF1ZXJ5VGhlbkZldGNoBgAAAAAA5WAgFjFGV1lXWE94VGU2bUMzaVRjNzc2aFEAAAAAFxYhGhZHblpDbkEzT1FvRy0tOGFOZ05EOHVnAAAAABcWIRkWR25aQ25BM09Rb0ctLThhTmdORDh1ZwAAAAAR7q48FjdhbGlIQ0JtVEVlMW9yN2RJbTBZV2cAAAAAEAWMWBZfNEZlTDBRZ1FuLWZ4NVhlZU9MYzN3AAAAABCKn94WaDRJMjhrcXVUOGE3dDI1VDhnWHMyZw== \n",
      "\n",
      "*************\n",
      "All Extracted:moving on to next segment\n",
      "https://api.crossref.org/works?query=Automated+literature+and+systematic+Reviews&filter=type:journal-article,from-created-date:2003-05-01,until-created-date:2003-05-15&select=DOI,title,score,created,abstract&rows=1000&cursor=DnF1ZXJ5VGhlbkZldGNoBgAAAAASOFw4FkhUQjJYNFlSVFVPT1k5bVZmVDQzQXcAAAAAD42TUBY0amo4YndCWVRadUx4QV9WQlVKWHdnAAAAAADlYNQWMUZXWVdYT3hUZTZtQzNpVGM3NzZoUQAAAAASt4K4Fk5qWk1fWm1iUVV1V3Nwd3MxN3FqQ3cAAAAAEjfHoBZDNTBUdXhPeVM0bUg3UnZzcl9lR2N3AAAAABCGQaEWSTFVWlpBeGRTWi1nRllxOU9nQUYydw== \n",
      "\n",
      "*************\n",
      "All Extracted:moving on to next segment\n",
      "https://api.crossref.org/works?query=Automated+literature+and+systematic+Reviews&filter=type:journal-article,from-created-date:2003-05-15,until-created-date:2003-05-29&select=DOI,title,score,created,abstract&rows=1000&cursor=DnF1ZXJ5VGhlbkZldGNoBgAAAAASOFxNFkhUQjJYNFlSVFVPT1k5bVZmVDQzQXcAAAAAD42TaRY0amo4YndCWVRadUx4QV9WQlVKWHdnAAAAABcWId0WR25aQ25BM09Rb0ctLThhTmdORDh1ZwAAAAASt4LQFk5qWk1fWm1iUVV1V3Nwd3MxN3FqQ3cAAAAAEjfHuxZDNTBUdXhPeVM0bUg3UnZzcl9lR2N3AAAAABCKoEkWaDRJMjhrcXVUOGE3dDI1VDhnWHMyZw== \n",
      "\n",
      "*************\n",
      "All Extracted:moving on to next segment\n",
      "https://api.crossref.org/works?query=Automated+literature+and+systematic+Reviews&filter=type:journal-article,from-created-date:2003-05-29,until-created-date:2003-06-12&select=DOI,title,score,created,abstract&rows=1000&cursor=DnF1ZXJ5VGhlbkZldGNoBgAAAAAA5WEsFjFGV1lXWE94VGU2bUMzaVRjNzc2aFEAAAAAFxYiDBZHblpDbkEzT1FvRy0tOGFOZ05EOHVnAAAAAADlYS0WMUZXWVdYT3hUZTZtQzNpVGM3NzZoUQAAAAAR7q6vFjdhbGlIQ0JtVEVlMW9yN2RJbTBZV2cAAAAAEAWM8RZfNEZlTDBRZ1FuLWZ4NVhlZU9MYzN3AAAAABCGQdgWSTFVWlpBeGRTWi1nRllxOU9nQUYydw== \n",
      "\n",
      "*************\n",
      "All Extracted:moving on to next segment\n",
      "https://api.crossref.org/works?query=Automated+literature+and+systematic+Reviews&filter=type:journal-article,from-created-date:2003-06-12,until-created-date:2003-06-26&select=DOI,title,score,created,abstract&rows=1000&cursor=DnF1ZXJ5VGhlbkZldGNoBgAAAAAA5WFeFjFGV1lXWE94VGU2bUMzaVRjNzc2aFEAAAAAFxYiQxZHblpDbkEzT1FvRy0tOGFOZ05EOHVnAAAAAADlYV8WMUZXWVdYT3hUZTZtQzNpVGM3NzZoUQAAAAAR7q7HFjdhbGlIQ0JtVEVlMW9yN2RJbTBZV2cAAAAAEAWNDRZfNEZlTDBRZ1FuLWZ4NVhlZU9MYzN3AAAAABCGQfMWSTFVWlpBeGRTWi1nRllxOU9nQUYydw== \n",
      "\n",
      "*************\n",
      "All Extracted:moving on to next segment\n",
      "https://api.crossref.org/works?query=Automated+literature+and+systematic+Reviews&filter=type:journal-article,from-created-date:2003-06-26,until-created-date:2003-07-10&select=DOI,title,score,created,abstract&rows=1000&cursor=DnF1ZXJ5VGhlbkZldGNoBgAAAAASOFyrFkhUQjJYNFlSVFVPT1k5bVZmVDQzQXcAAAAAD42TxBY0amo4YndCWVRadUx4QV9WQlVKWHdnAAAAABcWInUWR25aQ25BM09Rb0ctLThhTmdORDh1ZwAAAAASt4NGFk5qWk1fWm1iUVV1V3Nwd3MxN3FqQ3cAAAAAEjfIJxZDNTBUdXhPeVM0bUg3UnZzcl9lR2N3AAAAABCGQhgWSTFVWlpBeGRTWi1nRllxOU9nQUYydw== \n",
      "\n",
      "*************\n",
      "All Extracted:moving on to next segment\n",
      "https://api.crossref.org/works?query=Automated+literature+and+systematic+Reviews&filter=type:journal-article,from-created-date:2003-07-10,until-created-date:2003-07-24&select=DOI,title,score,created,abstract&rows=1000&cursor=DnF1ZXJ5VGhlbkZldGNoBgAAAAAA5WHNFjFGV1lXWE94VGU2bUMzaVRjNzc2aFEAAAAAFxYisBZHblpDbkEzT1FvRy0tOGFOZ05EOHVnAAAAAADlYc4WMUZXWVdYT3hUZTZtQzNpVGM3NzZoUQAAAAAR7q78FjdhbGlIQ0JtVEVlMW9yN2RJbTBZV2cAAAAAEAWNWxZfNEZlTDBRZ1FuLWZ4NVhlZU9MYzN3AAAAABCGQkYWSTFVWlpBeGRTWi1nRllxOU9nQUYydw== \n",
      "\n",
      "*************\n",
      "All Extracted:moving on to next segment\n",
      "https://api.crossref.org/works?query=Automated+literature+and+systematic+Reviews&filter=type:journal-article,from-created-date:2003-07-24,until-created-date:2003-08-07&select=DOI,title,score,created,abstract&rows=1000&cursor=DnF1ZXJ5VGhlbkZldGNoBgAAAAAA5WImFjFGV1lXWE94VGU2bUMzaVRjNzc2aFEAAAAAFxYi8hZHblpDbkEzT1FvRy0tOGFOZ05EOHVnAAAAABcWIvMWR25aQ25BM09Rb0ctLThhTmdORDh1ZwAAAAAR7q8hFjdhbGlIQ0JtVEVlMW9yN2RJbTBZV2cAAAAAEAWNfRZfNEZlTDBRZ1FuLWZ4NVhlZU9MYzN3AAAAABCKoNkWaDRJMjhrcXVUOGE3dDI1VDhnWHMyZw== \n",
      "\n",
      "*************\n",
      "All Extracted:moving on to next segment\n",
      "https://api.crossref.org/works?query=Automated+literature+and+systematic+Reviews&filter=type:journal-article,from-created-date:2003-08-07,until-created-date:2003-08-21&select=DOI,title,score,created,abstract&rows=1000&cursor=DnF1ZXJ5VGhlbkZldGNoBgAAAAASOF41FkhUQjJYNFlSVFVPT1k5bVZmVDQzQXcAAAAAD42VRRY0amo4YndCWVRadUx4QV9WQlVKWHdnAAAAAADlY_8WMUZXWVdYT3hUZTZtQzNpVGM3NzZoUQAAAAASt4XAFk5qWk1fWm1iUVV1V3Nwd3MxN3FqQ3cAAAAAEjfKcxZDNTBUdXhPeVM0bUg3UnZzcl9lR2N3AAAAABCKoeYWaDRJMjhrcXVUOGE3dDI1VDhnWHMyZw== \n",
      "\n",
      "*************\n",
      "All Extracted:moving on to next segment\n",
      "https://api.crossref.org/works?query=Automated+literature+and+systematic+Reviews&filter=type:journal-article,from-created-date:2003-08-21,until-created-date:2003-09-04&select=DOI,title,score,created,abstract&rows=1000&cursor=DnF1ZXJ5VGhlbkZldGNoBgAAAAASOF5dFkhUQjJYNFlSVFVPT1k5bVZmVDQzQXcAAAAAD42VcRY0amo4YndCWVRadUx4QV9WQlVKWHdnAAAAABcWJSYWR25aQ25BM09Rb0ctLThhTmdORDh1ZwAAAAASt4XwFk5qWk1fWm1iUVV1V3Nwd3MxN3FqQ3cAAAAAEjfKqBZDNTBUdXhPeVM0bUg3UnZzcl9lR2N3AAAAABCGRDkWSTFVWlpBeGRTWi1nRllxOU9nQUYydw== \n",
      "\n",
      "*************\n",
      "All Extracted:moving on to next segment\n",
      "https://api.crossref.org/works?query=Automated+literature+and+systematic+Reviews&filter=type:journal-article,from-created-date:2003-09-04,until-created-date:2003-09-18&select=DOI,title,score,created,abstract&rows=1000&cursor=DnF1ZXJ5VGhlbkZldGNoBgAAAAASOF51FkhUQjJYNFlSVFVPT1k5bVZmVDQzQXcAAAAAD42VihY0amo4YndCWVRadUx4QV9WQlVKWHdnAAAAAADlZHIWMUZXWVdYT3hUZTZtQzNpVGM3NzZoUQAAAAASt4YMFk5qWk1fWm1iUVV1V3Nwd3MxN3FqQ3cAAAAAEjfKxhZDNTBUdXhPeVM0bUg3UnZzcl9lR2N3AAAAABCGRFMWSTFVWlpBeGRTWi1nRllxOU9nQUYydw== \n",
      "\n",
      "*************\n",
      "All Extracted:moving on to next segment\n",
      "https://api.crossref.org/works?query=Automated+literature+and+systematic+Reviews&filter=type:journal-article,from-created-date:2003-09-18,until-created-date:2003-10-02&select=DOI,title,score,created,abstract&rows=1000&cursor=DnF1ZXJ5VGhlbkZldGNoBgAAAAASOF7kFkhUQjJYNFlSVFVPT1k5bVZmVDQzQXcAAAAAFxYmBhZHblpDbkEzT1FvRy0tOGFOZ05EOHVnAAAAABcWJgcWR25aQ25BM09Rb0ctLThhTmdORDh1ZwAAAAASt4aWFk5qWk1fWm1iUVV1V3Nwd3MxN3FqQ3cAAAAAEAWPdxZfNEZlTDBRZ1FuLWZ4NVhlZU9MYzN3AAAAABCKon0WaDRJMjhrcXVUOGE3dDI1VDhnWHMyZw== \n",
      "\n",
      "*************\n"
     ]
    },
    {
     "name": "stdout",
     "output_type": "stream",
     "text": [
      "All Extracted:moving on to next segment\n",
      "https://api.crossref.org/works?query=Automated+literature+and+systematic+Reviews&filter=type:journal-article,from-created-date:2003-10-02,until-created-date:2003-10-16&select=DOI,title,score,created,abstract&rows=1000&cursor=DnF1ZXJ5VGhlbkZldGNoBgAAAAASOF8qFkhUQjJYNFlSVFVPT1k5bVZmVDQzQXcAAAAAD42WLhY0amo4YndCWVRadUx4QV9WQlVKWHdnAAAAAADlZWoWMUZXWVdYT3hUZTZtQzNpVGM3NzZoUQAAAAASt4brFk5qWk1fWm1iUVV1V3Nwd3MxN3FqQ3cAAAAAEjfLjhZDNTBUdXhPeVM0bUg3UnZzcl9lR2N3AAAAABCGRO0WSTFVWlpBeGRTWi1nRllxOU9nQUYydw== \n",
      "\n",
      "*************\n",
      "All Extracted:moving on to next segment\n",
      "https://api.crossref.org/works?query=Automated+literature+and+systematic+Reviews&filter=type:journal-article,from-created-date:2003-10-16,until-created-date:2003-10-30&select=DOI,title,score,created,abstract&rows=1000&cursor=DnF1ZXJ5VGhlbkZldGNoBgAAAAAA5WYiFjFGV1lXWE94VGU2bUMzaVRjNzc2aFEAAAAAFxYnOhZHblpDbkEzT1FvRy0tOGFOZ05EOHVnAAAAABcWJzsWR25aQ25BM09Rb0ctLThhTmdORDh1ZwAAAAASt4d7Fk5qWk1fWm1iUVV1V3Nwd3MxN3FqQ3cAAAAAEAWQHhZfNEZlTDBRZ1FuLWZ4NVhlZU9MYzN3AAAAABCKoyoWaDRJMjhrcXVUOGE3dDI1VDhnWHMyZw== \n",
      "\n",
      "*************\n",
      "All Extracted:moving on to next segment\n",
      "https://api.crossref.org/works?query=Automated+literature+and+systematic+Reviews&filter=type:journal-article,from-created-date:2003-10-30,until-created-date:2003-11-13&select=DOI,title,score,created,abstract&rows=1000&cursor=DnF1ZXJ5VGhlbkZldGNoBgAAAAASOF_iFkhUQjJYNFlSVFVPT1k5bVZmVDQzQXcAAAAAD42W2xY0amo4YndCWVRadUx4QV9WQlVKWHdnAAAAABcWJ5UWR25aQ25BM09Rb0ctLThhTmdORDh1ZwAAAAASt4e_Fk5qWk1fWm1iUVV1V3Nwd3MxN3FqQ3cAAAAAEjfMVBZDNTBUdXhPeVM0bUg3UnZzcl9lR2N3AAAAABCGRZEWSTFVWlpBeGRTWi1nRllxOU9nQUYydw== \n",
      "\n",
      "*************\n",
      "All Extracted:moving on to next segment\n",
      "https://api.crossref.org/works?query=Automated+literature+and+systematic+Reviews&filter=type:journal-article,from-created-date:2003-11-13,until-created-date:2003-11-27&select=DOI,title,score,created,abstract&rows=1000&cursor=DnF1ZXJ5VGhlbkZldGNoBgAAAAAA5WbPFjFGV1lXWE94VGU2bUMzaVRjNzc2aFEAAAAAD42XAhY0amo4YndCWVRadUx4QV9WQlVKWHdnAAAAAADlZtAWMUZXWVdYT3hUZTZtQzNpVGM3NzZoUQAAAAAR7rFKFjdhbGlIQ0JtVEVlMW9yN2RJbTBZV2cAAAAAEjfMhRZDNTBUdXhPeVM0bUg3UnZzcl9lR2N3AAAAABCGRb0WSTFVWlpBeGRTWi1nRllxOU9nQUYydw== \n",
      "\n",
      "*************\n",
      "All Extracted:moving on to next segment\n",
      "https://api.crossref.org/works?query=Automated+literature+and+systematic+Reviews&filter=type:journal-article,from-created-date:2003-11-27,until-created-date:2003-12-11&select=DOI,title,score,created,abstract&rows=1000&cursor=DnF1ZXJ5VGhlbkZldGNoBgAAAAASOGBhFkhUQjJYNFlSVFVPT1k5bVZmVDQzQXcAAAAAFxYoehZHblpDbkEzT1FvRy0tOGFOZ05EOHVnAAAAABcWKHsWR25aQ25BM09Rb0ctLThhTmdORDh1ZwAAAAAR7rGDFjdhbGlIQ0JtVEVlMW9yN2RJbTBZV2cAAAAAEAWQ3RZfNEZlTDBRZ1FuLWZ4NVhlZU9MYzN3AAAAABCKo9AWaDRJMjhrcXVUOGE3dDI1VDhnWHMyZw== \n",
      "\n",
      "*************\n",
      "All Extracted:moving on to next segment\n",
      "https://api.crossref.org/works?query=Automated+literature+and+systematic+Reviews&filter=type:journal-article,from-created-date:2003-12-11,until-created-date:2003-12-25&select=DOI,title,score,created,abstract&rows=1000&cursor=DnF1ZXJ5VGhlbkZldGNoBgAAAAAA5WdwFjFGV1lXWE94VGU2bUMzaVRjNzc2aFEAAAAAFxYonRZHblpDbkEzT1FvRy0tOGFOZ05EOHVnAAAAAADlZ3EWMUZXWVdYT3hUZTZtQzNpVGM3NzZoUQAAAAAR7rGSFjdhbGlIQ0JtVEVlMW9yN2RJbTBZV2cAAAAAEAWQ9RZfNEZlTDBRZ1FuLWZ4NVhlZU9MYzN3AAAAABCGRiIWSTFVWlpBeGRTWi1nRllxOU9nQUYydw== \n",
      "\n",
      "*************\n",
      "All Extracted:moving on to next segment\n",
      "https://api.crossref.org/works?query=Automated+literature+and+systematic+Reviews&filter=type:journal-article,from-created-date:2003-12-25,until-created-date:2004-01-08&select=DOI,title,score,created,abstract&rows=1000&cursor=DnF1ZXJ5VGhlbkZldGNoBgAAAAAA5WeyFjFGV1lXWE94VGU2bUMzaVRjNzc2aFEAAAAAD42XgBY0amo4YndCWVRadUx4QV9WQlVKWHdnAAAAAADlZ7MWMUZXWVdYT3hUZTZtQzNpVGM3NzZoUQAAAAAR7rGzFjdhbGlIQ0JtVEVlMW9yN2RJbTBZV2cAAAAAEAWRHBZfNEZlTDBRZ1FuLWZ4NVhlZU9MYzN3AAAAABCGRkgWSTFVWlpBeGRTWi1nRllxOU9nQUYydw== \n",
      "\n",
      "*************\n",
      "All Extracted:moving on to next segment\n",
      "https://api.crossref.org/works?query=Automated+literature+and+systematic+Reviews&filter=type:journal-article,from-created-date:2004-01-08,until-created-date:2004-01-22&select=DOI,title,score,created,abstract&rows=1000&cursor=DnF1ZXJ5VGhlbkZldGNoBgAAAAAA5Wf2FjFGV1lXWE94VGU2bUMzaVRjNzc2aFEAAAAAD42XphY0amo4YndCWVRadUx4QV9WQlVKWHdnAAAAAADlZ_cWMUZXWVdYT3hUZTZtQzNpVGM3NzZoUQAAAAAR7rHXFjdhbGlIQ0JtVEVlMW9yN2RJbTBZV2cAAAAAEjfNRBZDNTBUdXhPeVM0bUg3UnZzcl9lR2N3AAAAABCGRm0WSTFVWlpBeGRTWi1nRllxOU9nQUYydw== \n",
      "\n",
      "*************\n",
      "All Extracted:moving on to next segment\n",
      "https://api.crossref.org/works?query=Automated+literature+and+systematic+Reviews&filter=type:journal-article,from-created-date:2004-01-22,until-created-date:2004-02-05&select=DOI,title,score,created,abstract&rows=1000&cursor=DnF1ZXJ5VGhlbkZldGNoBgAAAAASOGEZFkhUQjJYNFlSVFVPT1k5bVZmVDQzQXcAAAAAD42X0BY0amo4YndCWVRadUx4QV9WQlVKWHdnAAAAABcWKWYWR25aQ25BM09Rb0ctLThhTmdORDh1ZwAAAAASt4kBFk5qWk1fWm1iUVV1V3Nwd3MxN3FqQ3cAAAAAEjfNdhZDNTBUdXhPeVM0bUg3UnZzcl9lR2N3AAAAABCGRowWSTFVWlpBeGRTWi1nRllxOU9nQUYydw== \n",
      "\n",
      "*************\n",
      "All Extracted:moving on to next segment\n",
      "https://api.crossref.org/works?query=Automated+literature+and+systematic+Reviews&filter=type:journal-article,from-created-date:2004-02-05,until-created-date:2004-02-19&select=DOI,title,score,created,abstract&rows=1000&cursor=DnF1ZXJ5VGhlbkZldGNoBgAAAAASOGFbFkhUQjJYNFlSVFVPT1k5bVZmVDQzQXcAAAAAD42YExY0amo4YndCWVRadUx4QV9WQlVKWHdnAAAAAADlaJQWMUZXWVdYT3hUZTZtQzNpVGM3NzZoUQAAAAASt4lYFk5qWk1fWm1iUVV1V3Nwd3MxN3FqQ3cAAAAAEjfNwRZDNTBUdXhPeVM0bUg3UnZzcl9lR2N3AAAAABCGRs8WSTFVWlpBeGRTWi1nRllxOU9nQUYydw== \n",
      "\n",
      "*************\n",
      "All Extracted:moving on to next segment\n",
      "https://api.crossref.org/works?query=Automated+literature+and+systematic+Reviews&filter=type:journal-article,from-created-date:2004-02-19,until-created-date:2004-03-04&select=DOI,title,score,created,abstract&rows=1000&cursor=DnF1ZXJ5VGhlbkZldGNoBgAAAAASOGGAFkhUQjJYNFlSVFVPT1k5bVZmVDQzQXcAAAAAD42YOxY0amo4YndCWVRadUx4QV9WQlVKWHdnAAAAAADlaNYWMUZXWVdYT3hUZTZtQzNpVGM3NzZoUQAAAAASt4mEFk5qWk1fWm1iUVV1V3Nwd3MxN3FqQ3cAAAAAEjfN6xZDNTBUdXhPeVM0bUg3UnZzcl9lR2N3AAAAABCGRvgWSTFVWlpBeGRTWi1nRllxOU9nQUYydw== \n",
      "\n",
      "*************\n",
      "All Extracted:moving on to next segment\n",
      "https://api.crossref.org/works?query=Automated+literature+and+systematic+Reviews&filter=type:journal-article,from-created-date:2004-03-04,until-created-date:2004-03-18&select=DOI,title,score,created,abstract&rows=1000&cursor=DnF1ZXJ5VGhlbkZldGNoBgAAAAASOGHVFkhUQjJYNFlSVFVPT1k5bVZmVDQzQXcAAAAAD42YiRY0amo4YndCWVRadUx4QV9WQlVKWHdnAAAAAADlaToWMUZXWVdYT3hUZTZtQzNpVGM3NzZoUQAAAAASt4nlFk5qWk1fWm1iUVV1V3Nwd3MxN3FqQ3cAAAAAEjfOQBZDNTBUdXhPeVM0bUg3UnZzcl9lR2N3AAAAABCGRzgWSTFVWlpBeGRTWi1nRllxOU9nQUYydw== \n",
      "\n",
      "*************\n",
      "All Extracted:moving on to next segment\n",
      "https://api.crossref.org/works?query=Automated+literature+and+systematic+Reviews&filter=type:journal-article,from-created-date:2004-03-18,until-created-date:2004-04-01&select=DOI,title,score,created,abstract&rows=1000&cursor=DnF1ZXJ5VGhlbkZldGNoBgAAAAASOGHyFkhUQjJYNFlSVFVPT1k5bVZmVDQzQXcAAAAAFxYqshZHblpDbkEzT1FvRy0tOGFOZ05EOHVnAAAAABcWKrEWR25aQ25BM09Rb0ctLThhTmdORDh1ZwAAAAAR7rJuFjdhbGlIQ0JtVEVlMW9yN2RJbTBZV2cAAAAAEAWSIxZfNEZlTDBRZ1FuLWZ4NVhlZU9MYzN3AAAAABCKpRsWaDRJMjhrcXVUOGE3dDI1VDhnWHMyZw== \n",
      "\n",
      "*************\n",
      "All Extracted:moving on to next segment\n",
      "https://api.crossref.org/works?query=Automated+literature+and+systematic+Reviews&filter=type:journal-article,from-created-date:2004-04-01,until-created-date:2004-04-15&select=DOI,title,score,created,abstract&rows=1000&cursor=DnF1ZXJ5VGhlbkZldGNoBgAAAAAA5Wm8FjFGV1lXWE94VGU2bUMzaVRjNzc2aFEAAAAAFxYrDxZHblpDbkEzT1FvRy0tOGFOZ05EOHVnAAAAABcWKw4WR25aQ25BM09Rb0ctLThhTmdORDh1ZwAAAAASt4pWFk5qWk1fWm1iUVV1V3Nwd3MxN3FqQ3cAAAAAEAWSWBZfNEZlTDBRZ1FuLWZ4NVhlZU9MYzN3AAAAABCKpUwWaDRJMjhrcXVUOGE3dDI1VDhnWHMyZw== \n",
      "\n",
      "*************\n",
      "All Extracted:moving on to next segment\n",
      "https://api.crossref.org/works?query=Automated+literature+and+systematic+Reviews&filter=type:journal-article,from-created-date:2004-04-15,until-created-date:2004-04-29&select=DOI,title,score,created,abstract&rows=1000&cursor=DnF1ZXJ5VGhlbkZldGNoBgAAAAAA5WouFjFGV1lXWE94VGU2bUMzaVRjNzc2aFEAAAAAFxYrlRZHblpDbkEzT1FvRy0tOGFOZ05EOHVnAAAAABcWK5YWR25aQ25BM09Rb0ctLThhTmdORDh1ZwAAAAAR7rLKFjdhbGlIQ0JtVEVlMW9yN2RJbTBZV2cAAAAAEAWSnxZfNEZlTDBRZ1FuLWZ4NVhlZU9MYzN3AAAAABCKpagWaDRJMjhrcXVUOGE3dDI1VDhnWHMyZw== \n",
      "\n",
      "*************\n"
     ]
    },
    {
     "name": "stdout",
     "output_type": "stream",
     "text": [
      "All Extracted:moving on to next segment\n",
      "https://api.crossref.org/works?query=Automated+literature+and+systematic+Reviews&filter=type:journal-article,from-created-date:2004-04-29,until-created-date:2004-05-13&select=DOI,title,score,created,abstract&rows=1000&cursor=DnF1ZXJ5VGhlbkZldGNoBgAAAAAA5WryFjFGV1lXWE94VGU2bUMzaVRjNzc2aFEAAAAAFxYsSRZHblpDbkEzT1FvRy0tOGFOZ05EOHVnAAAAAADlavMWMUZXWVdYT3hUZTZtQzNpVGM3NzZoUQAAAAAR7rMjFjdhbGlIQ0JtVEVlMW9yN2RJbTBZV2cAAAAAEAWTCRZfNEZlTDBRZ1FuLWZ4NVhlZU9MYzN3AAAAABCGSEkWSTFVWlpBeGRTWi1nRllxOU9nQUYydw== \n",
      "\n",
      "*************\n",
      "All Extracted:moving on to next segment\n",
      "https://api.crossref.org/works?query=Automated+literature+and+systematic+Reviews&filter=type:journal-article,from-created-date:2004-05-13,until-created-date:2004-05-27&select=DOI,title,score,created,abstract&rows=1000&cursor=DnF1ZXJ5VGhlbkZldGNoBgAAAAASOGOEFkhUQjJYNFlSVFVPT1k5bVZmVDQzQXcAAAAAD42aGBY0amo4YndCWVRadUx4QV9WQlVKWHdnAAAAAADla50WMUZXWVdYT3hUZTZtQzNpVGM3NzZoUQAAAAASt4vLFk5qWk1fWm1iUVV1V3Nwd3MxN3FqQ3cAAAAAEjfQBRZDNTBUdXhPeVM0bUg3UnZzcl9lR2N3AAAAABCGSLMWSTFVWlpBeGRTWi1nRllxOU9nQUYydw== \n",
      "\n",
      "*************\n",
      "All Extracted:moving on to next segment\n",
      "https://api.crossref.org/works?query=Automated+literature+and+systematic+Reviews&filter=type:journal-article,from-created-date:2004-05-27,until-created-date:2004-06-10&select=DOI,title,score,created,abstract&rows=1000&cursor=DnF1ZXJ5VGhlbkZldGNoBgAAAAAA5Wv1FjFGV1lXWE94VGU2bUMzaVRjNzc2aFEAAAAAD42aTBY0amo4YndCWVRadUx4QV9WQlVKWHdnAAAAAADla_YWMUZXWVdYT3hUZTZtQzNpVGM3NzZoUQAAAAAR7rOhFjdhbGlIQ0JtVEVlMW9yN2RJbTBZV2cAAAAAEAWTjRZfNEZlTDBRZ1FuLWZ4NVhlZU9MYzN3AAAAABCGSOoWSTFVWlpBeGRTWi1nRllxOU9nQUYydw== \n",
      "\n",
      "*************\n",
      "All Extracted:moving on to next segment\n",
      "API timed out:skipping and moving on to next segment\n",
      "https://api.crossref.org/works?query=Automated+literature+and+systematic+Reviews&filter=type:journal-article,from-created-date:2004-06-10,until-created-date:2004-06-24&select=DOI,title,score,created,abstract&rows=1000&cursor=DnF1ZXJ5VGhlbkZldGNoBgAAAAAA5w6YFjFGV1lXWE94VGU2bUMzaVRjNzc2aFEAAAAAD46ZyBY0amo4YndCWVRadUx4QV9WQlVKWHdnAAAAAADnDpcWMUZXWVdYT3hUZTZtQzNpVGM3NzZoUQAAAAAR73RLFjdhbGlIQ0JtVEVlMW9yN2RJbTBZV2cAAAAAEAZ-UhZfNEZlTDBRZ1FuLWZ4NVhlZU9MYzN3AAAAABCHUdUWSTFVWlpBeGRTWi1nRllxOU9nQUYydw== \n",
      "\n",
      "*************\n",
      "All Extracted:moving on to next segment\n",
      "https://api.crossref.org/works?query=Automated+literature+and+systematic+Reviews&filter=type:journal-article,from-created-date:2004-06-24,until-created-date:2004-07-08&select=DOI,title,score,created,abstract&rows=1000&cursor=DnF1ZXJ5VGhlbkZldGNoBgAAAAASOWJgFkhUQjJYNFlSVFVPT1k5bVZmVDQzQXcAAAAAFxfC2hZHblpDbkEzT1FvRy0tOGFOZ05EOHVnAAAAABcXwtkWR25aQ25BM09Rb0ctLThhTmdORDh1ZwAAAAAR73RkFjdhbGlIQ0JtVEVlMW9yN2RJbTBZV2cAAAAAEAZ-dRZfNEZlTDBRZ1FuLWZ4NVhlZU9MYzN3AAAAABCLgqYWaDRJMjhrcXVUOGE3dDI1VDhnWHMyZw== \n",
      "\n",
      "*************\n",
      "All Extracted:moving on to next segment\n",
      "https://api.crossref.org/works?query=Automated+literature+and+systematic+Reviews&filter=type:journal-article,from-created-date:2004-07-08,until-created-date:2004-07-22&select=DOI,title,score,created,abstract&rows=1000&cursor=DnF1ZXJ5VGhlbkZldGNoBgAAAAAA5w80FjFGV1lXWE94VGU2bUMzaVRjNzc2aFEAAAAAD46aMhY0amo4YndCWVRadUx4QV9WQlVKWHdnAAAAAADnDzUWMUZXWVdYT3hUZTZtQzNpVGM3NzZoUQAAAAAR73SUFjdhbGlIQ0JtVEVlMW9yN2RJbTBZV2cAAAAAEAZ-rhZfNEZlTDBRZ1FuLWZ4NVhlZU9MYzN3AAAAABCHUkoWSTFVWlpBeGRTWi1nRllxOU9nQUYydw== \n",
      "\n",
      "*************\n",
      "All Extracted:moving on to next segment\n",
      "https://api.crossref.org/works?query=Automated+literature+and+systematic+Reviews&filter=type:journal-article,from-created-date:2004-07-22,until-created-date:2004-08-05&select=DOI,title,score,created,abstract&rows=1000&cursor=DnF1ZXJ5VGhlbkZldGNoBgAAAAASOWK_FkhUQjJYNFlSVFVPT1k5bVZmVDQzQXcAAAAAD46aRxY0amo4YndCWVRadUx4QV9WQlVKWHdnAAAAABcXw2AWR25aQ25BM09Rb0ctLThhTmdORDh1ZwAAAAASuMeaFk5qWk1fWm1iUVV1V3Nwd3MxN3FqQ3cAAAAAEjkCmRZDNTBUdXhPeVM0bUg3UnZzcl9lR2N3AAAAABCLgvIWaDRJMjhrcXVUOGE3dDI1VDhnWHMyZw== \n",
      "\n",
      "*************\n",
      "All Extracted:moving on to next segment\n",
      "https://api.crossref.org/works?query=Automated+literature+and+systematic+Reviews&filter=type:journal-article,from-created-date:2004-08-05,until-created-date:2004-08-19&select=DOI,title,score,created,abstract&rows=1000&cursor=DnF1ZXJ5VGhlbkZldGNoBgAAAAASOWLfFkhUQjJYNFlSVFVPT1k5bVZmVDQzQXcAAAAAD46aZRY0amo4YndCWVRadUx4QV9WQlVKWHdnAAAAAADnD4AWMUZXWVdYT3hUZTZtQzNpVGM3NzZoUQAAAAASuMfCFk5qWk1fWm1iUVV1V3Nwd3MxN3FqQ3cAAAAAEjkCwBZDNTBUdXhPeVM0bUg3UnZzcl9lR2N3AAAAABCHUn0WSTFVWlpBeGRTWi1nRllxOU9nQUYydw== \n",
      "\n",
      "*************\n",
      "All Extracted:moving on to next segment\n",
      "https://api.crossref.org/works?query=Automated+literature+and+systematic+Reviews&filter=type:journal-article,from-created-date:2004-08-19,until-created-date:2004-09-02&select=DOI,title,score,created,abstract&rows=1000&cursor=DnF1ZXJ5VGhlbkZldGNoBgAAAAASOWMBFkhUQjJYNFlSVFVPT1k5bVZmVDQzQXcAAAAAD46ahxY0amo4YndCWVRadUx4QV9WQlVKWHdnAAAAAADnD64WMUZXWVdYT3hUZTZtQzNpVGM3NzZoUQAAAAASuMftFk5qWk1fWm1iUVV1V3Nwd3MxN3FqQ3cAAAAAEjkC6hZDNTBUdXhPeVM0bUg3UnZzcl9lR2N3AAAAABCHUp8WSTFVWlpBeGRTWi1nRllxOU9nQUYydw== \n",
      "\n",
      "*************\n",
      "All Extracted:moving on to next segment\n",
      "https://api.crossref.org/works?query=Automated+literature+and+systematic+Reviews&filter=type:journal-article,from-created-date:2004-09-02,until-created-date:2004-09-16&select=DOI,title,score,created,abstract&rows=1000&cursor=DnF1ZXJ5VGhlbkZldGNoBgAAAAAA5w_hFjFGV1lXWE94VGU2bUMzaVRjNzc2aFEAAAAAFxfD4BZHblpDbkEzT1FvRy0tOGFOZ05EOHVnAAAAABcXw-EWR25aQ25BM09Rb0ctLThhTmdORDh1ZwAAAAAR73TkFjdhbGlIQ0JtVEVlMW9yN2RJbTBZV2cAAAAAEAZ_FxZfNEZlTDBRZ1FuLWZ4NVhlZU9MYzN3AAAAABCLgzgWaDRJMjhrcXVUOGE3dDI1VDhnWHMyZw== \n",
      "\n",
      "*************\n",
      "All Extracted:moving on to next segment\n",
      "https://api.crossref.org/works?query=Automated+literature+and+systematic+Reviews&filter=type:journal-article,from-created-date:2004-09-16,until-created-date:2004-09-30&select=DOI,title,score,created,abstract&rows=1000&cursor=DnF1ZXJ5VGhlbkZldGNoBgAAAAAA5xBUFjFGV1lXWE94VGU2bUMzaVRjNzc2aFEAAAAAD46a6xY0amo4YndCWVRadUx4QV9WQlVKWHdnAAAAAADnEFUWMUZXWVdYT3hUZTZtQzNpVGM3NzZoUQAAAAAR73UUFjdhbGlIQ0JtVEVlMW9yN2RJbTBZV2cAAAAAEjkDZhZDNTBUdXhPeVM0bUg3UnZzcl9lR2N3AAAAABCHUxEWSTFVWlpBeGRTWi1nRllxOU9nQUYydw== \n",
      "\n",
      "*************\n",
      "All Extracted:moving on to next segment\n",
      "https://api.crossref.org/works?query=Automated+literature+and+systematic+Reviews&filter=type:journal-article,from-created-date:2004-09-30,until-created-date:2004-10-14&select=DOI,title,score,created,abstract&rows=1000&cursor=DnF1ZXJ5VGhlbkZldGNoBgAAAAASOWN0FkhUQjJYNFlSVFVPT1k5bVZmVDQzQXcAAAAAD46bCRY0amo4YndCWVRadUx4QV9WQlVKWHdnAAAAABcXxGQWR25aQ25BM09Rb0ctLThhTmdORDh1ZwAAAAASuMiSFk5qWk1fWm1iUVV1V3Nwd3MxN3FqQ3cAAAAAEjkDixZDNTBUdXhPeVM0bUg3UnZzcl9lR2N3AAAAABCLg3sWaDRJMjhrcXVUOGE3dDI1VDhnWHMyZw== \n",
      "\n",
      "*************\n",
      "All Extracted:moving on to next segment\n",
      "https://api.crossref.org/works?query=Automated+literature+and+systematic+Reviews&filter=type:journal-article,from-created-date:2004-10-14,until-created-date:2004-10-28&select=DOI,title,score,created,abstract&rows=1000&cursor=DnF1ZXJ5VGhlbkZldGNoBgAAAAAA5xDxFjFGV1lXWE94VGU2bUMzaVRjNzc2aFEAAAAAFxfEuhZHblpDbkEzT1FvRy0tOGFOZ05EOHVnAAAAAADnEPIWMUZXWVdYT3hUZTZtQzNpVGM3NzZoUQAAAAAR73VjFjdhbGlIQ0JtVEVlMW9yN2RJbTBZV2cAAAAAEjkD6hZDNTBUdXhPeVM0bUg3UnZzcl9lR2N3AAAAABCHU4EWSTFVWlpBeGRTWi1nRllxOU9nQUYydw== \n",
      "\n",
      "*************\n",
      "All Extracted:moving on to next segment\n",
      "https://api.crossref.org/works?query=Automated+literature+and+systematic+Reviews&filter=type:journal-article,from-created-date:2004-10-28,until-created-date:2004-11-11&select=DOI,title,score,created,abstract&rows=1000&cursor=DnF1ZXJ5VGhlbkZldGNoBgAAAAASOWPvFkhUQjJYNFlSVFVPT1k5bVZmVDQzQXcAAAAAD46bjBY0amo4YndCWVRadUx4QV9WQlVKWHdnAAAAAADnEVcWMUZXWVdYT3hUZTZtQzNpVGM3NzZoUQAAAAASuMk8Fk5qWk1fWm1iUVV1V3Nwd3MxN3FqQ3cAAAAAEjkEPRZDNTBUdXhPeVM0bUg3UnZzcl9lR2N3AAAAABCHU78WSTFVWlpBeGRTWi1nRllxOU9nQUYydw== \n",
      "\n",
      "*************\n",
      "All Extracted:moving on to next segment\n",
      "https://api.crossref.org/works?query=Automated+literature+and+systematic+Reviews&filter=type:journal-article,from-created-date:2004-11-11,until-created-date:2004-11-25&select=DOI,title,score,created,abstract&rows=1000&cursor=DnF1ZXJ5VGhlbkZldGNoBgAAAAAA5xGcFjFGV1lXWE94VGU2bUMzaVRjNzc2aFEAAAAAD46bvBY0amo4YndCWVRadUx4QV9WQlVKWHdnAAAAAADnEZ0WMUZXWVdYT3hUZTZtQzNpVGM3NzZoUQAAAAAR73WsFjdhbGlIQ0JtVEVlMW9yN2RJbTBZV2cAAAAAEAaABBZfNEZlTDBRZ1FuLWZ4NVhlZU9MYzN3AAAAABCHU_cWSTFVWlpBeGRTWi1nRllxOU9nQUYydw== \n",
      "\n",
      "*************\n"
     ]
    },
    {
     "name": "stdout",
     "output_type": "stream",
     "text": [
      "All Extracted:moving on to next segment\n",
      "https://api.crossref.org/works?query=Automated+literature+and+systematic+Reviews&filter=type:journal-article,from-created-date:2004-11-25,until-created-date:2004-12-09&select=DOI,title,score,created,abstract&rows=1000&cursor=DnF1ZXJ5VGhlbkZldGNoBgAAAAASOWSIFkhUQjJYNFlSVFVPT1k5bVZmVDQzQXcAAAAAD46cJhY0amo4YndCWVRadUx4QV9WQlVKWHdnAAAAAADnEkYWMUZXWVdYT3hUZTZtQzNpVGM3NzZoUQAAAAASuMoIFk5qWk1fWm1iUVV1V3Nwd3MxN3FqQ3cAAAAAEjkE_BZDNTBUdXhPeVM0bUg3UnZzcl9lR2N3AAAAABCHVG4WSTFVWlpBeGRTWi1nRllxOU9nQUYydw== \n",
      "\n",
      "*************\n",
      "All Extracted:moving on to next segment\n",
      "https://api.crossref.org/works?query=Automated+literature+and+systematic+Reviews&filter=type:journal-article,from-created-date:2004-12-09,until-created-date:2004-12-23&select=DOI,title,score,created,abstract&rows=1000&cursor=DnF1ZXJ5VGhlbkZldGNoBgAAAAASOWTmFkhUQjJYNFlSVFVPT1k5bVZmVDQzQXcAAAAAD46cixY0amo4YndCWVRadUx4QV9WQlVKWHdnAAAAABcXxo0WR25aQ25BM09Rb0ctLThhTmdORDh1ZwAAAAASuMqTFk5qWk1fWm1iUVV1V3Nwd3MxN3FqQ3cAAAAAEjkFjhZDNTBUdXhPeVM0bUg3UnZzcl9lR2N3AAAAABCLhKEWaDRJMjhrcXVUOGE3dDI1VDhnWHMyZw== \n",
      "\n",
      "*************\n",
      "All Extracted:moving on to next segment\n",
      "https://api.crossref.org/works?query=Automated+literature+and+systematic+Reviews&filter=type:journal-article,from-created-date:2004-12-23,until-created-date:2005-01-06&select=DOI,title,score,created,abstract&rows=1000&cursor=DnF1ZXJ5VGhlbkZldGNoBgAAAAASOWWNFkhUQjJYNFlSVFVPT1k5bVZmVDQzQXcAAAAAD46dNBY0amo4YndCWVRadUx4QV9WQlVKWHdnAAAAABcXx3gWR25aQ25BM09Rb0ctLThhTmdORDh1ZwAAAAASuMt5Fk5qWk1fWm1iUVV1V3Nwd3MxN3FqQ3cAAAAAEjkGcxZDNTBUdXhPeVM0bUg3UnZzcl9lR2N3AAAAABCLhSIWaDRJMjhrcXVUOGE3dDI1VDhnWHMyZw== \n",
      "\n",
      "*************\n",
      "All Extracted:moving on to next segment\n",
      "https://api.crossref.org/works?query=Automated+literature+and+systematic+Reviews&filter=type:journal-article,from-created-date:2005-01-06,until-created-date:2005-01-20&select=DOI,title,score,created,abstract&rows=1000&cursor=DnF1ZXJ5VGhlbkZldGNoBgAAAAASOWX4FkhUQjJYNFlSVFVPT1k5bVZmVDQzQXcAAAAAFxfIBxZHblpDbkEzT1FvRy0tOGFOZ05EOHVnAAAAABcXyAYWR25aQ25BM09Rb0ctLThhTmdORDh1ZwAAAAASuMwzFk5qWk1fWm1iUVV1V3Nwd3MxN3FqQ3cAAAAAEAaBvxZfNEZlTDBRZ1FuLWZ4NVhlZU9MYzN3AAAAABCLhW0WaDRJMjhrcXVUOGE3dDI1VDhnWHMyZw== \n",
      "\n",
      "*************\n",
      "All Extracted:moving on to next segment\n",
      "https://api.crossref.org/works?query=Automated+literature+and+systematic+Reviews&filter=type:journal-article,from-created-date:2005-01-20,until-created-date:2005-02-03&select=DOI,title,score,created,abstract&rows=1000&cursor=DnF1ZXJ5VGhlbkZldGNoBgAAAAASOWZLFkhUQjJYNFlSVFVPT1k5bVZmVDQzQXcAAAAAD46eBBY0amo4YndCWVRadUx4QV9WQlVKWHdnAAAAAADnFVgWMUZXWVdYT3hUZTZtQzNpVGM3NzZoUQAAAAASuMyjFk5qWk1fWm1iUVV1V3Nwd3MxN3FqQ3cAAAAAEjkHnBZDNTBUdXhPeVM0bUg3UnZzcl9lR2N3AAAAABCLhbUWaDRJMjhrcXVUOGE3dDI1VDhnWHMyZw== \n",
      "\n",
      "*************\n",
      "All Extracted:moving on to next segment\n",
      "https://api.crossref.org/works?query=Automated+literature+and+systematic+Reviews&filter=type:journal-article,from-created-date:2005-02-03,until-created-date:2005-02-17&select=DOI,title,score,created,abstract&rows=1000&cursor=DnF1ZXJ5VGhlbkZldGNoBgAAAAASOWa5FkhUQjJYNFlSVFVPT1k5bVZmVDQzQXcAAAAAD46eZxY0amo4YndCWVRadUx4QV9WQlVKWHdnAAAAAADnFfAWMUZXWVdYT3hUZTZtQzNpVGM3NzZoUQAAAAASuM1JFk5qWk1fWm1iUVV1V3Nwd3MxN3FqQ3cAAAAAEjkILBZDNTBUdXhPeVM0bUg3UnZzcl9lR2N3AAAAABCLhhEWaDRJMjhrcXVUOGE3dDI1VDhnWHMyZw== \n",
      "\n",
      "*************\n",
      "All Extracted:moving on to next segment\n"
     ]
    }
   ],
   "source": [
    "start = time.time()\n",
    "cursors_li=[]\n",
    "missed_records = []\n",
    "\n",
    "for seg in range(len(date_list)):\n",
    "    \n",
    "    if len(date_list) == seg+1:\n",
    "        break\n",
    "    else:  \n",
    "        url = init_url(date_list[seg:seg+2])\n",
    "        response = requests.get(url).text\n",
    "        response_info = json.loads(response)\n",
    "        \n",
    "        if len(response_info['message']['items']) !=0:\n",
    "            pl = test_col.insert_many(response_info['message']['items'])\n",
    "            a = response_info['message']['next-cursor']\n",
    "            cursors_li.append(a)\n",
    "            url = cursor_url(date_list[seg:seg+2], a)\n",
    "            print(url,\"\\n\\n*************\")\n",
    "            ct = 0\n",
    "            while len(response_info['message']['items']) != 0:\n",
    "                try:\n",
    "                    response = requests.get(url).text\n",
    "                    response_info = json.loads(response)\n",
    "                    pl = test_col.insert_many(response_info['message']['items'])\n",
    "                    #a = response_info['message']['next-cursor']\n",
    "                    #url = cursor_url(date_list[seg:seg+2], a)\n",
    "                except:\n",
    "                    #if there is no response from the api for a url, which means either it timed out\n",
    "                    #or exhausted, in that case the message will be\n",
    "                    #empty and there will be nothing to enter in the database\n",
    "                    #this exception handler will handle such cases\n",
    "                    ct +=1\n",
    "                    if ct==1:\n",
    "                        print(\"All Extracted:moving on to next segment\")\n",
    "                    else:\n",
    "                        #save the url\n",
    "                        missed_records.append(url)\n",
    "                        print(\"API timed out:skipping and moving on to next segment\")\n",
    "                        #get out of the while loop and fetch records for the next segment\n",
    "                        break\n",
    "        else:\n",
    "            continue\n",
    "\n",
    "        \n",
    "end = time.time()\n",
    "print(end-start)\n",
    "\n",
    "#need to add a condition which checks if the while is stuck for one request for a long time"
   ]
  },
  {
   "cell_type": "code",
   "execution_count": 32,
   "id": "263eaa65",
   "metadata": {},
   "outputs": [],
   "source": [
    "# test_dict = { \"surname\": \"Adamyan\", \"address\": \"Meliq Adamyan 1\",\n",
    "#              \"city\": \"Yerevan\" }\n",
    "# pl = test_col.insert_one(test_dict)"
   ]
  },
  {
   "cell_type": "code",
   "execution_count": 33,
   "id": "d33bf73b",
   "metadata": {},
   "outputs": [
    {
     "name": "stdout",
     "output_type": "stream",
     "text": [
      "thesis ← database exists\n"
     ]
    }
   ],
   "source": [
    "db_name = \"thesis\"\n",
    "test_client = pymongo.MongoClient('mongodb://localhost:27017/')\n",
    "test_db = test_client[db_name]\n",
    "\n",
    "\n",
    "def check_for_db(test_client,db_name):\n",
    "    dblist = test_client.list_database_names()\n",
    "    if db_name in dblist:\n",
    "        print(db_name + ' ← database exists')\n",
    "    else:\n",
    "        print(db_name + ' ← database does NOT exists')\n",
    "check_for_db(test_client,db_name) # check if database exists or not"
   ]
  },
  {
   "cell_type": "code",
   "execution_count": 34,
   "id": "3b0bb223",
   "metadata": {},
   "outputs": [],
   "source": [
    "col_name='query_results_full_load'\n",
    "test_col = test_db[col_name]"
   ]
  },
  {
   "cell_type": "code",
   "execution_count": 35,
   "id": "1913077b",
   "metadata": {},
   "outputs": [],
   "source": [
    "x = test_col.find()"
   ]
  },
  {
   "cell_type": "code",
   "execution_count": 36,
   "id": "56fba6b3",
   "metadata": {},
   "outputs": [],
   "source": [
    "li_all=[]\n",
    "for data in x:\n",
    "    li_all.append(data)"
   ]
  },
  {
   "cell_type": "code",
   "execution_count": 37,
   "id": "698b39f5",
   "metadata": {},
   "outputs": [
    {
     "data": {
      "text/plain": [
       "67706"
      ]
     },
     "execution_count": 37,
     "metadata": {},
     "output_type": "execute_result"
    }
   ],
   "source": [
    "len(li_all)"
   ]
  },
  {
   "cell_type": "code",
   "execution_count": 38,
   "id": "93384b51",
   "metadata": {},
   "outputs": [
    {
     "data": {
      "text/plain": [
       "[{'_id': ObjectId('6386273cf28ca9b4aebb11ed'),\n",
       "  'DOI': '10.1080/146392400445891',\n",
       "  'title': ['Software reviews'],\n",
       "  'score': 15.07332,\n",
       "  'created': {'date-parts': [[2002, 7, 26]],\n",
       "   'date-time': '2002-07-26T12:14:43Z',\n",
       "   'timestamp': 1027685683000}},\n",
       " {'_id': ObjectId('6386273cf28ca9b4aebb11ee'),\n",
       "  'DOI': '10.1046/j.1365-3113.2002.00180.x',\n",
       "  'title': ['Book Reviews'],\n",
       "  'score': 15.033997,\n",
       "  'created': {'date-parts': [[2002, 7, 28]],\n",
       "   'date-time': '2002-07-28T21:46:32Z',\n",
       "   'timestamp': 1027892792000}}]"
      ]
     },
     "execution_count": 38,
     "metadata": {},
     "output_type": "execute_result"
    }
   ],
   "source": [
    "li_all[1:3]"
   ]
  },
  {
   "cell_type": "code",
   "execution_count": 144,
   "id": "0f12e0c3",
   "metadata": {},
   "outputs": [],
   "source": [
    "df_all = pd.DataFrame(li_all)"
   ]
  },
  {
   "cell_type": "code",
   "execution_count": 145,
   "id": "38a1ddb4",
   "metadata": {},
   "outputs": [],
   "source": [
    "#drop duplicates is present\n",
    "df_all.drop_duplicates(subset=['DOI'],inplace=True)"
   ]
  },
  {
   "cell_type": "code",
   "execution_count": 105,
   "id": "9672d2b6",
   "metadata": {},
   "outputs": [
    {
     "data": {
      "text/plain": [
       "(34853, 6)"
      ]
     },
     "execution_count": 105,
     "metadata": {},
     "output_type": "execute_result"
    }
   ],
   "source": [
    "df_all.shape"
   ]
  },
  {
   "cell_type": "code",
   "execution_count": 106,
   "id": "7598c9e1",
   "metadata": {},
   "outputs": [
    {
     "data": {
      "text/html": [
       "<div>\n",
       "<style scoped>\n",
       "    .dataframe tbody tr th:only-of-type {\n",
       "        vertical-align: middle;\n",
       "    }\n",
       "\n",
       "    .dataframe tbody tr th {\n",
       "        vertical-align: top;\n",
       "    }\n",
       "\n",
       "    .dataframe thead th {\n",
       "        text-align: right;\n",
       "    }\n",
       "</style>\n",
       "<table border=\"1\" class=\"dataframe\">\n",
       "  <thead>\n",
       "    <tr style=\"text-align: right;\">\n",
       "      <th></th>\n",
       "      <th>_id</th>\n",
       "      <th>DOI</th>\n",
       "      <th>title</th>\n",
       "      <th>score</th>\n",
       "      <th>created</th>\n",
       "      <th>abstract</th>\n",
       "    </tr>\n",
       "  </thead>\n",
       "  <tbody>\n",
       "    <tr>\n",
       "      <th>0</th>\n",
       "      <td>6386273cf28ca9b4aebb11ec</td>\n",
       "      <td>10.1136/bmj.323.7312.546</td>\n",
       "      <td>[Assessment of therapeutic safety in systemati...</td>\n",
       "      <td>17.001375</td>\n",
       "      <td>{'date-parts': [[2002, 7, 27]], 'date-time': '...</td>\n",
       "      <td>NaN</td>\n",
       "    </tr>\n",
       "    <tr>\n",
       "      <th>1</th>\n",
       "      <td>6386273cf28ca9b4aebb11ed</td>\n",
       "      <td>10.1080/146392400445891</td>\n",
       "      <td>[Software reviews]</td>\n",
       "      <td>15.073320</td>\n",
       "      <td>{'date-parts': [[2002, 7, 26]], 'date-time': '...</td>\n",
       "      <td>NaN</td>\n",
       "    </tr>\n",
       "    <tr>\n",
       "      <th>2</th>\n",
       "      <td>6386273cf28ca9b4aebb11ee</td>\n",
       "      <td>10.1046/j.1365-3113.2002.00180.x</td>\n",
       "      <td>[Book Reviews]</td>\n",
       "      <td>15.033997</td>\n",
       "      <td>{'date-parts': [[2002, 7, 28]], 'date-time': '...</td>\n",
       "      <td>NaN</td>\n",
       "    </tr>\n",
       "    <tr>\n",
       "      <th>3</th>\n",
       "      <td>6386273cf28ca9b4aebb11ef</td>\n",
       "      <td>10.1136/bmj.323.7306.224</td>\n",
       "      <td>[Systematic reviews in health care: Systematic...</td>\n",
       "      <td>14.969360</td>\n",
       "      <td>{'date-parts': [[2002, 7, 27]], 'date-time': '...</td>\n",
       "      <td>NaN</td>\n",
       "    </tr>\n",
       "    <tr>\n",
       "      <th>4</th>\n",
       "      <td>6386273cf28ca9b4aebb11f0</td>\n",
       "      <td>10.1046/j.1365-3113.1999.00077.x</td>\n",
       "      <td>[Book Reviews]</td>\n",
       "      <td>14.920623</td>\n",
       "      <td>{'date-parts': [[2002, 7, 26]], 'date-time': '...</td>\n",
       "      <td>NaN</td>\n",
       "    </tr>\n",
       "  </tbody>\n",
       "</table>\n",
       "</div>"
      ],
      "text/plain": [
       "                        _id                               DOI  \\\n",
       "0  6386273cf28ca9b4aebb11ec          10.1136/bmj.323.7312.546   \n",
       "1  6386273cf28ca9b4aebb11ed           10.1080/146392400445891   \n",
       "2  6386273cf28ca9b4aebb11ee  10.1046/j.1365-3113.2002.00180.x   \n",
       "3  6386273cf28ca9b4aebb11ef          10.1136/bmj.323.7306.224   \n",
       "4  6386273cf28ca9b4aebb11f0  10.1046/j.1365-3113.1999.00077.x   \n",
       "\n",
       "                                               title      score  \\\n",
       "0  [Assessment of therapeutic safety in systemati...  17.001375   \n",
       "1                                 [Software reviews]  15.073320   \n",
       "2                                     [Book Reviews]  15.033997   \n",
       "3  [Systematic reviews in health care: Systematic...  14.969360   \n",
       "4                                     [Book Reviews]  14.920623   \n",
       "\n",
       "                                             created abstract  \n",
       "0  {'date-parts': [[2002, 7, 27]], 'date-time': '...      NaN  \n",
       "1  {'date-parts': [[2002, 7, 26]], 'date-time': '...      NaN  \n",
       "2  {'date-parts': [[2002, 7, 28]], 'date-time': '...      NaN  \n",
       "3  {'date-parts': [[2002, 7, 27]], 'date-time': '...      NaN  \n",
       "4  {'date-parts': [[2002, 7, 26]], 'date-time': '...      NaN  "
      ]
     },
     "execution_count": 106,
     "metadata": {},
     "output_type": "execute_result"
    }
   ],
   "source": [
    "df_all.head()"
   ]
  },
  {
   "cell_type": "code",
   "execution_count": 107,
   "id": "e566270a",
   "metadata": {},
   "outputs": [
    {
     "data": {
      "text/plain": [
       "_id             0\n",
       "DOI             0\n",
       "title          13\n",
       "score           0\n",
       "created         0\n",
       "abstract    33536\n",
       "dtype: int64"
      ]
     },
     "execution_count": 107,
     "metadata": {},
     "output_type": "execute_result"
    }
   ],
   "source": [
    "df_all.isna().sum() #no na values"
   ]
  },
  {
   "cell_type": "code",
   "execution_count": 146,
   "id": "e318eecb",
   "metadata": {},
   "outputs": [],
   "source": [
    "df_all.dropna(subset=['title','abstract'],inplace=True)"
   ]
  },
  {
   "cell_type": "code",
   "execution_count": 109,
   "id": "bd479787",
   "metadata": {},
   "outputs": [
    {
     "data": {
      "text/plain": [
       "(1317, 6)"
      ]
     },
     "execution_count": 109,
     "metadata": {},
     "output_type": "execute_result"
    }
   ],
   "source": [
    "df_all.shape"
   ]
  },
  {
   "cell_type": "code",
   "execution_count": 147,
   "id": "261107c4",
   "metadata": {},
   "outputs": [],
   "source": [
    "df_all.reset_index(inplace=True)"
   ]
  },
  {
   "cell_type": "code",
   "execution_count": 111,
   "id": "88e08901",
   "metadata": {},
   "outputs": [
    {
     "data": {
      "text/plain": [
       "'<jats:p>Chronic obstructive pulmonary disease (COPD) is the fifth leading\\n   cause of mortality in the USA. For 1984 to 1993, among\\n   Canadian seniors aged over 65, COPD was the fourth cause of mortality\\n   in men and the seventh in women. Though the underlying\\n   pathology is initially confined to the lungs, the associated physical\\n   deconditioning and the emotional responses to chronic respiratory\\n   disease contribute greatly to the resulting morbidity. Increased\\n   shortness of breath leads to inactivity and consequent\\n   cardiorespiratory and muscular deconditioning, which in turn leads to\\n   further inactivity, social isolation, fear of dyspnoea and\\n   depression. Respiratory rehabilitation may offer a way to break this vicious circle.</jats:p>'"
      ]
     },
     "execution_count": 111,
     "metadata": {},
     "output_type": "execute_result"
    }
   ],
   "source": [
    "df_all.loc[0,'abstract']"
   ]
  },
  {
   "cell_type": "code",
   "execution_count": 113,
   "id": "8bdf63cf",
   "metadata": {},
   "outputs": [],
   "source": [
    "text = \" \".join(tl for tl in df_all.abstract)\n",
    "text_t = \" \".join(tl[0] for tl in df_all.title) #for title"
   ]
  },
  {
   "cell_type": "code",
   "execution_count": 115,
   "id": "f5b87821",
   "metadata": {},
   "outputs": [
    {
     "data": {
      "text/plain": [
       "'<jats:p>Chronic obstructive pulmonary disease (COPD) is the fifth leading\\n   cause of mortality in the USA. For 1984 to 1993, among\\n   Canadian seniors aged over 65, COPD was the fourth cause of mortality\\n   in men and the seventh in women. Though the underlying\\n   pathology is initially confined to the lungs, the associated physical\\n   deconditioning and the emotional responses to chronic respiratory\\n   disease contribute greatly to the resulting morbidity. Increased\\n   shortness of breath leads to inactivity and consequent\\n   cardiorespiratory and muscular deconditioning, which in turn leads to\\n   further inactivity, social isolation, fear of dyspnoea and\\n   depression. Respiratory rehabilitation may offer a way to break this vicious circle.</jats:p> <jats:p>Smokebusters is a community‐based smoking prevention initiative for young people which aims to prevent them from starting to smoke. Although the number of clubs throughout the UK and Europe has increased over the last decade, there is little evidence of the effectiveness of this initiative. The authors conducted a systematic review of published and unpublished health promotion evaluation reports in an attempt to assess the effectiveness of this intervention. This paper outlines the methodological and practical difficulties encountered when conducting a systematic review of a community‐based health promotion initiative.</jats:p> <jats:p>Conclusions about medical interventions or the causes of disease are based upon reviews of the \\nscientific literature. Single studies usually have limited statistical power or may be difficult to \\ninterpret or generalize and so the findings from a single study can rarely justify a change in clinical \\npractice or in an aetiological theory. Even when planning larger studies or mega-trials (Yusuf <jats:italic>et al.</jats:italic> \\n1984), a thorough review of existing literature is needed and the results of the study need to be \\nplaced in that context, though single studies can exer'"
      ]
     },
     "execution_count": 115,
     "metadata": {},
     "output_type": "execute_result"
    }
   ],
   "source": [
    "text[0:2000]"
   ]
  },
  {
   "cell_type": "code",
   "execution_count": 119,
   "id": "3534ea99",
   "metadata": {},
   "outputs": [],
   "source": [
    "CLEANR = re.compile('<.*?>') \n",
    "\n",
    "def cleanhtml(raw_html):\n",
    "  cleantext = re.sub(CLEANR, '', raw_html)\n",
    "  return cleantext\n",
    "\n",
    "cleaned_text = cleanhtml(text)\n",
    "\n",
    "#cleaned_text = re.sub('\\W+',' ',text)\n",
    "cleaned_text = re.sub('[^A-Za-z0-9]+',' ',text)"
   ]
  },
  {
   "cell_type": "code",
   "execution_count": 123,
   "id": "1fee41ba",
   "metadata": {},
   "outputs": [
    {
     "data": {
      "image/png": "[encoded data removed]",
      "text/plain": [
       "<Figure size 432x288 with 1 Axes>"
      ]
     },
     "metadata": {
      "needs_background": "light"
     },
     "output_type": "display_data"
    }
   ],
   "source": [
    "# Create stopword list:\n",
    "stopwords = set(STOPWORDS)\n",
    "stopwords.update([\"p\",\"jats\",\"italic\",\"bold\",\"abstract\",\"sup\",\"sub\",\"sup\",\"two\",\"s\",\"sec\",\"h\",\"e\",\"one\",\"new\",\"may\"])\n",
    "\n",
    "# Generate a word cloud image\n",
    "wordcloud = WordCloud(width = 1000, height = 1000,stopwords=stopwords, background_color=\"white\").generate(cleaned_text)\n",
    "\n",
    "# Display the generated image:\n",
    "# the matplotlib way:\n",
    "plt.imshow(wordcloud, interpolation='bilinear')\n",
    "plt.axis(\"off\")\n",
    "plt.show()"
   ]
  },
  {
   "cell_type": "code",
   "execution_count": 148,
   "id": "f88cb01b",
   "metadata": {},
   "outputs": [],
   "source": [
    "def preprocess_text(df):\n",
    "    \n",
    "    CLEANR = re.compile('<.*?>') \n",
    "\n",
    "    def cleanhtml(raw_html):\n",
    "      cleantext = re.sub(CLEANR, '', raw_html)\n",
    "      return cleantext\n",
    "\n",
    "    df = df.map(lambda x: cleanhtml(x))\n",
    "\n",
    "    df = df.map(lambda x: re.sub('[^A-Za-z0-9]+',' ',x))\n",
    "\n",
    "    df = df.map(lambda x: x.lower(  ))\n",
    "\n",
    "    df = df.map(lambda x: remove_stopwords(x))\n",
    "\n",
    "    df = df.map(lambda x: x.split())\n",
    "    \n",
    "    return df"
   ]
  },
  {
   "cell_type": "code",
   "execution_count": 149,
   "id": "d1c51288",
   "metadata": {},
   "outputs": [],
   "source": [
    "#converted the title type from list to string\n",
    "df_all['title'] =  df_all['title'].map(lambda x: x[0])\n",
    "df_all['title'] = preprocess_text(df_all['title'])"
   ]
  },
  {
   "cell_type": "code",
   "execution_count": 151,
   "id": "535298cc",
   "metadata": {},
   "outputs": [],
   "source": [
    "df_all['abstract'] = preprocess_text(df_all['abstract'])"
   ]
  },
  {
   "cell_type": "code",
   "execution_count": 152,
   "id": "55d2e34a",
   "metadata": {},
   "outputs": [
    {
     "data": {
      "text/html": [
       "<div>\n",
       "<style scoped>\n",
       "    .dataframe tbody tr th:only-of-type {\n",
       "        vertical-align: middle;\n",
       "    }\n",
       "\n",
       "    .dataframe tbody tr th {\n",
       "        vertical-align: top;\n",
       "    }\n",
       "\n",
       "    .dataframe thead th {\n",
       "        text-align: right;\n",
       "    }\n",
       "</style>\n",
       "<table border=\"1\" class=\"dataframe\">\n",
       "  <thead>\n",
       "    <tr style=\"text-align: right;\">\n",
       "      <th></th>\n",
       "      <th>index</th>\n",
       "      <th>_id</th>\n",
       "      <th>DOI</th>\n",
       "      <th>title</th>\n",
       "      <th>score</th>\n",
       "      <th>created</th>\n",
       "      <th>abstract</th>\n",
       "    </tr>\n",
       "  </thead>\n",
       "  <tbody>\n",
       "    <tr>\n",
       "      <th>0</th>\n",
       "      <td>6</td>\n",
       "      <td>6386273cf28ca9b4aebb11f2</td>\n",
       "      <td>10.1017/s0959259897007466</td>\n",
       "      <td>[respiratory, rehabilitation, chronic, obstruc...</td>\n",
       "      <td>14.500789</td>\n",
       "      <td>{'date-parts': [[2002, 7, 27]], 'date-time': '...</td>\n",
       "      <td>[chronic, obstructive, pulmonary, disease, cop...</td>\n",
       "    </tr>\n",
       "    <tr>\n",
       "      <th>1</th>\n",
       "      <td>64</td>\n",
       "      <td>6386273cf28ca9b4aebb122c</td>\n",
       "      <td>10.1108/09654289910256941</td>\n",
       "      <td>[systematic, reviews, health, promotion, initi...</td>\n",
       "      <td>11.425545</td>\n",
       "      <td>{'date-parts': [[2002, 7, 28]], 'date-time': '...</td>\n",
       "      <td>[smokebusters, community, based, smoking, prev...</td>\n",
       "    </tr>\n",
       "    <tr>\n",
       "      <th>2</th>\n",
       "      <td>80</td>\n",
       "      <td>6386273cf28ca9b4aebb123c</td>\n",
       "      <td>10.1017/s0033291796004291</td>\n",
       "      <td>[editorial, systematic, reviews, meta, analysis]</td>\n",
       "      <td>11.167559</td>\n",
       "      <td>{'date-parts': [[2002, 7, 27]], 'date-time': '...</td>\n",
       "      <td>[conclusions, medical, interventions, causes, ...</td>\n",
       "    </tr>\n",
       "    <tr>\n",
       "      <th>3</th>\n",
       "      <td>99</td>\n",
       "      <td>6386273cf28ca9b4aebb124f</td>\n",
       "      <td>10.1191/0269215502cr469oa</td>\n",
       "      <td>[systematic, reviews, rehabilitation, stroke, ...</td>\n",
       "      <td>10.602030</td>\n",
       "      <td>{'date-parts': [[2002, 7, 27]], 'date-time': '...</td>\n",
       "      <td>[objectives, problems, encountered, undertakin...</td>\n",
       "    </tr>\n",
       "    <tr>\n",
       "      <th>4</th>\n",
       "      <td>116</td>\n",
       "      <td>6386273cf28ca9b4aebb1260</td>\n",
       "      <td>10.1161/hs0202.102880</td>\n",
       "      <td>[costs, benefits, carotid, endarterectomy, ass...</td>\n",
       "      <td>10.192738</td>\n",
       "      <td>{'date-parts': [[2002, 7, 28]], 'date-time': '...</td>\n",
       "      <td>[background, purpose, carotid, endarterectomy,...</td>\n",
       "    </tr>\n",
       "  </tbody>\n",
       "</table>\n",
       "</div>"
      ],
      "text/plain": [
       "   index                       _id                        DOI  \\\n",
       "0      6  6386273cf28ca9b4aebb11f2  10.1017/s0959259897007466   \n",
       "1     64  6386273cf28ca9b4aebb122c  10.1108/09654289910256941   \n",
       "2     80  6386273cf28ca9b4aebb123c  10.1017/s0033291796004291   \n",
       "3     99  6386273cf28ca9b4aebb124f  10.1191/0269215502cr469oa   \n",
       "4    116  6386273cf28ca9b4aebb1260      10.1161/hs0202.102880   \n",
       "\n",
       "                                               title      score  \\\n",
       "0  [respiratory, rehabilitation, chronic, obstruc...  14.500789   \n",
       "1  [systematic, reviews, health, promotion, initi...  11.425545   \n",
       "2   [editorial, systematic, reviews, meta, analysis]  11.167559   \n",
       "3  [systematic, reviews, rehabilitation, stroke, ...  10.602030   \n",
       "4  [costs, benefits, carotid, endarterectomy, ass...  10.192738   \n",
       "\n",
       "                                             created  \\\n",
       "0  {'date-parts': [[2002, 7, 27]], 'date-time': '...   \n",
       "1  {'date-parts': [[2002, 7, 28]], 'date-time': '...   \n",
       "2  {'date-parts': [[2002, 7, 27]], 'date-time': '...   \n",
       "3  {'date-parts': [[2002, 7, 27]], 'date-time': '...   \n",
       "4  {'date-parts': [[2002, 7, 28]], 'date-time': '...   \n",
       "\n",
       "                                            abstract  \n",
       "0  [chronic, obstructive, pulmonary, disease, cop...  \n",
       "1  [smokebusters, community, based, smoking, prev...  \n",
       "2  [conclusions, medical, interventions, causes, ...  \n",
       "3  [objectives, problems, encountered, undertakin...  \n",
       "4  [background, purpose, carotid, endarterectomy,...  "
      ]
     },
     "execution_count": 152,
     "metadata": {},
     "output_type": "execute_result"
    }
   ],
   "source": [
    "df_all.head()"
   ]
  },
  {
   "cell_type": "code",
   "execution_count": 158,
   "id": "3b9eb90d",
   "metadata": {},
   "outputs": [],
   "source": [
    "tokenize = df_all['abstract']"
   ]
  },
  {
   "cell_type": "code",
   "execution_count": 153,
   "id": "daca83ed",
   "metadata": {},
   "outputs": [],
   "source": [
    "\n",
    "# df_all['abstract']= df_all['abstract'].map(lambda x: remove_stopwords(x))\n",
    "# #n-gram transformation, tokenizing\n",
    "\n",
    "\n",
    "# tokenize = df_all['abstract'].map(lambda x: x.split())\n",
    "\n",
    "# df_all.head()"
   ]
  },
  {
   "cell_type": "code",
   "execution_count": 159,
   "id": "64a9d13d",
   "metadata": {},
   "outputs": [],
   "source": [
    "#train W2V model, generate W2V embeddings\n",
    "# define training data\n",
    "sentences = tokenize\n",
    "# train model\n",
    "model = Word2Vec(sentences, min_count=1)"
   ]
  },
  {
   "cell_type": "code",
   "execution_count": 160,
   "id": "caf6032b",
   "metadata": {},
   "outputs": [
    {
     "name": "stdout",
     "output_type": "stream",
     "text": [
      "Word2Vec<vocab=18166, vector_size=100, alpha=0.025>\n"
     ]
    }
   ],
   "source": [
    "# summarize the loaded model\n",
    "print(model)"
   ]
  },
  {
   "cell_type": "code",
   "execution_count": 161,
   "id": "5855a270",
   "metadata": {},
   "outputs": [
    {
     "name": "stdout",
     "output_type": "stream",
     "text": [
      "['1', 's', '2', 'new', 'species', '3', 'theory', 'quantum', 'studies', 'formula']\n",
      "Word2Vec<vocab=18166, vector_size=100, alpha=0.025>\n"
     ]
    }
   ],
   "source": [
    "# summarize vocabulary\n",
    "words = list(model.wv.key_to_index)\n",
    "print(words[0:10])\n",
    "# save model\n",
    "model.save('model.bin')\n",
    "# load model\n",
    "new_model = Word2Vec.load('model.bin')\n",
    "print(new_model)"
   ]
  },
  {
   "cell_type": "code",
   "execution_count": 162,
   "id": "5567d4cd",
   "metadata": {},
   "outputs": [
    {
     "data": {
      "text/plain": [
       "[('data', 0.9998142719268799),\n",
       " ('analysis', 0.9998125433921814),\n",
       " ('disease', 0.9998041391372681),\n",
       " ('results', 0.9997997283935547),\n",
       " ('information', 0.9997977614402771),\n",
       " ('years', 0.9997963309288025),\n",
       " ('developed', 0.9997959733009338),\n",
       " ('studies', 0.9997848272323608),\n",
       " ('systems', 0.9997822046279907),\n",
       " ('different', 0.9997801780700684)]"
      ]
     },
     "execution_count": 162,
     "metadata": {},
     "output_type": "execute_result"
    }
   ],
   "source": [
    "#calculate similarity, reduce dimensions, plot graph\n",
    "model.wv.most_similar('literature')"
   ]
  },
  {
   "cell_type": "code",
   "execution_count": null,
   "id": "69ac151c",
   "metadata": {},
   "outputs": [],
   "source": []
  },
  {
   "cell_type": "code",
   "execution_count": 59,
   "id": "6f6cd7cc",
   "metadata": {},
   "outputs": [],
   "source": [
    "# print(pl.inserted_id)\n"
   ]
  },
  {
   "cell_type": "code",
   "execution_count": 60,
   "id": "f15f3522",
   "metadata": {},
   "outputs": [],
   "source": [
    "# test_df = pd.DataFrame(li,columns=['objId','DOI','title','score'])"
   ]
  },
  {
   "cell_type": "code",
   "execution_count": 61,
   "id": "d7425039",
   "metadata": {},
   "outputs": [],
   "source": [
    "#response_info['message']['items']"
   ]
  },
  {
   "cell_type": "code",
   "execution_count": 62,
   "id": "cf6fd73f",
   "metadata": {},
   "outputs": [],
   "source": [
    "## insert many players\n",
    "# db_name='players'\n",
    "# col_name='coach'\n",
    "# test_client = pymongo.MongoClient(\"mongodb://localhost:27017/\")\n",
    "# test_db = test_client[db_name]\n",
    "# test_col = test_db[col_name]\n",
    "# test_list=[{ \"surname\": \"player1\", \"address\": \"Meliq Adamyan 1\",\n",
    "#             \"city\": \"Yerevan1\" },\n",
    "#            { \"surname\": \"player2\", \"address\": \"Meliq Adamyan 2\",\n",
    "#             \"city\": \"Yerevan2\" },\n",
    "#            { \"surname\": \"player3\", \"address\": \"Meliq Adamyan 3\",\n",
    "#             \"city\": \"Yerevan3\" },\n",
    "#            { \"surname\": \"player4\", \"address\": \"Meliq Adamyan 4\",\n",
    "#             \"city\": \"Yerevan4\" }\n",
    "#            ]\n",
    "\n",
    "#print list of the _id values of the inserted players:\n"
   ]
  }
 ],
 "metadata": {
  "kernelspec": {
   "display_name": "Python 3 (ipykernel)",
   "language": "python",
   "name": "python3"
  },
  "language_info": {
   "codemirror_mode": {
    "name": "ipython",
    "version": 3
   },
   "file_extension": ".py",
   "mimetype": "text/x-python",
   "name": "python",
   "nbconvert_exporter": "python",
   "pygments_lexer": "ipython3",
   "version": "3.9.7"
  }
 },
 "nbformat": 4,
 "nbformat_minor": 5
}
